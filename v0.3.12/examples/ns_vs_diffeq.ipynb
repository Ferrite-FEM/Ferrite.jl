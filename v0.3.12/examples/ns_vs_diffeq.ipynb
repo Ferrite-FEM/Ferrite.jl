{
 "cells": [
  {
   "cell_type": "markdown",
   "source": [
    "# Incompressible Navier-Stokes Equations via DifferentialEquations.jl\n",
    "\n",
    "![](https://user-images.githubusercontent.com/9196588/134514213-76d91d34-19ab-47c2-957e-16bb0c8669e1.gif)\n",
    "\n",
    "\n",
    "In this example we focus on a simple but visually appealing problem from\n",
    "fluid dynamics, namely vortex shedding. This problem is also known as\n",
    "[von-Karman vortex streets](https://en.wikipedia.org/wiki/K%C3%A1rm%C3%A1n_vortex_street). Within this example, we show how to utilize [DifferentialEquations.jl](https://github.com/SciML/DifferentialEquations.jl)\n",
    "in tandem with Ferrite.jl to solve this space-time problem. To keep things simple we use a naive approach\n",
    "to discretize the system.\n",
    "\n",
    "## Remarks on DifferentialEquations.jl\n",
    "\n",
    "Many \"time step solvers\" of [DifferentialEquations.jl](https://github.com/SciML/DifferentialEquations.jl) assume that that the\n",
    "problem is provided in mass matrix form. The incompressible Navier-Stokes\n",
    "equations as stated above yield a DAE in this form after applying a spatial\n",
    "discretization technique - in our case FEM. The mass matrix form of ODEs and DAEs\n",
    "is given as:\n",
    "$$\n",
    "  M(t) \\mathrm{d}_t u = f(u,t)\n",
    "$$\n",
    "where $M$ is a possibly time-dependent and not necessarily invertible mass matrix,\n",
    "$u$ the vector of unknowns and $f$ the right-hand-side (RHS). For us $f$ can be interpreted as\n",
    "the spatial discretization of all linear and nonlinear operators depending on $u$ and $t$,\n",
    "but not on the time derivative of $u$.\n",
    "\n",
    "## Some Theory on the Incompressible Navier-Stokes Equations\n",
    "\n",
    "### Problem Description in Strong Form\n",
    "\n",
    "The incompressible Navier-Stokes equations can be stated as the system\n",
    "$$\n",
    " \\begin{aligned}\n",
    "   \\partial_t v &= \\underbrace{\\nu \\Delta v}_{\\text{viscosity}} - \\underbrace{(v \\cdot \\nabla) v}_{\\text{advection}} - \\underbrace{\\nabla p}_{\\text{pressure}} \\\\\n",
    "              0 &= \\underbrace{\\nabla \\cdot v}_{\\text{incompressibility}}\n",
    " \\end{aligned}\n",
    "$$\n",
    "where $v$ is the unknown velocity field, $p$ the unknown pressure field,\n",
    "$\\nu$ the dynamic viscosity and $\\Delta$ the Laplacian. In the derivation we assumed\n",
    "a constant density of 1 for the fluid and negligible coupling between the velocity components.\n",
    "Finally we see that the pressure term appears only in combination with the gradient\n",
    "operator, so for any solution $p$ the function $p + c$ is also an admissible solution, if\n",
    "we do not impose Dirichlet conditions on the pressure. To resolve this we introduce the\n",
    "implicit constraint that $ \\int_\\Omega p = 0 $.\n",
    "\n",
    "Our setup is derived from [Turek's DFG benchmark](http://www.mathematik.tu-dortmund.de/~featflow/en/benchmarks/cfdbenchmarking/flow/dfg_benchmark1_re20.html).\n",
    "We model a channel with size $0.41 \\times 2.2$ and a hole of radius $0.05$ centered at $(0.2, 0.2)$.\n",
    "The left side has a parabolic inflow profile, which is ramped up over time, modeled as the time dependent\n",
    "Dirichlet condition\n",
    "$$\n",
    " v(x,y,t)\n",
    " =\n",
    " \\begin{bmatrix}\n",
    "     4 v_{in}(t) y (0.41-y)/0.41^2 \\\\\n",
    "     0\n",
    " \\end{bmatrix}\n",
    "$$\n",
    "where $v_{in}(t) = \\text{clamp}(t, 0.0, 1.0)$. With a dynamic viscosity of $\\nu = 0.001$\n",
    "this is enough to induce turbulence behind the cylinder which leads to vortex shedding. The top and bottom of our\n",
    "channel have no-slip conditions, i.e. $v = [0,0]^{\\textrm{T}}$, while the right boundary has the do-nothing boundary condtion\n",
    "$\\nu \\partial_{\\textrm{n}} v - p n = 0$ to model outflow. With these boundary conditions we can choose the zero solution as a\n",
    "feasible initial condition.\n",
    "\n",
    "### Derivation of Semi-Discrete Weak Form\n",
    "\n",
    "By multiplying test functions $\\varphi$ and $\\psi$ from a suitable test function space on the strong form,\n",
    "followed by integrating over the domain and applying partial integration to the pressure and viscosity terms\n",
    "we can obtain the following weak form\n",
    "$$\n",
    " \\begin{aligned}\n",
    "   \\int_\\Omega \\partial_t v \\cdot \\varphi &= - \\int_\\Omega \\nu \\nabla v : \\nabla \\varphi - \\int_\\Omega (v \\cdot \\nabla) v \\cdot \\varphi + \\int_\\Omega p (\\nabla \\cdot \\varphi) + \\int_{\\partial \\Omega_{N}} \\underbrace{(\\nu \\partial_n v - p n )}_{=0} \\cdot \\varphi \\\\\n",
    "                                 0 &= \\int_\\Omega (\\nabla \\cdot v) \\psi\n",
    " \\end{aligned}\n",
    "$$\n",
    "for all possible test functions from the suitable space.\n",
    "\n",
    "Now we can discretize the problem as usual with the finite element method\n",
    "utilizing Taylor-Hood elements (Q2Q1) to yield a stable discretization in\n",
    "mass matrix form:\n",
    "$$\n",
    " \\underbrace{\\begin{bmatrix}\n",
    "     M_v & 0 \\\\\n",
    "      0  & 0\n",
    " \\end{bmatrix}}_{:=M}\n",
    " \\begin{bmatrix}\n",
    "     \\mathrm{d}_t\\hat{v} \\\\\n",
    "     \\mathrm{d}_t\\hat{p}\n",
    " \\end{bmatrix}\n",
    " =\n",
    " \\underbrace{\\begin{bmatrix}\n",
    "      A & B^{\\textrm{T}} \\\\\n",
    "      B & 0\n",
    " \\end{bmatrix}}_{:=K}\n",
    " \\begin{bmatrix}\n",
    "     \\hat{v} \\\\\n",
    "     \\hat{p}\n",
    " \\end{bmatrix}\n",
    " +\n",
    " \\begin{bmatrix}\n",
    "     N(\\hat{v}, \\hat{v}, \\hat{\\varphi}) \\\\\n",
    "     0\n",
    " \\end{bmatrix}\n",
    "$$\n",
    "Here $M$ is the singular block mass matrix, $K$ is the discretized Stokes operator and $N$ the nonlinear advection term, which\n",
    "is also called trilinear form. $\\hat{v}$ and $\\hat{p}$ represent the time-dependent vectors of nodal values of the discretizations\n",
    "of $v$ and $p$ respectively, while $\\hat{\\varphi}$ is the choice for the test function in the discretization. The hats are dropped\n",
    "in the implementation and only stated for clarity in this section.\n",
    "\n",
    "\n",
    "## Commented Implementation\n",
    "\n",
    "Now we solve the problem with Ferrite and [DifferentialEquations.jl](https://github.com/SciML/DifferentialEquations.jl). What follows is a program spliced with comments.\n",
    "The full program, without comments, can be found in the next section.\n",
    "\n",
    "First we load Ferrite and some other packages we need"
   ],
   "metadata": {}
  },
  {
   "outputs": [],
   "cell_type": "code",
   "source": [
    "using Ferrite, SparseArrays, BlockArrays, LinearAlgebra, UnPack, LinearSolve"
   ],
   "metadata": {},
   "execution_count": 1
  },
  {
   "cell_type": "markdown",
   "source": [
    "Since we do not need the complete DifferentialEquations suite, we just load the required ODE infrastructure, which can also handle\n",
    "DAEs in mass matrix form."
   ],
   "metadata": {}
  },
  {
   "outputs": [],
   "cell_type": "code",
   "source": [
    "using OrdinaryDiffEq"
   ],
   "metadata": {},
   "execution_count": 2
  },
  {
   "cell_type": "markdown",
   "source": [
    "We start off by defining our only material parameter."
   ],
   "metadata": {}
  },
  {
   "outputs": [],
   "cell_type": "code",
   "source": [
    "ν = 1.0/1000.0; #dynamic viscosity"
   ],
   "metadata": {},
   "execution_count": 3
  },
  {
   "cell_type": "markdown",
   "source": [
    "Next a fine 2D rectangular grid has to be generated. We leave the cell size parametric for flexibility when\n",
    "playing around with the code. Note that the mesh is pretty fine, leading to a high memory consumption when\n",
    "feeding the equation system to direct solvers."
   ],
   "metadata": {}
  },
  {
   "outputs": [],
   "cell_type": "code",
   "source": [
    "dim = 2\n",
    "cell_scale_factor = 2.0\n",
    "x_cells = round(Int, cell_scale_factor*220)\n",
    "y_cells = round(Int, cell_scale_factor*41)\n",
    "x_cells = round(Int, 55/3)                  #hide\n",
    "y_cells = round(Int, 41/3)                  #hide\n",
    "grid = generate_grid(Quadrilateral, (x_cells, y_cells), Vec{2}((0.0, 0.0)), Vec{2}((2.2, 0.41)));"
   ],
   "metadata": {},
   "execution_count": 4
  },
  {
   "cell_type": "markdown",
   "source": [
    "Next we carve a hole $B_{0.05}(0.2,0.2)$ in the mesh by deleting the cells and update the boundary face sets.\n",
    "This code will be replaced once a proper mesh interface is avaliable."
   ],
   "metadata": {}
  },
  {
   "outputs": [],
   "cell_type": "code",
   "source": [
    "cell_indices = filter(ci->norm(mean(map(i->grid.nodes[i].x-[0.2,0.2], Ferrite.vertices(grid.cells[ci]))))>0.05, 1:length(grid.cells))\n",
    "hole_cell_indices = filter(ci->norm(mean(map(i->grid.nodes[i].x-[0.2,0.2], Ferrite.vertices(grid.cells[ci]))))<=0.05, 1:length(grid.cells));\n",
    "hole_face_ring = Set{FaceIndex}()\n",
    "for hci ∈ hole_cell_indices\n",
    "    push!(hole_face_ring, FaceIndex((hci+1, 4)))\n",
    "    push!(hole_face_ring, FaceIndex((hci-1, 2)))\n",
    "    push!(hole_face_ring, FaceIndex((hci-x_cells, 3)))\n",
    "    push!(hole_face_ring, FaceIndex((hci+x_cells, 1)))\n",
    "end\n",
    "grid.facesets[\"hole\"] = Set(filter(x->x.idx[1] ∉ hole_cell_indices, collect(hole_face_ring)));\n",
    "cell_indices_map = map(ci->norm(mean(map(i->grid.nodes[i].x-[0.2,0.2], Ferrite.vertices(grid.cells[ci]))))>0.05 ? indexin([ci], cell_indices)[1] : 0, 1:length(grid.cells))\n",
    "grid.cells = grid.cells[cell_indices]\n",
    "for facesetname in keys(grid.facesets)\n",
    "    grid.facesets[facesetname] = Set(map(fi -> FaceIndex( cell_indices_map[fi.idx[1]] ,fi.idx[2]), collect(grid.facesets[facesetname])))\n",
    "end;\n",
    "\n",
    "grid = generate_grid(Quadrilateral, (x_cells, y_cells), Vec{2}((0.0, 0.0)), Vec{2}((0.55, 0.41)));   #hide"
   ],
   "metadata": {},
   "execution_count": 5
  },
  {
   "cell_type": "markdown",
   "source": [
    "### Function Space\n",
    "To ensure stability we utilize the Taylor-Hood element pair Q2-Q1.\n",
    "We have to utilize the same quadrature rule for the pressure as for the velocity, because in the weak form the\n",
    "linear pressure term is tested against a quadratic function."
   ],
   "metadata": {}
  },
  {
   "outputs": [],
   "cell_type": "code",
   "source": [
    "ip_v = Lagrange{dim, RefCube, 2}()\n",
    "ip_geom = Lagrange{dim, RefCube, 1}()\n",
    "qr = QuadratureRule{dim, RefCube}(4)\n",
    "cellvalues_v = CellVectorValues(qr, ip_v, ip_geom);\n",
    "\n",
    "ip_p = Lagrange{dim, RefCube, 1}()\n",
    "cellvalues_p = CellScalarValues(qr, ip_p, ip_geom);\n",
    "\n",
    "dh = DofHandler(grid)\n",
    "add!(dh, :v, dim, ip_v)\n",
    "add!(dh, :p, 1, ip_p)\n",
    "close!(dh);"
   ],
   "metadata": {},
   "execution_count": 6
  },
  {
   "cell_type": "markdown",
   "source": [
    "### Boundary Conditions\n",
    "As in the DFG benchmark we apply no-slip conditions to the top, bottom and\n",
    "cylinder boundary. The no-slip condition states that the velocity of the\n",
    "fluid on this portion of the boundary is fixed to be zero."
   ],
   "metadata": {}
  },
  {
   "outputs": [],
   "cell_type": "code",
   "source": [
    "ch = ConstraintHandler(dh);\n",
    "\n",
    "nosplip_face_names = [\"top\", \"bottom\", \"hole\"];\n",
    "nosplip_face_names = [\"top\", \"bottom\"]                                  #hide\n",
    "∂Ω_noslip = union(getfaceset.((grid, ), nosplip_face_names)...);\n",
    "noslip_bc = Dirichlet(:v, ∂Ω_noslip, (x, t) -> [0,0], [1,2])\n",
    "add!(ch, noslip_bc);"
   ],
   "metadata": {},
   "execution_count": 7
  },
  {
   "cell_type": "markdown",
   "source": [
    "The left boundary has a parabolic inflow with peak velocity of 1.0. This\n",
    "ensures that for the given geometry the Reynolds number is 100, which\n",
    "is already enough to obtain some simple vortex streets. By increasing the\n",
    "velocity further we can obtain stronger vortices - which may need additional\n",
    "refinement of the grid."
   ],
   "metadata": {}
  },
  {
   "outputs": [],
   "cell_type": "code",
   "source": [
    "∂Ω_inflow = getfaceset(grid, \"left\");\n",
    "\n",
    "vᵢₙ(t) = clamp(t, 0.0, 1.0)*1.0 #inflow velocity\n",
    "vᵢₙ(t) = clamp(t, 0.0, 1.0)*0.3 #hide\n",
    "parabolic_inflow_profile((x,y),t) = [4*vᵢₙ(t)*y*(0.41-y)/0.41^2,0]\n",
    "inflow_bc = Dirichlet(:v, ∂Ω_inflow, parabolic_inflow_profile, [1,2])\n",
    "add!(ch, inflow_bc);"
   ],
   "metadata": {},
   "execution_count": 8
  },
  {
   "cell_type": "markdown",
   "source": [
    "The outflow boundary condition has been applied on the right side of the\n",
    "cylinder when the weak form has been derived by setting the boundary integral\n",
    "to zero. It is also called the do-nothing condition. Other outflow conditions\n",
    "are also possible."
   ],
   "metadata": {}
  },
  {
   "outputs": [],
   "cell_type": "code",
   "source": [
    "∂Ω_free = getfaceset(grid, \"right\");\n",
    "\n",
    "close!(ch)\n",
    "update!(ch, 0.0);"
   ],
   "metadata": {},
   "execution_count": 9
  },
  {
   "cell_type": "markdown",
   "source": [
    "### Linear System Assembly\n",
    "Next we describe how the block mass matrix and the Stokes matrix are assembled.\n",
    "\n",
    "For the block mass matrix $M$ we remember that only the first equation had a time derivative\n",
    "and that the block mass matrix corresponds to the term arising from discretizing the time\n",
    "derivatives. Hence, only the upper left block has non-zero components."
   ],
   "metadata": {}
  },
  {
   "outputs": [],
   "cell_type": "code",
   "source": [
    "function assemble_mass_matrix(cellvalues_v::CellVectorValues{dim}, cellvalues_p::CellScalarValues{dim}, M::SparseMatrixCSC, dh::DofHandler) where {dim}\n",
    "    # Allocate a buffer for the local matrix and some helpers, together with the assembler.\n",
    "    n_basefuncs_v = getnbasefunctions(cellvalues_v)\n",
    "    n_basefuncs_p = getnbasefunctions(cellvalues_p)\n",
    "    n_basefuncs = n_basefuncs_v + n_basefuncs_p\n",
    "    v▄, p▄ = 1, 2\n",
    "    Mₑ = PseudoBlockArray(zeros(n_basefuncs, n_basefuncs), [n_basefuncs_v, n_basefuncs_p], [n_basefuncs_v, n_basefuncs_p])\n",
    "\n",
    "    # It follows the assembly loop as explained in the basic tutorials.\n",
    "    mass_assembler = start_assemble(M)\n",
    "    for cell in CellIterator(dh)\n",
    "        fill!(Mₑ, 0)\n",
    "        Ferrite.reinit!(cellvalues_v, cell)\n",
    "\n",
    "        for q_point in 1:getnquadpoints(cellvalues_v)\n",
    "            dΩ = getdetJdV(cellvalues_v, q_point)\n",
    "            # Remember that we assemble a vector mass term, hence the dot product.\n",
    "            for i in 1:n_basefuncs_v\n",
    "                φᵢ = shape_value(cellvalues_v, q_point, i)\n",
    "                for j in 1:n_basefuncs_v\n",
    "                    φⱼ = shape_value(cellvalues_v, q_point, j)\n",
    "                    Mₑ[BlockIndex((v▄, v▄), (i, j))] += φᵢ ⋅ φⱼ * dΩ\n",
    "                end\n",
    "            end\n",
    "        end\n",
    "        assemble!(mass_assembler, celldofs(cell), Mₑ)\n",
    "    end\n",
    "\n",
    "    return M\n",
    "end;"
   ],
   "metadata": {},
   "execution_count": 10
  },
  {
   "cell_type": "markdown",
   "source": [
    "Next we discuss the assembly of the Stokes matrix.\n",
    "Remember that we use the same function spaces for trial and test, hence the\n",
    "matrix has the following block form\n",
    "$$\n",
    "  K = \\begin{bmatrix}\n",
    "      A & B^{\\textrm{T}} \\\\\n",
    "      B & 0\n",
    "  \\end{bmatrix}\n",
    "$$\n",
    "which is also called saddle point matrix. These problems are known to have\n",
    "a non-trivial kernel, which is a reflection of the strong form as discussed\n",
    "in the theory portion if this example."
   ],
   "metadata": {}
  },
  {
   "outputs": [],
   "cell_type": "code",
   "source": [
    "function assemble_stokes_matrix(cellvalues_v::CellVectorValues{dim}, cellvalues_p::CellScalarValues{dim}, ν, K::SparseMatrixCSC, dh::DofHandler) where {dim}\n",
    "    # Again, some buffers and helpers\n",
    "    n_basefuncs_v = getnbasefunctions(cellvalues_v)\n",
    "    n_basefuncs_p = getnbasefunctions(cellvalues_p)\n",
    "    n_basefuncs = n_basefuncs_v + n_basefuncs_p\n",
    "    v▄, p▄ = 1, 2\n",
    "    Kₑ = PseudoBlockArray(zeros(n_basefuncs, n_basefuncs), [n_basefuncs_v, n_basefuncs_p], [n_basefuncs_v, n_basefuncs_p])\n",
    "\n",
    "    # Assembly loop\n",
    "    stiffness_assembler = start_assemble(K)\n",
    "    for cell in CellIterator(dh)\n",
    "        # Don't forget to initialize everything\n",
    "        fill!(Kₑ, 0)\n",
    "\n",
    "        Ferrite.reinit!(cellvalues_v, cell)\n",
    "        Ferrite.reinit!(cellvalues_p, cell)\n",
    "\n",
    "        for q_point in 1:getnquadpoints(cellvalues_v)\n",
    "            dΩ = getdetJdV(cellvalues_v, q_point)\n",
    "            # Assemble local viscosity block of $A$\n",
    "            for i in 1:n_basefuncs_v\n",
    "                ∇φᵢ = shape_gradient(cellvalues_v, q_point, i)\n",
    "                for j in 1:n_basefuncs_v\n",
    "                    ∇φⱼ = shape_gradient(cellvalues_v, q_point, j)\n",
    "                    Kₑ[BlockIndex((v▄, v▄), (i, j))] -= ν * ∇φᵢ ⊡ ∇φⱼ * dΩ\n",
    "                end\n",
    "            end\n",
    "            # Assemble local pressure and incompressibility blocks of $B^{\\textrm{T}}$ and $B$.\n",
    "            for j in 1:n_basefuncs_p\n",
    "                ψ = shape_value(cellvalues_p, q_point, j)\n",
    "                for i in 1:n_basefuncs_v\n",
    "                    divφ = shape_divergence(cellvalues_v, q_point, i)\n",
    "                    Kₑ[BlockIndex((v▄, p▄), (i, j))] += (divφ * ψ) * dΩ\n",
    "                    Kₑ[BlockIndex((p▄, v▄), (j, i))] += (ψ * divφ) * dΩ\n",
    "                end\n",
    "            end\n",
    "        end\n",
    "\n",
    "        # Assemble `Kₑ` into the Stokes matrix `K`.\n",
    "        assemble!(stiffness_assembler, celldofs(cell), Kₑ)\n",
    "    end\n",
    "    return K\n",
    "end;"
   ],
   "metadata": {},
   "execution_count": 11
  },
  {
   "cell_type": "markdown",
   "source": [
    "### Solution of the semi-discretized system via DifferentialEquations.jl\n",
    "First we assemble the linear portions for efficiency. These matrices are\n",
    "assumed to be constant over time."
   ],
   "metadata": {}
  },
  {
   "outputs": [],
   "cell_type": "code",
   "source": [
    "T = 10.0\n",
    "Δt₀ = 0.01\n",
    "Δt_save = 0.1\n",
    "\n",
    "M = create_sparsity_pattern(dh);\n",
    "M = assemble_mass_matrix(cellvalues_v, cellvalues_p, M, dh);\n",
    "\n",
    "K = create_sparsity_pattern(dh);\n",
    "K = assemble_stokes_matrix(cellvalues_v, cellvalues_p, ν, K, dh);"
   ],
   "metadata": {},
   "execution_count": 12
  },
  {
   "cell_type": "markdown",
   "source": [
    "These are our initial conditions. We start from the zero solution, because it\n",
    "is trivially admissible if the Dirichlet conditions are zero everywhere on the\n",
    "Dirichlet boundary for $t=0$. Note that the time stepper is also doing fine if the\n",
    "Dirichlet condition is non-zero and not too pathological."
   ],
   "metadata": {}
  },
  {
   "outputs": [],
   "cell_type": "code",
   "source": [
    "u₀ = zeros(ndofs(dh))\n",
    "apply!(u₀, ch);"
   ],
   "metadata": {},
   "execution_count": 13
  },
  {
   "cell_type": "markdown",
   "source": [
    "DifferentialEquations assumes dense matrices by default, which is not\n",
    "feasible for semi-discretization of finite element models. We communicate\n",
    "that a sparse matrix with specified pattern should be utilized through the\n",
    "`jac_prototyp` argument. It is simple to see that the Jacobian and the\n",
    "stiffness matrix share the same sparsity pattern, since they share the\n",
    "same relation between trial and test functions."
   ],
   "metadata": {}
  },
  {
   "outputs": [],
   "cell_type": "code",
   "source": [
    "jac_sparsity = sparse(K);"
   ],
   "metadata": {},
   "execution_count": 14
  },
  {
   "cell_type": "markdown",
   "source": [
    "To apply the nonlinear portion of the Navier-Stokes problem we simply hand\n",
    "over the dof handler and cell values to the right-hand-side (RHS) as a parameter.\n",
    "Further the pre-assembled linear part (which is time independent) is\n",
    "passed to save some runtime. To apply the time-dependent Dirichlet BCs, we\n",
    "also hand over the constraint handler.\n",
    "The basic idea to apply the Dirichlet BCs consistently is that we copy the\n",
    "current solution `u`, apply the Dirichlet BCs on the copy, evaluate the\n",
    "discretized RHS of the Navier-Stokes equations with this vector\n",
    "and finally set the RHS to zero on every constraint. This way we obtain a\n",
    "correct solution for all dofs which are not Dirichlet constrained. These\n",
    "dofs are then corrected in a post-processing step, when evaluating the\n",
    "solution vector at specific time points.\n",
    "It should be finally noted that this **trick does not work** out of the box\n",
    "**for constraining algebraic portion** of the DAE, i.e. if we would like to\n",
    "put a Dirichlet BC on pressure dofs. As a workaround we have to set $f_{\\textrm{i}} = 1$\n",
    "instead of $f_{\\textrm{i}} = 0$, because otherwise the equation system gets singular.\n",
    "This is obvious when we remember that our mass matrix is zero for these\n",
    "dofs, such that we obtain the equation $0 \\cdot \\mathrm{d}_t p_{\\textrm{i}} = 1 \\cdot p_{\\textrm{i}}$, which\n",
    "now has a unique solution."
   ],
   "metadata": {}
  },
  {
   "outputs": [],
   "cell_type": "code",
   "source": [
    "struct RHSparams\n",
    "    K::SparseMatrixCSC\n",
    "    ch::ConstraintHandler\n",
    "    dh::DofHandler\n",
    "    cellvalues_v::CellVectorValues\n",
    "end\n",
    "p = RHSparams(K, ch, dh, cellvalues_v)\n",
    "\n",
    "function navierstokes!(du,u_uc,p,t)\n",
    "    # Unpack the struct to save some allocations.\n",
    "    @unpack K,ch,dh,cellvalues_v = p\n",
    "    # We start by applying the time-dependent Dirichlet BCs. Note that we are\n",
    "    # not allowed to mutate `u_uc`! We also can not pre-allocate this variable\n",
    "    # if we want to use AD to derive the Jacobian matrix, which appears in the\n",
    "    # utilized implicit Euler. If we hand over the Jacobian analytically to\n",
    "    # the solver, or when utilizing a method which does not require building the\n",
    "    # Jacobian, then we could also hand over a buffer for `u` in our RHSparams\n",
    "    # structure to save the allocations made here.\n",
    "    u = copy(u_uc)\n",
    "    update!(ch, t)\n",
    "    apply!(u, ch)\n",
    "    # Now we apply the rhs of the Navier-Stokes equations\n",
    "    # Linear contribution (Stokes operator)\n",
    "    mul!(du, K, u) # du .= K * u\n",
    "\n",
    "    # nonlinear contribution\n",
    "    n_basefuncs = getnbasefunctions(cellvalues_v)\n",
    "    for cell in CellIterator(dh)\n",
    "        Ferrite.reinit!(cellvalues_v, cell)\n",
    "        all_celldofs = celldofs(cell)\n",
    "        v_celldofs = all_celldofs[dof_range(dh, :v)]\n",
    "        v_cell = u[v_celldofs]\n",
    "        for q_point in 1:getnquadpoints(cellvalues_v)\n",
    "            dΩ = getdetJdV(cellvalues_v, q_point)\n",
    "            ∇v = function_gradient(cellvalues_v, q_point, v_cell)\n",
    "            v = function_value(cellvalues_v, q_point, v_cell)\n",
    "            for j in 1:n_basefuncs\n",
    "                φⱼ = shape_value(cellvalues_v, q_point, j)\n",
    "                # Note that in Tensors.jl the definition $\\textrm{grad} v = \\nabla v$ holds.\n",
    "                # With this information it can be quickly shown in index notation that\n",
    "                # $$\n",
    "                # [(v \\cdot \\nabla) v]_{\\textrm{i}} = v_{\\textrm{j}} (\\partial_{\\textrm{j}} v_{\\textrm{i}}) = [v (\\nabla v)^{\\textrm{T}}]_{\\textrm{i}}\n",
    "                # $$\n",
    "                # where we should pay attentation to the transpose of the gradient.\n",
    "                du[v_celldofs[j]] -= v ⋅ ∇v' ⋅ φⱼ * dΩ\n",
    "            end\n",
    "        end\n",
    "    end\n",
    "    # For now we have to ingore the evolution of the Dirichlet BCs.\n",
    "    # The DBC dofs in the solution vector will be corrected in a post-processing step.\n",
    "    apply_zero!(du, ch)\n",
    "end;"
   ],
   "metadata": {},
   "execution_count": 15
  },
  {
   "cell_type": "markdown",
   "source": [
    "Finally, together with our pre-assembled mass matrix, we are now able to\n",
    "define our problem in mass matrix form."
   ],
   "metadata": {}
  },
  {
   "outputs": [],
   "cell_type": "code",
   "source": [
    "rhs = ODEFunction(navierstokes!, mass_matrix=M; jac_prototype=jac_sparsity)\n",
    "problem = ODEProblem(rhs, u₀, (0.0,T), p);"
   ],
   "metadata": {},
   "execution_count": 16
  },
  {
   "cell_type": "markdown",
   "source": [
    "Now we can put everything together by specifying how to solve the problem.\n",
    "We want to use the adaptive implicit Euler method with our custom linear\n",
    "solver, which helps in the enforcement of the Dirichlet BCs. Further we\n",
    "enable the progress bar with the `progess` and `progress_steps` arguments.\n",
    "Finally we have to communicate the time step length and initialization\n",
    "algorithm. Since we start with a valid initial state we do not use one of\n",
    "DifferentialEquations.jl initialization algorithms.\n",
    "NOTE: At the time of writing this [no Hessenberg index 2 initialization is implemented](https://github.com/SciML/OrdinaryDiffEq.jl/issues/1019).\n",
    "\n",
    "To visualize the result we export the grid and our fields\n",
    "to VTK-files, which can be viewed in [ParaView](https://www.paraview.org/)\n",
    "by utilizing the corresponding pvd file."
   ],
   "metadata": {}
  },
  {
   "outputs": [
    {
     "name": "stdout",
     "output_type": "stream",
     "text": [
      "Test Summary:      | Pass  Total  Time\n",
      "INS OrdinaryDiffEq |    2      2  0.2s\n"
     ]
    }
   ],
   "cell_type": "code",
   "source": [
    "timestepper = ImplicitEuler(linsolve = UMFPACKFactorization(reuse_symbolic=false))\n",
    "integrator = init(\n",
    "    problem, timestepper, initializealg=NoInit(), dt=Δt₀,\n",
    "    adaptive=true, abstol=1e-3, reltol=1e-3,\n",
    "    progress=true, progress_steps=1,\n",
    "    saveat=Δt_save);\n",
    "\n",
    "pvd = paraview_collection(\"vortex-street.pvd\");\n",
    "integrator = TimeChoiceIterator(integrator, 0.0:Δt_save:T)\n",
    "for (u_uc,t) in integrator\n",
    "    # We ignored the Dirichlet constraints in the solution vector up to now,\n",
    "    # so we have to bring them back now.\n",
    "    update!(ch, t)\n",
    "    u = copy(u_uc)\n",
    "    apply!(u, ch)\n",
    "    vtk_grid(\"vortex-street-$t.vtu\", dh) do vtk\n",
    "        vtk_point_data(vtk,dh,u)\n",
    "        vtk_save(vtk)\n",
    "        pvd[t] = vtk\n",
    "    end\n",
    "end\n",
    "vtk_save(pvd);\n",
    "\n",
    "using Test                                                                  #hide\n",
    "function compute_divergence(dh, u, cellvalues_v)                            #hide\n",
    "    divv = 0.0                                                              #hide\n",
    "    for cell in CellIterator(dh)                                            #hide\n",
    "        Ferrite.reinit!(cellvalues_v, cell)                                 #hide\n",
    "        for q_point in 1:getnquadpoints(cellvalues_v)                       #hide\n",
    "            dΩ = getdetJdV(cellvalues_v, q_point)                           #hide\n",
    "                                                                            #hide\n",
    "            all_celldofs = celldofs(cell)                                   #hide\n",
    "            v_celldofs = all_celldofs[dof_range(dh, :v)]                    #hide\n",
    "            v_cell = u[v_celldofs]                                          #hide\n",
    "                                                                            #hide\n",
    "            divv += function_divergence(cellvalues_v, q_point, v_cell) * dΩ #hide\n",
    "        end                                                                 #hide\n",
    "    end                                                                     #hide\n",
    "    return divv                                                             #hide\n",
    "end                                                                         #hide\n",
    "@testset \"INS OrdinaryDiffEq\" begin                                         #hide\n",
    "    u = copy(integrator.integrator.u)                                       #hide\n",
    "    apply!(u, ch)                                                           #hide\n",
    "    Δdivv = abs(compute_divergence(dh, u, cellvalues_v))                    #hide\n",
    "    @test isapprox(Δdivv, 0.0, atol=1e-12)                                  #hide\n",
    "                                                                            #hide\n",
    "    Δv = 0.0                                                                #hide\n",
    "    for cell in CellIterator(dh)                                            #hide\n",
    "        Ferrite.reinit!(cellvalues_v, cell)                                 #hide\n",
    "        all_celldofs = celldofs(cell)                                       #hide\n",
    "        v_celldofs = all_celldofs[dof_range(dh, :v)]                        #hide\n",
    "        v_cell = u[v_celldofs]                                              #hide\n",
    "        coords = getcoordinates(cell)                                       #hide\n",
    "        for q_point in 1:getnquadpoints(cellvalues_v)                       #hide\n",
    "            dΩ = getdetJdV(cellvalues_v, q_point)                           #hide\n",
    "            coords_qp = spatial_coordinate(cellvalues_v, q_point, coords)   #hide\n",
    "            v = function_value(cellvalues_v, q_point, v_cell)               #hide\n",
    "            Δv += norm(v - parabolic_inflow_profile(coords_qp, T))^2*dΩ     #hide\n",
    "        end                                                                 #hide\n",
    "    end                                                                     #hide\n",
    "    @test isapprox(sqrt(Δv), 0.0, atol=1e-3)                                #hide\n",
    "end;                                                                        #hide"
   ],
   "metadata": {},
   "execution_count": 17
  },
  {
   "cell_type": "markdown",
   "source": [
    "---\n",
    "\n",
    "*This notebook was generated using [Literate.jl](https://github.com/fredrikekre/Literate.jl).*"
   ],
   "metadata": {}
  }
 ],
 "nbformat_minor": 3,
 "metadata": {
  "language_info": {
   "file_extension": ".jl",
   "mimetype": "application/julia",
   "name": "julia",
   "version": "1.8.5"
  },
  "kernelspec": {
   "name": "julia-1.8",
   "display_name": "Julia 1.8.5",
   "language": "julia"
  }
 },
 "nbformat": 4
}
