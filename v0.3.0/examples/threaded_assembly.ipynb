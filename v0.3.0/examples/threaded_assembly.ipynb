{
 "cells": [
  {
   "cell_type": "markdown",
   "source": [
    "# Threaded Assembly"
   ],
   "metadata": {}
  },
  {
   "cell_type": "markdown",
   "source": [
    "## Example of a colored grid\n",
    "\n",
    "Creates a simple 2D grid and colors it.\n",
    "Save the example grid to a VTK file to show the coloring.\n",
    "No cells with the same color has any shared nodes (dofs).\n",
    "This means that it is safe to assemble in parallel as long as we only assemble\n",
    "one color at a time."
   ],
   "metadata": {}
  },
  {
   "outputs": [
    {
     "output_type": "execute_result",
     "data": {
      "text/plain": "1-element Array{String,1}:\n \"colored.vtu\""
     },
     "metadata": {},
     "execution_count": 1
    }
   ],
   "cell_type": "code",
   "source": [
    "using Ferrite, SparseArrays\n",
    "\n",
    "function create_example_2d_grid()\n",
    "    grid = generate_grid(Quadrilateral, (10, 10), Vec{2}((0.0, 0.0)), Vec{2}((10.0, 10.0)))\n",
    "    cell_colors, colors = Ferrite.create_coloring(grid)\n",
    "    vtk_grid(\"colored\", grid) do vtk\n",
    "        Ferrite.vtk_cell_data_colors(vtk, grid, colors)\n",
    "    end\n",
    "end;\n",
    "\n",
    "create_example_2d_grid()"
   ],
   "metadata": {},
   "execution_count": 1
  },
  {
   "cell_type": "markdown",
   "source": [
    "![](coloring.png)"
   ],
   "metadata": {}
  },
  {
   "cell_type": "markdown",
   "source": [
    "## Cantilever beam in 3D with threaded assembly\n",
    "We will now look at an example where we assemble the stiffness matrix using multiple\n",
    "threads. We set up a simple grid and create a coloring, then create a DofHandler,\n",
    "and define the material stiffness"
   ],
   "metadata": {}
  },
  {
   "cell_type": "markdown",
   "source": [
    "#### Grid for the beam"
   ],
   "metadata": {}
  },
  {
   "outputs": [],
   "cell_type": "code",
   "source": [
    "function create_colored_cantilever_grid(celltype, n)\n",
    "    grid = generate_grid(celltype, (10*n, n, n), Vec{3}((0.0, 0.0, 0.0)), Vec{3}((10.0, 1.0, 1.0)))\n",
    "    cell_colors, final_colors = Ferrite.create_coloring(grid)\n",
    "    return grid, final_colors\n",
    "end;"
   ],
   "metadata": {},
   "execution_count": 2
  },
  {
   "cell_type": "markdown",
   "source": [
    "#### DofHandler"
   ],
   "metadata": {}
  },
  {
   "outputs": [],
   "cell_type": "code",
   "source": [
    "function create_dofhandler(grid::Grid{dim}) where {dim}\n",
    "    dh = DofHandler(grid)\n",
    "    push!(dh, :u, dim) # Add a displacement field\n",
    "    close!(dh)\n",
    "end;"
   ],
   "metadata": {},
   "execution_count": 3
  },
  {
   "cell_type": "markdown",
   "source": [
    "### Stiffness tensor for linear elasticity"
   ],
   "metadata": {}
  },
  {
   "outputs": [],
   "cell_type": "code",
   "source": [
    "function create_stiffness(::Val{dim}) where {dim}\n",
    "    E = 200e9\n",
    "    ν = 0.3\n",
    "    λ = E*ν / ((1+ν) * (1 - 2ν))\n",
    "    μ = E / (2(1+ν))\n",
    "    δ(i,j) = i == j ? 1.0 : 0.0\n",
    "    g(i,j,k,l) = λ*δ(i,j)*δ(k,l) + μ*(δ(i,k)*δ(j,l) + δ(i,l)*δ(j,k))\n",
    "    C = SymmetricTensor{4, dim}(g);\n",
    "    return C\n",
    "end;"
   ],
   "metadata": {},
   "execution_count": 4
  },
  {
   "cell_type": "markdown",
   "source": [
    "## Threaded data structures\n",
    "\n",
    "ScratchValues is a thread-local collection of data that each thread needs to own,\n",
    "since we need to be able to mutate the data in the threads independently"
   ],
   "metadata": {}
  },
  {
   "outputs": [],
   "cell_type": "code",
   "source": [
    "struct ScratchValues{T, CV <: CellValues, FV <: FaceValues, TT <: AbstractTensor, dim, Ti}\n",
    "    Ke::Matrix{T}\n",
    "    fe::Vector{T}\n",
    "    cellvalues::CV\n",
    "    facevalues::FV\n",
    "    global_dofs::Vector{Int}\n",
    "    ɛ::Vector{TT}\n",
    "    coordinates::Vector{Vec{dim, T}}\n",
    "    assembler::Ferrite.AssemblerSparsityPattern{T, Ti}\n",
    "end;"
   ],
   "metadata": {},
   "execution_count": 5
  },
  {
   "cell_type": "markdown",
   "source": [
    "Each thread need its own CellValues and FaceValues (although, for this example we don't use\n",
    "the FaceValues)"
   ],
   "metadata": {}
  },
  {
   "outputs": [],
   "cell_type": "code",
   "source": [
    "function create_values(refshape, dim, order::Int)\n",
    "    # Interpolations and values\n",
    "    interpolation_space = Lagrange{dim, refshape, 1}()\n",
    "    quadrature_rule = QuadratureRule{dim, refshape}(order)\n",
    "    face_quadrature_rule = QuadratureRule{dim-1, refshape}(order)\n",
    "    cellvalues = [CellVectorValues(quadrature_rule, interpolation_space) for i in 1:Threads.nthreads()];\n",
    "    facevalues = [FaceVectorValues(face_quadrature_rule, interpolation_space) for i in 1:Threads.nthreads()];\n",
    "    return cellvalues, facevalues\n",
    "end;"
   ],
   "metadata": {},
   "execution_count": 6
  },
  {
   "cell_type": "markdown",
   "source": [
    "Create a `ScratchValues` for each thread with the thread local data"
   ],
   "metadata": {}
  },
  {
   "outputs": [],
   "cell_type": "code",
   "source": [
    "function create_scratchvalues(K, f, dh::DofHandler{dim}) where {dim}\n",
    "    nthreads = Threads.nthreads()\n",
    "    assemblers = [start_assemble(K, f) for i in 1:nthreads]\n",
    "    cellvalues, facevalues = create_values(RefCube, dim, 2)\n",
    "\n",
    "    n_basefuncs = getnbasefunctions(cellvalues[1])\n",
    "    global_dofs = [zeros(Int, ndofs_per_cell(dh)) for i in 1:nthreads]\n",
    "\n",
    "    fes = [zeros(n_basefuncs) for i in 1:nthreads] # Local force vector\n",
    "    Kes = [zeros(n_basefuncs, n_basefuncs) for i in 1:nthreads]\n",
    "\n",
    "    ɛs = [[zero(SymmetricTensor{2, dim}) for i in 1:n_basefuncs] for i in 1:nthreads]\n",
    "\n",
    "    coordinates = [[zero(Vec{dim}) for i in 1:length(dh.grid.cells[1].nodes)] for i in 1:nthreads]\n",
    "\n",
    "    return [ScratchValues(Kes[i], fes[i], cellvalues[i], facevalues[i], global_dofs[i],\n",
    "                         ɛs[i], coordinates[i], assemblers[i]) for i in 1:nthreads]\n",
    "end;"
   ],
   "metadata": {},
   "execution_count": 7
  },
  {
   "cell_type": "markdown",
   "source": [
    "## Threaded assemble"
   ],
   "metadata": {}
  },
  {
   "cell_type": "markdown",
   "source": [
    "The assembly function loops over each color and does a threaded assembly for that color"
   ],
   "metadata": {}
  },
  {
   "outputs": [
    {
     "output_type": "execute_result",
     "data": {
      "text/plain": "doassemble (generic function with 1 method)"
     },
     "metadata": {},
     "execution_count": 8
    }
   ],
   "cell_type": "code",
   "source": [
    "function doassemble(K::SparseMatrixCSC, colors, grid::Grid, dh::DofHandler, C::SymmetricTensor{4, dim}) where {dim}\n",
    "\n",
    "    f = zeros(ndofs(dh))\n",
    "    scratches = create_scratchvalues(K, f, dh)\n",
    "    b = Vec{3}((0.0, 0.0, 0.0)) # Body force\n",
    "\n",
    "    for color in colors\n",
    "        # Each color is safe to assemble threaded\n",
    "        Threads.@threads for i in 1:length(color)\n",
    "            assemble_cell!(scratches[Threads.threadid()], color[i], K, grid, dh, C, b)\n",
    "        end\n",
    "    end\n",
    "\n",
    "    return K, f\n",
    "end"
   ],
   "metadata": {},
   "execution_count": 8
  },
  {
   "cell_type": "markdown",
   "source": [
    "The cell assembly function is written the same way as if it was a single threaded example.\n",
    "The only difference is that we unpack the variables from our `scratch`."
   ],
   "metadata": {}
  },
  {
   "outputs": [
    {
     "name": "stdout",
     "output_type": "stream",
     "text": [
      "  2.560210 seconds (13.95 k allocations: 2.687 MiB)\n"
     ]
    },
    {
     "output_type": "execute_result",
     "data": {
      "text/plain": "2.560399566"
     },
     "metadata": {},
     "execution_count": 9
    }
   ],
   "cell_type": "code",
   "source": [
    "function assemble_cell!(scratch::ScratchValues, cell::Int, K::SparseMatrixCSC,\n",
    "                        grid::Grid, dh::DofHandler, C::SymmetricTensor{4, dim}, b::Vec{dim}) where {dim}\n",
    "\n",
    "    # Unpack our stuff from the scratch\n",
    "    Ke, fe, cellvalues, facevalues, global_dofs, ɛ, coordinates, assembler =\n",
    "         scratch.Ke, scratch.fe, scratch.cellvalues, scratch.facevalues,\n",
    "         scratch.global_dofs, scratch.ɛ, scratch.coordinates, scratch.assembler\n",
    "\n",
    "    fill!(Ke, 0)\n",
    "    fill!(fe, 0)\n",
    "\n",
    "    n_basefuncs = getnbasefunctions(cellvalues)\n",
    "\n",
    "    # Fill up the coordinates\n",
    "    nodeids = grid.cells[cell].nodes\n",
    "    for j in 1:length(coordinates)\n",
    "        coordinates[j] = grid.nodes[nodeids[j]].x\n",
    "    end\n",
    "\n",
    "    reinit!(cellvalues, coordinates)\n",
    "\n",
    "    for q_point in 1:getnquadpoints(cellvalues)\n",
    "        for i in 1:n_basefuncs\n",
    "            ɛ[i] = symmetric(shape_gradient(cellvalues, q_point, i))\n",
    "        end\n",
    "        dΩ = getdetJdV(cellvalues, q_point)\n",
    "        for i in 1:n_basefuncs\n",
    "            δu = shape_value(cellvalues, q_point, i)\n",
    "            fe[i] += (δu ⋅ b) * dΩ\n",
    "            ɛC = ɛ[i] ⊡ C\n",
    "            for j in 1:n_basefuncs\n",
    "                Ke[i, j] += (ɛC ⊡ ɛ[j]) * dΩ\n",
    "            end\n",
    "        end\n",
    "    end\n",
    "\n",
    "    celldofs!(global_dofs, dh, cell)\n",
    "    assemble!(assembler, global_dofs, fe, Ke)\n",
    "end;\n",
    "\n",
    "function run_assemble()\n",
    "    refshape = RefCube\n",
    "    quadrature_order = 2\n",
    "    dim = 3\n",
    "    n = 20\n",
    "    grid, colors = create_colored_cantilever_grid(Hexahedron, n);\n",
    "    dh = create_dofhandler(grid);\n",
    "\n",
    "    K = create_sparsity_pattern(dh);\n",
    "    C = create_stiffness(Val{3}());\n",
    "    # compilation\n",
    "    doassemble(K, colors, grid, dh, C);\n",
    "    b = @elapsed @time K, f = doassemble(K, colors, grid, dh, C);\n",
    "    return b\n",
    "end\n",
    "\n",
    "run_assemble()"
   ],
   "metadata": {},
   "execution_count": 9
  },
  {
   "cell_type": "markdown",
   "source": [
    "Running the code with different number of threads give the following runtimes:\n",
    "* 1 thread  2.46 seconds\n",
    "* 2 threads 1.19 seconds\n",
    "* 3 threads 0.83 seconds\n",
    "* 4 threads 0.75 seconds"
   ],
   "metadata": {}
  },
  {
   "cell_type": "markdown",
   "source": [
    "---\n",
    "\n",
    "*This notebook was generated using [Literate.jl](https://github.com/fredrikekre/Literate.jl).*"
   ],
   "metadata": {}
  }
 ],
 "nbformat_minor": 3,
 "metadata": {
  "language_info": {
   "file_extension": ".jl",
   "mimetype": "application/julia",
   "name": "julia",
   "version": "1.5.4"
  },
  "kernelspec": {
   "name": "julia-1.5",
   "display_name": "Julia 1.5.4",
   "language": "julia"
  }
 },
 "nbformat": 4
}
