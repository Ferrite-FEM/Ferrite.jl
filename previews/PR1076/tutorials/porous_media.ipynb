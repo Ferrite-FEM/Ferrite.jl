{
 "cells": [
  {
   "cell_type": "markdown",
   "source": [
    "# Porous media"
   ],
   "metadata": {}
  },
  {
   "cell_type": "markdown",
   "source": [
    "Porous media is a two-phase material, consisting of solid parts and a liquid occupying\n",
    "the pores inbetween.\n",
    "Using the porous media theory, we can model such a material without explicitly\n",
    "resolving the microstructure, but by considering the interactions between the\n",
    "solid and liquid. In this example, we will additionally consider larger linear\n",
    "elastic solid aggregates that are impermeable. Hence, there is no liquids in\n",
    "these particles and the only unknown variable is the displacement field `:u`.\n",
    "In the porous media, denoted the matrix, we have both the displacement field,\n",
    "`:u`, as well as the liquid pressure, `:p`, as unknown. The simulation result\n",
    "is shown below\n",
    "\n",
    "![Pressure evolution.](porous_media.gif)\n",
    "\n",
    "## Theory of porous media\n",
    "The strong forms are given as\n",
    "$$\n",
    "\\begin{aligned}\n",
    "\\boldsymbol{\\sigma}(\\boldsymbol{\\epsilon}, p) \\cdot \\boldsymbol{\\nabla} &= \\boldsymbol{0} \\\\\n",
    "\\dot{\\Phi}(\\boldsymbol{\\epsilon}, p) + \\boldsymbol{w}(p) \\cdot \\boldsymbol{\\nabla} &= 0\n",
    "\\end{aligned}\n",
    "$$\n",
    "where\n",
    "$\\boldsymbol{\\epsilon} = \\left[\\boldsymbol{u}\\otimes\\boldsymbol{\\nabla}\\right]^\\mathrm{sym}$\n",
    "The constitutive relationships are\n",
    "$$\n",
    "\\begin{aligned}\n",
    "\\boldsymbol{\\sigma} &= \\boldsymbol{\\mathsf{C}}:\\boldsymbol{\\epsilon} - \\alpha p \\boldsymbol{I} \\\\\n",
    "\\boldsymbol{w} &= - k \\boldsymbol{\\nabla} p \\\\\n",
    "\\Phi &= \\phi + \\alpha \\mathrm{tr}(\\boldsymbol{\\epsilon}) + \\beta p\n",
    "\\end{aligned}\n",
    "$$\n",
    "with\n",
    "$\\boldsymbol{\\mathsf{C}}=2G \\boldsymbol{\\mathsf{I}}^\\mathrm{dev} + 3K \\boldsymbol{I}\\otimes\\boldsymbol{I}$.\n",
    "The material parameters are then the\n",
    "shear modulus, $G$,\n",
    "bulk modulus, $K$,\n",
    "permeability, $k$,\n",
    "Biot's coefficient, $\\alpha$, and\n",
    "liquid compressibility, $\\beta$.\n",
    "The porosity, $\\phi$, doesn't enter into the equations\n",
    "(A different porosity leads to different skeleton stiffness and permeability).\n",
    "\n",
    "\n",
    "The variational (weak) form can then be derived for the variations $\\boldsymbol{\\delta u}$\n",
    "and $\\delta p$ as\n",
    "$$\n",
    "\\begin{aligned}\n",
    "\\int_\\Omega \\left[\\left[\\boldsymbol{\\delta u}\\otimes\\boldsymbol{\\nabla}\\right]^\\mathrm{sym}:\n",
    "\\boldsymbol{\\mathsf{C}}:\\boldsymbol{\\epsilon} - \\boldsymbol{\\delta u} \\cdot \\boldsymbol{\\nabla} \\alpha p\\right] \\mathrm{d}\\Omega\n",
    "&= \\int_\\Gamma \\boldsymbol{\\delta u} \\cdot \\boldsymbol{t} \\mathrm{d} \\Gamma \\\\\n",
    "\\int_\\Omega \\left[\\delta p \\left[\\alpha \\dot{\\boldsymbol{u}} \\cdot \\boldsymbol{\\nabla} + \\beta \\dot{p}\\right] +\n",
    "\\boldsymbol{\\nabla}(\\delta p) \\cdot [k \\boldsymbol{\\nabla}]\\right] \\mathrm{d}\\Omega\n",
    "&= \\int_\\Gamma \\delta p w_\\mathrm{n} \\mathrm{d} \\Gamma\n",
    "\\end{aligned}\n",
    "$$\n",
    "where $\\boldsymbol{t}=\\boldsymbol{n}\\cdot\\boldsymbol{\\sigma}$ is the traction and\n",
    "$w_\\mathrm{n} = \\boldsymbol{n}\\cdot\\boldsymbol{w}$ is the normal flux.\n",
    "\n",
    "### Finite element form\n",
    "Discretizing in space using finite elements, we obtain the vector equation\n",
    "$r_i = f_i^\\mathrm{int} - f_{i}^\\mathrm{ext}$ where $f^\\mathrm{ext}$ are the external\n",
    "\"forces\", and $f_i^\\mathrm{int}$ are the internal \"forces\". We split this into the\n",
    "displacement part $r_i^\\mathrm{u} = f_i^\\mathrm{int,u} - f_{i}^\\mathrm{ext,u}$ and\n",
    "pressure part $r_i^\\mathrm{p} = f_i^\\mathrm{int,p} - f_{i}^\\mathrm{ext,p}$\n",
    "to obtain the discretized equation system\n",
    "$$\n",
    "\\begin{aligned}\n",
    "f_i^\\mathrm{int,u} &= \\int_\\Omega [\\boldsymbol{\\delta N}^\\mathrm{u}_i\\otimes\\boldsymbol{\\nabla}]^\\mathrm{sym} : \\boldsymbol{\\mathsf{C}} : [\\boldsymbol{u}\\otimes\\boldsymbol{\\nabla}]^\\mathrm{sym} \\\n",
    "- [\\boldsymbol{\\delta N}^\\mathrm{u}_i \\cdot \\boldsymbol{\\nabla}] \\alpha p \\mathrm{d}\\Omega\n",
    "&= \\int_\\Gamma \\boldsymbol{\\delta N}^\\mathrm{u}_i \\cdot \\boldsymbol{t} \\mathrm{d} \\Gamma \\\\\n",
    "f_i^\\mathrm{int,p} &= \\int_\\Omega \\delta N_i^\\mathrm{p} [\\alpha [\\dot{\\boldsymbol{u}}\\cdot\\boldsymbol{\\nabla}]  + \\beta\\dot{p}] + \\boldsymbol{\\nabla}(\\delta N_i^\\mathrm{p}) \\cdot [k \\boldsymbol{\\nabla}(p)] \\mathrm{d}\\Omega\n",
    "&= \\int_\\Gamma \\delta N_i^\\mathrm{p} w_\\mathrm{n} \\mathrm{d} \\Gamma\n",
    "\\end{aligned}\n",
    "$$\n",
    "Approximating the time-derivatives, $\\dot{\\boldsymbol{u}}\\approx \\left[\\boldsymbol{u}-{}^n\\boldsymbol{u}\\right]/\\Delta t$\n",
    "and $\\dot{p}\\approx \\left[p-{}^np\\right]/\\Delta t$, we can implement the finite element equations in the residual form\n",
    "$r_i(\\boldsymbol{a}(t), t) = 0$ where the vector $\\boldsymbol{a}$ contains all unknown displacements $u_i$ and pressures $p_i$.\n",
    "\n",
    "The jacobian, $K_{ij} = \\partial r_i/\\partial a_j$, is then split into four parts,\n",
    "$$\n",
    "\\begin{aligned}\n",
    "K_{ij}^\\mathrm{uu} &= \\frac{\\partial r_i^\\mathrm{u}}{\\partial u_j} = \\int_\\Omega [\\boldsymbol{\\delta N}^\\mathrm{u}_i\\otimes\\boldsymbol{\\nabla}]^\\mathrm{sym} : \\boldsymbol{\\mathsf{C}} : [\\boldsymbol{N}_j^\\mathrm{u}\\otimes\\boldsymbol{\\nabla}]^\\mathrm{sym}\\ \\mathrm{d}\\Omega \\\\\n",
    "K_{ij}^\\mathrm{up} &= \\frac{\\partial r_i^\\mathrm{u}}{\\partial p_j} = - \\int_\\Omega [\\boldsymbol{\\delta N}^\\mathrm{u}_i \\cdot \\boldsymbol{\\nabla}] \\alpha N_j^\\mathrm{p}\\ \\mathrm{d}\\Omega \\\\\n",
    "K_{ij}^\\mathrm{pu} &= \\frac{\\partial r_i^\\mathrm{p}}{\\partial u_j} = \\int_\\Omega \\delta N_i^\\mathrm{p} \\frac{\\alpha}{\\Delta t} [\\boldsymbol{N}_j^\\mathrm{u} \\cdot\\boldsymbol{\\nabla}]\\ \\mathrm{d}\\Omega\\\\\n",
    "K_{ij}^\\mathrm{pp} &= \\frac{\\partial r_i^\\mathrm{p}}{\\partial p_j} = \\int_\\Omega \\delta N_i^\\mathrm{p} \\frac{N_j^\\mathrm{p}}{\\Delta t} + \\boldsymbol{\\nabla}(\\delta N_i^\\mathrm{p}) \\cdot [k \\boldsymbol{\\nabla}(N_j^\\mathrm{p})] \\mathrm{d}\\Omega\n",
    "\\end{aligned}\n",
    "$$\n",
    "\n",
    "We could assemble one stiffness matrix and one mass matrix, which would be constant, but for simplicity we only consider a single\n",
    "system matrix that depends on the time step, and assemble this for each step. The equations are still linear, so no iterations are required.\n",
    "\n",
    "## Implementation\n",
    "We now solve the problem step by step. The full program with fewer comments is found in\n",
    "\n",
    "Required packages"
   ],
   "metadata": {}
  },
  {
   "outputs": [],
   "cell_type": "code",
   "source": [
    "using Ferrite, FerriteMeshParser, Tensors, WriteVTK"
   ],
   "metadata": {},
   "execution_count": 1
  },
  {
   "cell_type": "markdown",
   "source": [
    "### Elasticity\n",
    "We start by defining the elastic material type, containing the elastic stiffness,\n",
    "for the linear elastic impermeable solid aggregates."
   ],
   "metadata": {}
  },
  {
   "outputs": [],
   "cell_type": "code",
   "source": [
    "struct Elastic{T}\n",
    "    C::SymmetricTensor{4,2,T,9}\n",
    "end\n",
    "function Elastic(;E=20.e3, ν=0.3)\n",
    "    G = E / 2(1 + ν)\n",
    "    K = E / 3(1 - 2ν)\n",
    "    I2 = one(SymmetricTensor{2,2})\n",
    "    I4vol = I2⊗I2\n",
    "    I4dev = minorsymmetric(otimesu(I2,I2)) - I4vol / 3\n",
    "    return Elastic(2G*I4dev + K*I4vol)\n",
    "end;"
   ],
   "metadata": {},
   "execution_count": 2
  },
  {
   "cell_type": "markdown",
   "source": [
    "Next, we define the element routine for the solid aggregates, where we dispatch on the\n",
    "`Elastic` material struct. Note that the unused inputs here are used for the porous matrix below."
   ],
   "metadata": {}
  },
  {
   "outputs": [],
   "cell_type": "code",
   "source": [
    "function element_routine!(Ke, re, material::Elastic, cv, cell, a, args...)\n",
    "    reinit!(cv, cell)\n",
    "    n_basefuncs = getnbasefunctions(cv)\n",
    "\n",
    "    for q_point in 1:getnquadpoints(cv)\n",
    "        dΩ = getdetJdV(cv, q_point)\n",
    "        ϵ = function_symmetric_gradient(cv, q_point, a)\n",
    "        σ = material.C ⊡ ϵ\n",
    "        for i in 1:n_basefuncs\n",
    "            δ∇N = shape_symmetric_gradient(cv, q_point, i)\n",
    "            re[i] += (δ∇N ⊡ σ)*dΩ\n",
    "            for j in 1:n_basefuncs\n",
    "                ∇N = shape_symmetric_gradient(cv, q_point, j)\n",
    "                Ke[i, j] += (δ∇N ⊡ material.C ⊡ ∇N) * dΩ\n",
    "            end\n",
    "        end\n",
    "    end\n",
    "end;"
   ],
   "metadata": {},
   "execution_count": 3
  },
  {
   "cell_type": "markdown",
   "source": [
    "### PoroElasticity\n",
    "To define the poroelastic material, we re-use the elastic part from above for\n",
    "the skeleton, and add the additional required material parameters."
   ],
   "metadata": {}
  },
  {
   "outputs": [],
   "cell_type": "code",
   "source": [
    "struct PoroElastic{T}\n",
    "    elastic::Elastic{T} ## Skeleton stiffness\n",
    "    k::T     ## Permeability of liquid   [mm^4/(Ns)]\n",
    "    ϕ::T     ## Porosity                 [-]\n",
    "    α::T     ## Biot's coefficient       [-]\n",
    "    β::T     ## Liquid compressibility   [1/MPa]\n",
    "end\n",
    "PoroElastic(;elastic, k, ϕ, α, β) = PoroElastic(elastic, k, ϕ, α, β);"
   ],
   "metadata": {},
   "execution_count": 4
  },
  {
   "cell_type": "markdown",
   "source": [
    "The element routine requires a few more inputs since we have two fields, as well\n",
    "as the dependence on the rates of the displacements and pressure.\n",
    "Again, we dispatch on the material type."
   ],
   "metadata": {}
  },
  {
   "outputs": [],
   "cell_type": "code",
   "source": [
    "function element_routine!(Ke, re, m::PoroElastic, cvs::Tuple, cell, a, a_old, Δt, sdh)\n",
    "    # Setup cellvalues and give easier names\n",
    "    reinit!.(cvs, (cell,))\n",
    "    cv_u, cv_p = cvs\n",
    "    dr_u = dof_range(sdh, :u)\n",
    "    dr_p = dof_range(sdh, :p)\n",
    "\n",
    "    C = m.elastic.C ## Elastic stiffness\n",
    "\n",
    "    # Assemble stiffness and force vectors\n",
    "    for q_point in 1:getnquadpoints(cv_u)\n",
    "        dΩ = getdetJdV(cv_u, q_point)\n",
    "        p = function_value(cv_p, q_point, a, dr_p)\n",
    "        p_old = function_value(cv_p, q_point, a_old, dr_p)\n",
    "        pdot = (p - p_old)/Δt\n",
    "        ∇p = function_gradient(cv_p, q_point, a, dr_p)\n",
    "        ϵ = function_symmetric_gradient(cv_u, q_point, a, dr_u)\n",
    "        tr_ϵ_old = function_divergence(cv_u, q_point, a_old, dr_u)\n",
    "        tr_ϵ_dot = (tr(ϵ) - tr_ϵ_old)/Δt\n",
    "        σ_eff = C ⊡ ϵ\n",
    "        # Variation of u_i\n",
    "        for (iᵤ, Iᵤ) in pairs(dr_u)\n",
    "            ∇δNu = shape_symmetric_gradient(cv_u, q_point, iᵤ)\n",
    "            div_δNu = shape_divergence(cv_u, q_point, iᵤ)\n",
    "            re[Iᵤ] += (∇δNu ⊡ σ_eff - div_δNu*p*m.α) * dΩ\n",
    "            for (jᵤ, Jᵤ) in pairs(dr_u)\n",
    "                ∇Nu = shape_symmetric_gradient(cv_u, q_point, jᵤ)\n",
    "                Ke[Iᵤ, Jᵤ] += (∇δNu ⊡ C ⊡ ∇Nu) * dΩ\n",
    "            end\n",
    "            for (jₚ, Jₚ) in pairs(dr_p)\n",
    "                Np = shape_value(cv_p, q_point, jₚ)\n",
    "                Ke[Iᵤ, Jₚ] -= (div_δNu * m.α * Np) * dΩ\n",
    "            end\n",
    "        end\n",
    "        # Variation of p_i\n",
    "        for (iₚ, Iₚ) in pairs(dr_p)\n",
    "            δNp = shape_value(cv_p, q_point, iₚ)\n",
    "            ∇δNp = shape_gradient(cv_p, q_point, iₚ)\n",
    "            re[Iₚ] += (δNp * (m.α * tr_ϵ_dot + m.β*pdot) + m.k * (∇δNp ⋅ ∇p) ) * dΩ\n",
    "            for (jᵤ, Jᵤ) in pairs(dr_u)\n",
    "                div_Nu = shape_divergence(cv_u, q_point, jᵤ)\n",
    "                Ke[Iₚ,Jᵤ] += δNp*(m.α/Δt)*div_Nu*dΩ\n",
    "            end\n",
    "            for (jₚ, Jₚ) in pairs(dr_p)\n",
    "                ∇Np = shape_gradient(cv_p, q_point, jₚ)\n",
    "                Np = shape_value(cv_p, q_point, jₚ)\n",
    "                Ke[Iₚ,Jₚ] += (δNp * m.β*Np/Δt + m.k * (∇δNp ⋅ ∇Np) ) * dΩ\n",
    "            end\n",
    "        end\n",
    "    end\n",
    "end;"
   ],
   "metadata": {},
   "execution_count": 5
  },
  {
   "cell_type": "markdown",
   "source": [
    "### Assembly\n",
    "To organize the different domains, we'll first define a container type"
   ],
   "metadata": {}
  },
  {
   "outputs": [],
   "cell_type": "code",
   "source": [
    "struct FEDomain{M,CV,SDH<:SubDofHandler}\n",
    "    material::M\n",
    "    cellvalues::CV\n",
    "    sdh::SDH\n",
    "end;"
   ],
   "metadata": {},
   "execution_count": 6
  },
  {
   "cell_type": "markdown",
   "source": [
    "And then we can loop over a vector of such domains, allowing us to\n",
    "loop over each domain, to assemble the contributions from each\n",
    "cell in that domain (given by the `SubDofHandler`'s cellset)"
   ],
   "metadata": {}
  },
  {
   "outputs": [],
   "cell_type": "code",
   "source": [
    "function doassemble!(K, r, domains::Vector{<:FEDomain}, a, a_old, Δt)\n",
    "    assembler = start_assemble(K, r)\n",
    "    for domain in domains\n",
    "        doassemble!(assembler, domain, a, a_old, Δt)\n",
    "    end\n",
    "end;"
   ],
   "metadata": {},
   "execution_count": 7
  },
  {
   "cell_type": "markdown",
   "source": [
    "For one domain (corresponding to a specific SubDofHandler),\n",
    "we can then loop over all cells in its cellset. Doing this\n",
    "in a separate function (instead of a nested loop), ensures\n",
    "that the calls to the `element_routine` are type stable,\n",
    "which can be important for good performance."
   ],
   "metadata": {}
  },
  {
   "outputs": [],
   "cell_type": "code",
   "source": [
    "function doassemble!(assembler, domain::FEDomain, a, a_old, Δt)\n",
    "    material = domain.material\n",
    "    cv = domain.cellvalues\n",
    "    sdh = domain.sdh\n",
    "    n = ndofs_per_cell(sdh)\n",
    "    Ke = zeros(n,n)\n",
    "    re = zeros(n)\n",
    "    ae_old = zeros(n)\n",
    "    ae = zeros(n)\n",
    "    for cell in CellIterator(sdh)\n",
    "        # copy values from a to ae\n",
    "        map!(i->a[i], ae, celldofs(cell))\n",
    "        map!(i->a_old[i], ae_old, celldofs(cell))\n",
    "        fill!(Ke, 0)\n",
    "        fill!(re, 0)\n",
    "        element_routine!(Ke, re, material, cv, cell, ae, ae_old, Δt, sdh)\n",
    "        assemble!(assembler, celldofs(cell), Ke, re)\n",
    "    end\n",
    "end;"
   ],
   "metadata": {},
   "execution_count": 8
  },
  {
   "cell_type": "markdown",
   "source": [
    "### Mesh import\n",
    "In this example, we import the mesh from the Abaqus input file, [`porous_media_0p25.inp`](porous_media_0p25.inp) using `FerriteMeshParser`'s\n",
    "`get_ferrite_grid` function. We then create one cellset for each phase (solid and porous)\n",
    "for each element type. These 4 sets will later be used in their own `SubDofHandler`"
   ],
   "metadata": {}
  },
  {
   "outputs": [],
   "cell_type": "code",
   "source": [
    "function get_grid()\n",
    "    # Import grid from abaqus mesh\n",
    "    grid = get_ferrite_grid(joinpath(@__DIR__, \"porous_media_0p25.inp\"))\n",
    "\n",
    "    # Create cellsets for each fieldhandler\n",
    "    addcellset!(grid, \"solid3\", intersect(getcellset(grid, \"solid\"), getcellset(grid, \"CPS3\")))\n",
    "    addcellset!(grid, \"solid4\", intersect(getcellset(grid, \"solid\"), getcellset(grid, \"CPS4R\")))\n",
    "    addcellset!(grid, \"porous3\", intersect(getcellset(grid, \"porous\"), getcellset(grid, \"CPS3\")))\n",
    "    addcellset!(grid, \"porous4\", intersect(getcellset(grid, \"porous\"), getcellset(grid, \"CPS4R\")))\n",
    "    return grid\n",
    "end;"
   ],
   "metadata": {},
   "execution_count": 9
  },
  {
   "cell_type": "markdown",
   "source": [
    "### Problem setup\n",
    "Define the finite element interpolation, integration, and boundary conditions."
   ],
   "metadata": {}
  },
  {
   "outputs": [],
   "cell_type": "code",
   "source": [
    "function setup_problem(;t_rise=0.1, u_max=-0.1)\n",
    "\n",
    "    grid = get_grid()\n",
    "\n",
    "    # Define materials\n",
    "    m_solid = Elastic(;E=20.e3, ν=0.3)\n",
    "    m_porous = PoroElastic(;elastic=Elastic(;E=10e3, ν=0.3), β=1/15e3, α=0.9, k=5.0e-3, ϕ=0.8)\n",
    "\n",
    "    # Define interpolations\n",
    "    ipu_quad = Lagrange{RefQuadrilateral,2}()^2\n",
    "    ipu_tri  = Lagrange{RefTriangle,2}()^2\n",
    "    ipp_quad = Lagrange{RefQuadrilateral,1}()\n",
    "    ipp_tri  = Lagrange{RefTriangle,1}()\n",
    "\n",
    "    # Quadrature rules\n",
    "    qr_quad = QuadratureRule{RefQuadrilateral}(2)\n",
    "    qr_tri  = QuadratureRule{RefTriangle}(2)\n",
    "\n",
    "    # CellValues\n",
    "    cvu_quad = CellValues(qr_quad, ipu_quad)\n",
    "    cvu_tri = CellValues(qr_tri, ipu_tri)\n",
    "    cvp_quad = CellValues(qr_quad, ipp_quad)\n",
    "    cvp_tri = CellValues(qr_tri, ipp_tri)\n",
    "\n",
    "    # Setup the DofHandler\n",
    "    dh = DofHandler(grid)\n",
    "    # Solid quads\n",
    "    sdh_solid_quad = SubDofHandler(dh, getcellset(grid,\"solid4\"))\n",
    "    add!(sdh_solid_quad, :u, ipu_quad)\n",
    "    # Solid triangles\n",
    "    sdh_solid_tri = SubDofHandler(dh, getcellset(grid,\"solid3\"))\n",
    "    add!(sdh_solid_tri, :u, ipu_tri)\n",
    "    # Porous quads\n",
    "    sdh_porous_quad = SubDofHandler(dh, getcellset(grid, \"porous4\"))\n",
    "    add!(sdh_porous_quad, :u, ipu_quad)\n",
    "    add!(sdh_porous_quad, :p, ipp_quad)\n",
    "    # Porous triangles\n",
    "    sdh_porous_tri = SubDofHandler(dh, getcellset(grid, \"porous3\"))\n",
    "    add!(sdh_porous_tri, :u, ipu_tri)\n",
    "    add!(sdh_porous_tri, :p, ipp_tri)\n",
    "\n",
    "    close!(dh)\n",
    "\n",
    "    # Setup the domains\n",
    "    domains = [FEDomain(m_solid, cvu_quad, sdh_solid_quad),\n",
    "               FEDomain(m_solid, cvu_tri, sdh_solid_tri),\n",
    "               FEDomain(m_porous, (cvu_quad, cvp_quad), sdh_porous_quad),\n",
    "               FEDomain(m_porous, (cvu_tri, cvp_tri), sdh_porous_tri)\n",
    "               ]\n",
    "\n",
    "    # Boundary conditions\n",
    "    # Sliding for u, except top which is compressed\n",
    "    # Sealed for p, except top with prescribed zero pressure\n",
    "    addfacetset!(dh.grid, \"sides\", x -> x[1] < 1e-6 || x[1] ≈ 5.0)\n",
    "    addfacetset!(dh.grid, \"top\", x -> x[2]≈10.0)\n",
    "    ch = ConstraintHandler(dh);\n",
    "    add!(ch, Dirichlet(:u, getfacetset(grid, \"bottom\"), (x, t) -> zero(Vec{1}), [2]))\n",
    "    add!(ch, Dirichlet(:u, getfacetset(grid, \"sides\"), (x, t) -> zero(Vec{1}), [1]))\n",
    "    add!(ch, Dirichlet(:u, getfacetset(grid, \"top\"), (x, t) -> u_max*clamp(t/t_rise, 0, 1), [2]))\n",
    "    add!(ch, Dirichlet(:p, getfacetset(grid, \"top_p\"), (x, t) -> 0.0))\n",
    "    close!(ch)\n",
    "\n",
    "    return dh, ch, domains\n",
    "end;"
   ],
   "metadata": {},
   "execution_count": 10
  },
  {
   "cell_type": "markdown",
   "source": [
    "### Solving\n",
    "Given the `DofHandler`, `ConstraintHandler`, and `CellValues`,\n",
    "we can solve the problem by stepping through the time history"
   ],
   "metadata": {}
  },
  {
   "outputs": [],
   "cell_type": "code",
   "source": [
    "function solve(dh, ch, domains; Δt=0.025, t_total=1.0)\n",
    "    K = allocate_matrix(dh)\n",
    "    r = zeros(ndofs(dh))\n",
    "    a = zeros(ndofs(dh))\n",
    "    a_old = copy(a)\n",
    "    pvd = paraview_collection(\"porous_media\")\n",
    "    step = 0\n",
    "    for t in 0:Δt:t_total\n",
    "        if t>0\n",
    "            update!(ch, t)\n",
    "            apply!(a, ch)\n",
    "            doassemble!(K, r, domains, a, a_old, Δt)\n",
    "            apply_zero!(K, r, ch)\n",
    "            Δa = -K\\r\n",
    "            apply_zero!(Δa, ch)\n",
    "            a .+= Δa\n",
    "            copyto!(a_old, a)\n",
    "        end\n",
    "        step += 1\n",
    "        VTKGridFile(\"porous_media_$step\", dh) do vtk\n",
    "            write_solution(vtk, dh, a)\n",
    "            pvd[t] = vtk\n",
    "        end\n",
    "    end\n",
    "    vtk_save(pvd);\n",
    "end;"
   ],
   "metadata": {},
   "execution_count": 11
  },
  {
   "cell_type": "markdown",
   "source": [
    "Finally we call the functions to actually run the code"
   ],
   "metadata": {}
  },
  {
   "outputs": [],
   "cell_type": "code",
   "source": [
    "dh, ch, domains = setup_problem()\n",
    "solve(dh, ch, domains);"
   ],
   "metadata": {},
   "execution_count": 12
  },
  {
   "cell_type": "markdown",
   "source": [
    "---\n",
    "\n",
    "*This notebook was generated using [Literate.jl](https://github.com/fredrikekre/Literate.jl).*"
   ],
   "metadata": {}
  }
 ],
 "nbformat_minor": 3,
 "metadata": {
  "language_info": {
   "file_extension": ".jl",
   "mimetype": "application/julia",
   "name": "julia",
   "version": "1.10.5"
  },
  "kernelspec": {
   "name": "julia-1.10",
   "display_name": "Julia 1.10.5",
   "language": "julia"
  }
 },
 "nbformat": 4
}
