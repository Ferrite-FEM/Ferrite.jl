{
 "cells": [
  {
   "outputs": [],
   "cell_type": "code",
   "source": [
    "if isdefined(Main, :is_ci) #hide\n",
    "    IS_CI = Main.is_ci     #hide\n",
    "else                       #hide\n",
    "    IS_CI = false          #hide\n",
    "end                        #hide\n",
    "nothing                    #hide"
   ],
   "metadata": {},
   "execution_count": 1
  },
  {
   "cell_type": "markdown",
   "source": [
    "# Incompressible Navier-Stokes equations via DifferentialEquations.jl\n",
    "\n",
    "![nsdiffeq](nsdiffeq.gif)\n",
    "\n",
    "\n",
    "In this example we focus on a simple but visually appealing problem from\n",
    "fluid dynamics, namely vortex shedding. This problem is also known as\n",
    "[von-Karman vortex streets](https://en.wikipedia.org/wiki/K%C3%A1rm%C3%A1n_vortex_street). Within this example, we show how to utilize [DifferentialEquations.jl](https://github.com/SciML/DifferentialEquations.jl)\n",
    "in tandem with Ferrite to solve this space-time problem. To keep things simple we use a naive approach\n",
    "to discretize the system.\n",
    "\n",
    "## Remarks on DifferentialEquations.jl\n",
    "\n",
    "> **Required Version**\n",
    ">\n",
    "> This example will only work with OrdinaryDiffEq@v6.80.1. or above\n",
    "\n",
    "Many \"time step solvers\" of [DifferentialEquations.jl](https://github.com/SciML/DifferentialEquations.jl) assume that that the\n",
    "problem is provided in mass matrix form. The incompressible Navier-Stokes\n",
    "equations as stated above yield a DAE in this form after applying a spatial\n",
    "discretization technique - in our case FEM. The mass matrix form of ODEs and DAEs\n",
    "is given as:\n",
    "$$\n",
    "  M(t) \\mathrm{d}_t u = f(u,t)\n",
    "$$\n",
    "where $M$ is a possibly time-dependent and not necessarily invertible mass matrix,\n",
    "$u$ the vector of unknowns and $f$ the right-hand-side (RHS). For us $f$ can be interpreted as\n",
    "the spatial discretization of all linear and nonlinear operators depending on $u$ and $t$,\n",
    "but not on the time derivative of $u$.\n",
    "\n",
    "## Some theory on the incompressible Navier-Stokes equations\n",
    "\n",
    "### Problem description in strong form\n",
    "\n",
    "The incompressible Navier-Stokes equations can be stated as the system\n",
    "$$\n",
    " \\begin{aligned}\n",
    "   \\partial_t v &= \\underbrace{\\nu \\Delta v}_{\\text{viscosity}} - \\underbrace{(v \\cdot \\nabla) v}_{\\text{advection}} - \\underbrace{\\nabla p}_{\\text{pressure}} \\\\\n",
    "              0 &= \\underbrace{\\nabla \\cdot v}_{\\text{incompressibility}}\n",
    " \\end{aligned}\n",
    "$$\n",
    "where $v$ is the unknown velocity field, $p$ the unknown pressure field,\n",
    "$\\nu$ the dynamic viscosity and $\\Delta$ the Laplacian. In the derivation we assumed\n",
    "a constant density of 1 for the fluid and negligible coupling between the velocity components.\n",
    "\n",
    "Our setup is derived from [Turek's DFG benchmark](http://www.mathematik.tu-dortmund.de/~featflow/en/benchmarks/cfdbenchmarking/flow/dfg_benchmark2_re100.html).\n",
    "We model a channel with size $0.41 \\times 1.1$ and a hole of radius $0.05$ centered at $(0.2, 0.2)$.\n",
    "The left side has a parabolic inflow profile, which is ramped up over time, modeled as the time dependent\n",
    "Dirichlet condition\n",
    "$$\n",
    " v(x,y,t)\n",
    " =\n",
    " \\begin{bmatrix}\n",
    "     4 v_{in}(t) y (0.41-y)/0.41^2 \\\\\n",
    "     0\n",
    " \\end{bmatrix}\n",
    "$$\n",
    "where $v_{in}(t) = \\text{clamp}(t, 0.0, 1.5)$. With a dynamic viscosity of $\\nu = 0.001$\n",
    "this is enough to induce turbulence behind the cylinder which leads to vortex shedding. The top and bottom of our\n",
    "channel have no-slip conditions, i.e. $v = [0,0]^{\\textrm{T}}$, while the right boundary has the do-nothing boundary condition\n",
    "$\\nu \\partial_{\\textrm{n}} v - p n = 0$ to model outflow. With these boundary conditions we can choose the zero solution as a\n",
    "feasible initial condition.\n",
    "\n",
    "### Derivation of Semi-Discrete Weak Form\n",
    "\n",
    "By multiplying test functions $\\varphi$ and $\\psi$ from a suitable test function space on the strong form,\n",
    "followed by integrating over the domain and applying partial integration to the pressure and viscosity terms\n",
    "we can obtain the following weak form\n",
    "$$\n",
    " \\begin{aligned}\n",
    "   \\int_\\Omega \\partial_t v \\cdot \\varphi &= - \\int_\\Omega \\nu \\nabla v : \\nabla \\varphi - \\int_\\Omega (v \\cdot \\nabla) v \\cdot \\varphi + \\int_\\Omega p (\\nabla \\cdot \\varphi) + \\int_{\\partial \\Omega_{N}} \\underbrace{(\\nu \\partial_n v - p n )}_{=0} \\cdot \\varphi \\\\\n",
    "                                 0 &= \\int_\\Omega (\\nabla \\cdot v) \\psi\n",
    " \\end{aligned}\n",
    "$$\n",
    "for all possible test functions from the suitable space.\n",
    "\n",
    "Now we can discretize the problem as usual with the finite element method\n",
    "utilizing Taylor-Hood elements (Q2Q1) to yield a stable discretization in\n",
    "mass matrix form:\n",
    "$$\n",
    " \\underbrace{\\begin{bmatrix}\n",
    "     M_v & 0 \\\\\n",
    "      0  & 0\n",
    " \\end{bmatrix}}_{:=M}\n",
    " \\begin{bmatrix}\n",
    "     \\mathrm{d}_t\\hat{v} \\\\\n",
    "     \\mathrm{d}_t\\hat{p}\n",
    " \\end{bmatrix}\n",
    " =\n",
    " \\underbrace{\\begin{bmatrix}\n",
    "      A & B^{\\textrm{T}} \\\\\n",
    "      B & 0\n",
    " \\end{bmatrix}}_{:=K}\n",
    " \\begin{bmatrix}\n",
    "     \\hat{v} \\\\\n",
    "     \\hat{p}\n",
    " \\end{bmatrix}\n",
    " +\n",
    " \\begin{bmatrix}\n",
    "     N(\\hat{v}, \\hat{v}, \\hat{\\varphi}) \\\\\n",
    "     0\n",
    " \\end{bmatrix}\n",
    "$$\n",
    "Here $M$ is the singular block mass matrix, $K$ is the discretized Stokes operator and $N$ the nonlinear advection term, which\n",
    "is also called trilinear form. $\\hat{v}$ and $\\hat{p}$ represent the time-dependent vectors of nodal values of the discretizations\n",
    "of $v$ and $p$ respectively, while $\\hat{\\varphi}$ is the choice for the test function in the discretization. The hats are dropped\n",
    "in the implementation and only stated for clarity in this section.\n",
    "\n",
    "\n",
    "## Commented implementation\n",
    "\n",
    "Now we solve the problem with Ferrite and [DifferentialEquations.jl](https://github.com/SciML/DifferentialEquations.jl). What follows is a program spliced with comments.\n",
    "The full program, without comments, can be found in the next section.\n",
    "\n",
    "First we load Ferrite and some other packages we need"
   ],
   "metadata": {}
  },
  {
   "outputs": [],
   "cell_type": "code",
   "source": [
    "using Ferrite, SparseArrays, BlockArrays, LinearAlgebra, UnPack, LinearSolve, WriteVTK"
   ],
   "metadata": {},
   "execution_count": 2
  },
  {
   "cell_type": "markdown",
   "source": [
    "Since we do not need the complete DifferentialEquations suite, we just load the required ODE infrastructure, which can also handle\n",
    "DAEs in mass matrix form."
   ],
   "metadata": {}
  },
  {
   "outputs": [],
   "cell_type": "code",
   "source": [
    "using OrdinaryDiffEq"
   ],
   "metadata": {},
   "execution_count": 3
  },
  {
   "cell_type": "markdown",
   "source": [
    "We start off by defining our only material parameter."
   ],
   "metadata": {}
  },
  {
   "outputs": [],
   "cell_type": "code",
   "source": [
    "ν = 1.0 / 1000.0; #dynamic viscosity"
   ],
   "metadata": {},
   "execution_count": 4
  },
  {
   "cell_type": "markdown",
   "source": [
    "Next a rectangular grid with a cylinder in it has to be generated.\n",
    "We use Gmsh.jl for the creation of the mesh and FerriteGmsh.jl to translate it to a `Ferrite.Grid`.\n",
    "Note that the mesh is pretty fine, leading to a high memory consumption when\n",
    "feeding the equation system to direct solvers."
   ],
   "metadata": {}
  },
  {
   "outputs": [],
   "cell_type": "code",
   "source": [
    "using FerriteGmsh\n",
    "using FerriteGmsh: Gmsh\n",
    "Gmsh.initialize()\n",
    "gmsh.option.set_number(\"General.Verbosity\", 2)\n",
    "dim = 2;"
   ],
   "metadata": {},
   "execution_count": 5
  },
  {
   "cell_type": "markdown",
   "source": [
    "We specify first the rectangle, the cylinder, the surface spanned by the cylinder\n",
    "and the boolean difference of rectangle and cylinder."
   ],
   "metadata": {}
  },
  {
   "outputs": [],
   "cell_type": "code",
   "source": [
    "if !IS_CI                                                                                           #hide\n",
    "    rect_tag = gmsh.model.occ.add_rectangle(0, 0, 0, 1.1, 0.41)\n",
    "    circle_tag = gmsh.model.occ.add_circle(0.2, 0.2, 0, 0.05)\n",
    "    circle_curve_tag = gmsh.model.occ.add_curve_loop([circle_tag])\n",
    "    circle_surf_tag = gmsh.model.occ.add_plane_surface([circle_curve_tag])\n",
    "    gmsh.model.occ.cut([(dim, rect_tag)], [(dim, circle_surf_tag)])\n",
    "else                                                                                                #hide\n",
    "    rect_tag = gmsh.model.occ.add_rectangle(0, 0, 0, 0.55, 0.41)                                    #hide\n",
    "end                                                                                                 #hide\n",
    "nothing                                                                                             #hide"
   ],
   "metadata": {},
   "execution_count": 6
  },
  {
   "cell_type": "markdown",
   "source": [
    "Now, the geometrical entities need to be synchronized in order to be available outside\n",
    "of `gmsh.model.occ`"
   ],
   "metadata": {}
  },
  {
   "outputs": [],
   "cell_type": "code",
   "source": [
    "gmsh.model.occ.synchronize()"
   ],
   "metadata": {},
   "execution_count": 7
  },
  {
   "cell_type": "markdown",
   "source": [
    "In the next lines, we add the physical groups needed to define boundary conditions."
   ],
   "metadata": {}
  },
  {
   "outputs": [],
   "cell_type": "code",
   "source": [
    "if !IS_CI                                                                                           #hide\n",
    "    bottomtag = gmsh.model.model.add_physical_group(dim - 1, [6], -1, \"bottom\")\n",
    "    lefttag = gmsh.model.model.add_physical_group(dim - 1, [7], -1, \"left\")\n",
    "    righttag = gmsh.model.model.add_physical_group(dim - 1, [8], -1, \"right\")\n",
    "    toptag = gmsh.model.model.add_physical_group(dim - 1, [9], -1, \"top\")\n",
    "    holetag = gmsh.model.model.add_physical_group(dim - 1, [5], -1, \"hole\")\n",
    "else                                                                                                #hide\n",
    "    gmsh.model.model.add_physical_group(dim - 1, [4], 7, \"left\")                                    #hide\n",
    "    gmsh.model.model.add_physical_group(dim - 1, [3], 8, \"top\")                                     #hide\n",
    "    gmsh.model.model.add_physical_group(dim - 1, [2], 9, \"right\")                                   #hide\n",
    "    gmsh.model.model.add_physical_group(dim - 1, [1], 10, \"bottom\")                                 #hide\n",
    "end                                                                                                 #hide\n",
    "nothing                                                                                             #hide"
   ],
   "metadata": {},
   "execution_count": 8
  },
  {
   "cell_type": "markdown",
   "source": [
    "Since we want a quad mesh, we specify the meshing algorithm to the quasi structured quad one.\n",
    "For a complete list, [see the Gmsh docs](https://gmsh.info/doc/texinfo/gmsh.html#Mesh-options-list)."
   ],
   "metadata": {}
  },
  {
   "outputs": [],
   "cell_type": "code",
   "source": [
    "gmsh.option.setNumber(\"Mesh.Algorithm\", 11)\n",
    "gmsh.option.setNumber(\"Mesh.MeshSizeFromCurvature\", 20)\n",
    "gmsh.option.setNumber(\"Mesh.MeshSizeMax\", 0.05)\n",
    "if IS_CI                                                                                            #hide\n",
    "    gmsh.option.setNumber(\"Mesh.MeshSizeFromCurvature\", 20)                                         #hide\n",
    "    gmsh.option.setNumber(\"Mesh.MeshSizeMax\", 0.15)                                                 #hide\n",
    "end                                                                                                 #hide"
   ],
   "metadata": {},
   "execution_count": 9
  },
  {
   "cell_type": "markdown",
   "source": [
    "In the next step, the mesh is generated and finally translated."
   ],
   "metadata": {}
  },
  {
   "outputs": [],
   "cell_type": "code",
   "source": [
    "gmsh.model.mesh.generate(dim)\n",
    "grid = togrid()\n",
    "Gmsh.finalize();"
   ],
   "metadata": {},
   "execution_count": 10
  },
  {
   "cell_type": "markdown",
   "source": [
    " ### Function Space\n",
    " To ensure stability we utilize the Taylor-Hood element pair Q2-Q1.\n",
    " We have to utilize the same quadrature rule for the pressure as for the velocity, because in the weak form the\n",
    " linear pressure term is tested against a quadratic function."
   ],
   "metadata": {}
  },
  {
   "outputs": [],
   "cell_type": "code",
   "source": [
    "ip_v = Lagrange{RefQuadrilateral, 2}()^dim\n",
    "qr = QuadratureRule{RefQuadrilateral}(4)\n",
    "cellvalues_v = CellValues(qr, ip_v);\n",
    "\n",
    "ip_p = Lagrange{RefQuadrilateral, 1}()\n",
    "cellvalues_p = CellValues(qr, ip_p);\n",
    "\n",
    "dh = DofHandler(grid)\n",
    "add!(dh, :v, ip_v)\n",
    "add!(dh, :p, ip_p)\n",
    "close!(dh);"
   ],
   "metadata": {},
   "execution_count": 11
  },
  {
   "cell_type": "markdown",
   "source": [
    "### Boundary conditions\n",
    "As in the DFG benchmark we apply no-slip conditions to the top, bottom and\n",
    "cylinder boundary. The no-slip condition states that the velocity of the\n",
    "fluid on this portion of the boundary is fixed to be zero."
   ],
   "metadata": {}
  },
  {
   "outputs": [],
   "cell_type": "code",
   "source": [
    "ch = ConstraintHandler(dh);\n",
    "\n",
    "nosplip_facet_names = [\"top\", \"bottom\", \"hole\"];\n",
    "if IS_CI                                                                #hide\n",
    "    nosplip_facet_names = [\"top\", \"bottom\"]                             #hide\n",
    "end                                                                     #hide\n",
    "∂Ω_noslip = union(getfacetset.((grid,), nosplip_facet_names)...);\n",
    "noslip_bc = Dirichlet(:v, ∂Ω_noslip, (x, t) -> Vec((0.0, 0.0)), [1, 2])\n",
    "add!(ch, noslip_bc);"
   ],
   "metadata": {},
   "execution_count": 12
  },
  {
   "cell_type": "markdown",
   "source": [
    "The left boundary has a parabolic inflow with peak velocity of 1.5. This\n",
    "ensures that for the given geometry the Reynolds number is 100, which\n",
    "is already enough to obtain some simple vortex streets. By increasing the\n",
    "velocity further we can obtain stronger vortices - which may need additional\n",
    "refinement of the grid."
   ],
   "metadata": {}
  },
  {
   "outputs": [],
   "cell_type": "code",
   "source": [
    "∂Ω_inflow = getfacetset(grid, \"left\");"
   ],
   "metadata": {},
   "execution_count": 13
  },
  {
   "cell_type": "markdown",
   "source": [
    "> **Note**\n",
    ">\n",
    "> The kink in the velocity profile will lead to a discontinuity in the pressure at $t=1$.\n",
    "> This needs to be considered in the DiffEq `init` by providing the keyword argument `d_discontinuities=[1.0]`."
   ],
   "metadata": {}
  },
  {
   "outputs": [],
   "cell_type": "code",
   "source": [
    "vᵢₙ(t) = min(t * 1.5, 1.5) #inflow velocity\n",
    "\n",
    "parabolic_inflow_profile(x, t) = Vec((4 * vᵢₙ(t) * x[2] * (0.41 - x[2]) / 0.41^2, 0.0))\n",
    "inflow_bc = Dirichlet(:v, ∂Ω_inflow, parabolic_inflow_profile, [1, 2])\n",
    "add!(ch, inflow_bc);"
   ],
   "metadata": {},
   "execution_count": 14
  },
  {
   "cell_type": "markdown",
   "source": [
    "The outflow boundary condition has been applied on the right side of the\n",
    "cylinder when the weak form has been derived by setting the boundary integral\n",
    "to zero. It is also called the do-nothing condition. Other outflow conditions\n",
    "are also possible."
   ],
   "metadata": {}
  },
  {
   "outputs": [],
   "cell_type": "code",
   "source": [
    "∂Ω_free = getfacetset(grid, \"right\");\n",
    "\n",
    "close!(ch)\n",
    "update!(ch, 0.0);"
   ],
   "metadata": {},
   "execution_count": 15
  },
  {
   "cell_type": "markdown",
   "source": [
    "### Linear System Assembly\n",
    "Next we describe how the block mass matrix and the Stokes matrix are assembled.\n",
    "\n",
    "For the block mass matrix $M$ we remember that only the first equation had a time derivative\n",
    "and that the block mass matrix corresponds to the term arising from discretizing the time\n",
    "derivatives. Hence, only the upper left block has non-zero components."
   ],
   "metadata": {}
  },
  {
   "outputs": [],
   "cell_type": "code",
   "source": [
    "function assemble_mass_matrix(cellvalues_v::CellValues, cellvalues_p::CellValues, M::SparseMatrixCSC, dh::DofHandler)\n",
    "    # Allocate a buffer for the local matrix and some helpers, together with the assembler.\n",
    "    n_basefuncs_v = getnbasefunctions(cellvalues_v)\n",
    "    n_basefuncs_p = getnbasefunctions(cellvalues_p)\n",
    "    n_basefuncs = n_basefuncs_v + n_basefuncs_p\n",
    "    v▄, p▄ = 1, 2\n",
    "    Mₑ = BlockedArray(zeros(n_basefuncs, n_basefuncs), [n_basefuncs_v, n_basefuncs_p], [n_basefuncs_v, n_basefuncs_p])\n",
    "\n",
    "    # It follows the assembly loop as explained in the basic tutorials.\n",
    "    mass_assembler = start_assemble(M)\n",
    "    for cell in CellIterator(dh)\n",
    "        fill!(Mₑ, 0)\n",
    "        Ferrite.reinit!(cellvalues_v, cell)\n",
    "\n",
    "        for q_point in 1:getnquadpoints(cellvalues_v)\n",
    "            dΩ = getdetJdV(cellvalues_v, q_point)\n",
    "            # Remember that we assemble a vector mass term, hence the dot product.\n",
    "            # There is only one time derivative on the left hand side, so only one mass block is non-zero.\n",
    "            for i in 1:n_basefuncs_v\n",
    "                φᵢ = shape_value(cellvalues_v, q_point, i)\n",
    "                for j in 1:n_basefuncs_v\n",
    "                    φⱼ = shape_value(cellvalues_v, q_point, j)\n",
    "                    Mₑ[BlockIndex((v▄, v▄), (i, j))] += φᵢ ⋅ φⱼ * dΩ\n",
    "                end\n",
    "            end\n",
    "        end\n",
    "        assemble!(mass_assembler, celldofs(cell), Mₑ)\n",
    "    end\n",
    "\n",
    "    return M\n",
    "end;"
   ],
   "metadata": {},
   "execution_count": 16
  },
  {
   "cell_type": "markdown",
   "source": [
    "Next we discuss the assembly of the Stokes matrix appearing on the right hand side.\n",
    "Remember that we use the same function spaces for trial and test, hence the\n",
    "matrix has the following block form\n",
    "$$\n",
    "  K = \\begin{bmatrix}\n",
    "      A & B^{\\textrm{T}} \\\\\n",
    "      B & 0\n",
    "  \\end{bmatrix}\n",
    "$$\n",
    "which is also called saddle point matrix. These problems are known to have\n",
    "a non-trivial kernel, which is a reflection of the strong form as discussed\n",
    "in the theory portion if this example."
   ],
   "metadata": {}
  },
  {
   "outputs": [],
   "cell_type": "code",
   "source": [
    "function assemble_stokes_matrix(cellvalues_v::CellValues, cellvalues_p::CellValues, ν, K::SparseMatrixCSC, dh::DofHandler)\n",
    "    # Again, some buffers and helpers\n",
    "    n_basefuncs_v = getnbasefunctions(cellvalues_v)\n",
    "    n_basefuncs_p = getnbasefunctions(cellvalues_p)\n",
    "    n_basefuncs = n_basefuncs_v + n_basefuncs_p\n",
    "    v▄, p▄ = 1, 2\n",
    "    Kₑ = BlockedArray(zeros(n_basefuncs, n_basefuncs), [n_basefuncs_v, n_basefuncs_p], [n_basefuncs_v, n_basefuncs_p])\n",
    "\n",
    "    # Assembly loop\n",
    "    stiffness_assembler = start_assemble(K)\n",
    "    for cell in CellIterator(dh)\n",
    "        # Don't forget to initialize everything\n",
    "        fill!(Kₑ, 0)\n",
    "\n",
    "        Ferrite.reinit!(cellvalues_v, cell)\n",
    "        Ferrite.reinit!(cellvalues_p, cell)\n",
    "\n",
    "        for q_point in 1:getnquadpoints(cellvalues_v)\n",
    "            dΩ = getdetJdV(cellvalues_v, q_point)\n",
    "            # Assemble local viscosity block of $A$\n",
    "            for i in 1:n_basefuncs_v\n",
    "                ∇φᵢ = shape_gradient(cellvalues_v, q_point, i)\n",
    "                for j in 1:n_basefuncs_v\n",
    "                    ∇φⱼ = shape_gradient(cellvalues_v, q_point, j)\n",
    "                    Kₑ[BlockIndex((v▄, v▄), (i, j))] -= ν * ∇φᵢ ⊡ ∇φⱼ * dΩ\n",
    "                end\n",
    "            end\n",
    "            # Assemble local pressure and incompressibility blocks of $B^{\\textrm{T}}$ and $B$.\n",
    "            for j in 1:n_basefuncs_p\n",
    "                ψ = shape_value(cellvalues_p, q_point, j)\n",
    "                for i in 1:n_basefuncs_v\n",
    "                    divφ = shape_divergence(cellvalues_v, q_point, i)\n",
    "                    Kₑ[BlockIndex((v▄, p▄), (i, j))] += (divφ * ψ) * dΩ\n",
    "                    Kₑ[BlockIndex((p▄, v▄), (j, i))] += (ψ * divφ) * dΩ\n",
    "                end\n",
    "            end\n",
    "        end\n",
    "\n",
    "        # Assemble `Kₑ` into the Stokes matrix `K`.\n",
    "        assemble!(stiffness_assembler, celldofs(cell), Kₑ)\n",
    "    end\n",
    "    return K\n",
    "end;"
   ],
   "metadata": {},
   "execution_count": 17
  },
  {
   "cell_type": "markdown",
   "source": [
    "### Solution of the semi-discretized system via DifferentialEquations.jl\n",
    "First we assemble the linear portions for efficiency. These matrices are\n",
    "assumed to be constant over time.\n",
    "> **Note**\n",
    ">\n",
    "> To obtain the vortex street a small time step is important to resolve\n",
    "> the small oscillation forming. The mesh size becomes important to\n",
    "> \"only\" resolve the smaller vertices forming, but less important for\n",
    "> the initial formation."
   ],
   "metadata": {}
  },
  {
   "outputs": [],
   "cell_type": "code",
   "source": [
    "T = 6.0\n",
    "Δt₀ = 0.001\n",
    "if IS_CI                                                                #hide\n",
    "    Δt₀ = 0.1                                                           #hide\n",
    "end                                                                     #hide\n",
    "Δt_save = 0.1\n",
    "\n",
    "M = allocate_matrix(dh);\n",
    "M = assemble_mass_matrix(cellvalues_v, cellvalues_p, M, dh);\n",
    "\n",
    "K = allocate_matrix(dh);\n",
    "K = assemble_stokes_matrix(cellvalues_v, cellvalues_p, ν, K, dh);"
   ],
   "metadata": {},
   "execution_count": 18
  },
  {
   "cell_type": "markdown",
   "source": [
    "These are our initial conditions. We start from the zero solution, because it\n",
    "is trivially admissible if the Dirichlet conditions are zero everywhere on the\n",
    "Dirichlet boundary for $t=0$. Note that the time stepper is also doing fine if the\n",
    "Dirichlet condition is non-zero and not too pathological."
   ],
   "metadata": {}
  },
  {
   "outputs": [],
   "cell_type": "code",
   "source": [
    "u₀ = zeros(ndofs(dh))\n",
    "apply!(u₀, ch);"
   ],
   "metadata": {},
   "execution_count": 19
  },
  {
   "cell_type": "markdown",
   "source": [
    "DifferentialEquations assumes dense matrices by default, which is not\n",
    "feasible for semi-discretization of finite element models. We communicate\n",
    "that a sparse matrix with specified pattern should be utilized through the\n",
    "`jac_prototyp` argument. It is simple to see that the Jacobian and the\n",
    "stiffness matrix share the same sparsity pattern, since they share the\n",
    "same relation between trial and test functions."
   ],
   "metadata": {}
  },
  {
   "outputs": [],
   "cell_type": "code",
   "source": [
    "jac_sparsity = sparse(K);"
   ],
   "metadata": {},
   "execution_count": 20
  },
  {
   "cell_type": "markdown",
   "source": [
    "To apply the nonlinear portion of the Navier-Stokes problem we simply hand\n",
    "over the dof handler and cell values to the right-hand-side (RHS) as a parameter.\n",
    "Furthermore the pre-assembled linear part, our Stokes opeartor (which is time independent)\n",
    "is passed to save some additional runtime. To apply the time-dependent Dirichlet BCs, we\n",
    "also need to hand over the constraint handler.\n",
    "The basic idea to apply the Dirichlet BCs consistently is that we copy the\n",
    "current solution `u`, apply the Dirichlet BCs on the copy, evaluate the\n",
    "discretized RHS of the Navier-Stokes equations with this vector.\n",
    "Furthermore we pass down the Jacobian assembly manually. For the Jacobian we eliminate all\n",
    "rows and columns associated with constrained dofs. Also note that we eliminate the mass\n",
    "matrix beforehand in a similar fashion. This decouples the time evolution of the constrained\n",
    "dofs from the true unknowns. The correct solution is enforced by utilizing step and\n",
    "stage limiters. The correct norms are computed by passing down a custom norm which simply\n",
    "ignores all constrained dofs.\n",
    "\n",
    "> **Note**\n",
    ">\n",
    "> An alternative strategy is to hook into the nonlinear and linear solvers and enforce\n",
    "> the solution therein. However, this is not possible at the time of writing this tutorial."
   ],
   "metadata": {}
  },
  {
   "outputs": [],
   "cell_type": "code",
   "source": [
    "apply!(M, ch)\n",
    "\n",
    "struct RHSparams\n",
    "    K::SparseMatrixCSC\n",
    "    ch::ConstraintHandler\n",
    "    dh::DofHandler\n",
    "    cellvalues_v::CellValues\n",
    "    u::Vector\n",
    "end\n",
    "p = RHSparams(K, ch, dh, cellvalues_v, copy(u₀))\n",
    "\n",
    "function ferrite_limiter!(u, _, p, t)\n",
    "    update!(p.ch, t)\n",
    "    return apply!(u, p.ch)\n",
    "end\n",
    "\n",
    "function navierstokes_rhs_element!(dvₑ, vₑ, cellvalues_v)\n",
    "    n_basefuncs = getnbasefunctions(cellvalues_v)\n",
    "    for q_point in 1:getnquadpoints(cellvalues_v)\n",
    "        dΩ = getdetJdV(cellvalues_v, q_point)\n",
    "        ∇v = function_gradient(cellvalues_v, q_point, vₑ)\n",
    "        v = function_value(cellvalues_v, q_point, vₑ)\n",
    "        for j in 1:n_basefuncs\n",
    "            φⱼ = shape_value(cellvalues_v, q_point, j)\n",
    "            # Note that in Tensors.jl the definition $\\textrm{grad} v = \\nabla v$ holds.\n",
    "            # With this information it can be quickly shown in index notation that\n",
    "            # $$\n",
    "            # [(v \\cdot \\nabla) v]_{\\textrm{i}} = v_{\\textrm{j}} (\\partial_{\\textrm{j}} v_{\\textrm{i}}) = [v (\\nabla v)^{\\textrm{T}}]_{\\textrm{i}}\n",
    "            # $$\n",
    "            # where we should pay attentation to the transpose of the gradient.\n",
    "            dvₑ[j] -= v ⋅ ∇v' ⋅ φⱼ * dΩ\n",
    "        end\n",
    "    end\n",
    "    return\n",
    "end\n",
    "\n",
    "function navierstokes!(du, u_uc, p::RHSparams, t)\n",
    "    # Unpack the struct to save some allocations.\n",
    "    @unpack K, ch, dh, cellvalues_v, u = p\n",
    "    # We start by applying the time-dependent Dirichlet BCs. Note that we are\n",
    "    # not allowed to mutate `u_uc`! Furthermore not that we also can not pre-\n",
    "    # allocate a buffer for this variable variable if we want to use AD to derive\n",
    "    # the Jacobian matrix, which appears in stiff solvers.\n",
    "    # Therefore, for efficiency reasons, we simply pass down the jacobian analytically.\n",
    "    u .= u_uc\n",
    "    update!(ch, t)\n",
    "    apply!(u, ch)\n",
    "    # Now we apply the rhs of the Navier-Stokes equations\n",
    "    # Linear contribution (Stokes operator)\n",
    "    mul!(du, K, u) # du .= K * u\n",
    "\n",
    "    # nonlinear contribution\n",
    "    v_range = dof_range(dh, :v)\n",
    "    n_basefuncs = getnbasefunctions(cellvalues_v)\n",
    "    vₑ = zeros(n_basefuncs)\n",
    "    duₑ = zeros(n_basefuncs)\n",
    "    for cell in CellIterator(dh)\n",
    "        Ferrite.reinit!(cellvalues_v, cell)\n",
    "        v_celldofs = @view celldofs(cell)[v_range]\n",
    "        vₑ .= @views u[v_celldofs]\n",
    "        fill!(duₑ, 0.0)\n",
    "        navierstokes_rhs_element!(duₑ, vₑ, cellvalues_v)\n",
    "        assemble!(du, v_celldofs, duₑ)\n",
    "    end\n",
    "    return\n",
    "end;\n",
    "\n",
    "function navierstokes_jac_element!(Jₑ, vₑ, cellvalues_v)\n",
    "    n_basefuncs = getnbasefunctions(cellvalues_v)\n",
    "    for q_point in 1:getnquadpoints(cellvalues_v)\n",
    "        dΩ = getdetJdV(cellvalues_v, q_point)\n",
    "        ∇v = function_gradient(cellvalues_v, q_point, vₑ)\n",
    "        v = function_value(cellvalues_v, q_point, vₑ)\n",
    "        for j in 1:n_basefuncs\n",
    "            φⱼ = shape_value(cellvalues_v, q_point, j)\n",
    "            # Note that in Tensors.jl the definition $\\textrm{grad} v = \\nabla v$ holds.\n",
    "            # With this information it can be quickly shown in index notation that\n",
    "            # $$\n",
    "            # [(v \\cdot \\nabla) v]_{\\textrm{i}} = v_{\\textrm{j}} (\\partial_{\\textrm{j}} v_{\\textrm{i}}) = [v (\\nabla v)^{\\textrm{T}}]_{\\textrm{i}}\n",
    "            # $$\n",
    "            # where we should pay attentation to the transpose of the gradient.\n",
    "            for i in 1:n_basefuncs\n",
    "                φᵢ = shape_value(cellvalues_v, q_point, i)\n",
    "                ∇φᵢ = shape_gradient(cellvalues_v, q_point, i)\n",
    "                Jₑ[j, i] -= (φᵢ ⋅ ∇v' + v ⋅ ∇φᵢ') ⋅ φⱼ * dΩ\n",
    "            end\n",
    "        end\n",
    "    end\n",
    "    return\n",
    "end\n",
    "\n",
    "function navierstokes_jac!(J, u_uc, p, t)\n",
    "    # Unpack the struct to save some allocations.\n",
    "    @unpack K, ch, dh, cellvalues_v, u = p\n",
    "    # We start by applying the time-dependent Dirichlet BCs. Note that we are\n",
    "    # not allowed to mutate `u_uc`, so we use our buffer again.\n",
    "    u .= u_uc\n",
    "    update!(ch, t)\n",
    "    apply!(u, ch)\n",
    "    # Now we apply the Jacobian of the Navier-Stokes equations.\n",
    "    # Linear contribution (Stokes operator)\n",
    "    # Here we assume that J has exactly the same structure as K by construction\n",
    "    nonzeros(J) .= nonzeros(K)\n",
    "\n",
    "    assembler = start_assemble(J; fillzero = false)\n",
    "\n",
    "    # Assemble variation of the nonlinear term\n",
    "    n_basefuncs = getnbasefunctions(cellvalues_v)\n",
    "    Jₑ = zeros(n_basefuncs, n_basefuncs)\n",
    "    vₑ = zeros(n_basefuncs)\n",
    "    v_range = dof_range(dh, :v)\n",
    "    for cell in CellIterator(dh)\n",
    "        Ferrite.reinit!(cellvalues_v, cell)\n",
    "        v_celldofs = @view celldofs(cell)[v_range]\n",
    "\n",
    "        vₑ .= @views u[v_celldofs]\n",
    "        fill!(Jₑ, 0.0)\n",
    "        navierstokes_jac_element!(Jₑ, vₑ, cellvalues_v)\n",
    "        assemble!(assembler, v_celldofs, Jₑ)\n",
    "    end\n",
    "    # Finally we eliminate the constrained dofs from the Jacobian to\n",
    "    # decouple them in the nonlinear solver from the remaining system.\n",
    "    return apply!(J, ch)\n",
    "end;"
   ],
   "metadata": {},
   "execution_count": 21
  },
  {
   "cell_type": "markdown",
   "source": [
    "Finally, together with our pre-assembled mass matrix, we are now able to\n",
    "define our problem in mass matrix form."
   ],
   "metadata": {}
  },
  {
   "outputs": [],
   "cell_type": "code",
   "source": [
    "rhs = ODEFunction(navierstokes!, mass_matrix = M; jac = navierstokes_jac!, jac_prototype = jac_sparsity)\n",
    "problem = ODEProblem(rhs, u₀, (0.0, T), p);"
   ],
   "metadata": {},
   "execution_count": 22
  },
  {
   "cell_type": "markdown",
   "source": [
    "All norms must not depend on constrained dofs. A problem with the presented implementation\n",
    "is that we are currently unable to strictly enforce constraint everywhere in the internal\n",
    "time integration process of [DifferentialEquations.jl](https://github.com/SciML/DifferentialEquations.jl),\n",
    "hence the values might differ, resulting in worse error estimates.\n",
    "We try to resolve this issue in the future. Volunteers are also welcome to take a look into this!"
   ],
   "metadata": {}
  },
  {
   "outputs": [],
   "cell_type": "code",
   "source": [
    "struct FreeDofErrorNorm\n",
    "    ch::ConstraintHandler\n",
    "end\n",
    "(fe_norm::FreeDofErrorNorm)(u::Union{AbstractFloat, Complex}, t) = DiffEqBase.ODE_DEFAULT_NORM(u, t)\n",
    "(fe_norm::FreeDofErrorNorm)(u::AbstractArray, t) = DiffEqBase.ODE_DEFAULT_NORM(u[fe_norm.ch.free_dofs], t)"
   ],
   "metadata": {},
   "execution_count": 23
  },
  {
   "cell_type": "markdown",
   "source": [
    "Now we can put everything together by specifying how to solve the problem.\n",
    "We want to use an adaptive variant of the implicit Euler method. Further we\n",
    "enable the progress bar with the `progress` and `progress_steps` arguments.\n",
    "Finally we have to communicate the time step length and initialization\n",
    "algorithm. Since we start with a valid initial state we do not use one of\n",
    "DifferentialEquations.jl initialization algorithms.\n",
    "> **DAE initialization**\n",
    ">\n",
    "> At the time of writing this [no Hessenberg index 2 initialization is implemented](https://github.com/SciML/OrdinaryDiffEq.jl/issues/1019).\n",
    "\n",
    "To visualize the result we export the grid and our fields\n",
    "to VTK-files, which can be viewed in [ParaView](https://www.paraview.org/)\n",
    "by utilizing the corresponding pvd file."
   ],
   "metadata": {}
  },
  {
   "outputs": [],
   "cell_type": "code",
   "source": [
    "timestepper = Rodas5P(autodiff = false, step_limiter! = ferrite_limiter!);"
   ],
   "metadata": {},
   "execution_count": 24
  },
  {
   "cell_type": "markdown",
   "source": [
    "> **Debugging convergence issues**\n",
    ">\n",
    "> We can obtain some debug information from OrdinaryDiffEq by wrapping the following section into a [debug logger](https://docs.julialang.org/en/v1/stdlib/Logging/#Example:-Enable-debug-level-messages)."
   ],
   "metadata": {}
  },
  {
   "outputs": [],
   "cell_type": "code",
   "source": [
    "integrator = init(\n",
    "    problem, timestepper; initializealg = NoInit(), dt = Δt₀,\n",
    "    adaptive = true, abstol = 1.0e-4, reltol = 1.0e-5,\n",
    "    progress = true, progress_steps = 1,\n",
    "    verbose = true, internalnorm = FreeDofErrorNorm(ch), d_discontinuities = [1.0]\n",
    ");"
   ],
   "metadata": {},
   "execution_count": 25
  },
  {
   "cell_type": "markdown",
   "source": [
    "> **Export of solution**\n",
    ">\n",
    "> Exporting interpolated solutions of problems containing mass matrices is currently broken.\n",
    "> Thus, the `intervals` iterator is used. Note that `solve` holds all solutions in the memory."
   ],
   "metadata": {}
  },
  {
   "outputs": [],
   "cell_type": "code",
   "source": [
    "pvd = paraview_collection(\"vortex-street\")\n",
    "for (step, (u, t)) in enumerate(intervals(integrator))\n",
    "    VTKGridFile(\"vortex-street-$step\", dh) do vtk\n",
    "        write_solution(vtk, dh, u)\n",
    "        pvd[t] = vtk\n",
    "    end\n",
    "end\n",
    "vtk_save(pvd);\n",
    "\n",
    "\n",
    "using Test                                                                      #hide\n",
    "if IS_CI                                                                        #hide\n",
    "    function compute_divergence(dh, u, cellvalues_v)                            #hide\n",
    "        divv = 0.0                                                              #hide\n",
    "        for cell in CellIterator(dh)                                            #hide\n",
    "            Ferrite.reinit!(cellvalues_v, cell)                                 #hide\n",
    "            for q_point in 1:getnquadpoints(cellvalues_v)                       #hide\n",
    "                dΩ = getdetJdV(cellvalues_v, q_point)                           #hide\n",
    "                #hide\n",
    "                all_celldofs = celldofs(cell)                                   #hide\n",
    "                v_celldofs = all_celldofs[dof_range(dh, :v)]                    #hide\n",
    "                v_cell = u[v_celldofs]                                          #hide\n",
    "                #hide\n",
    "                divv += function_divergence(cellvalues_v, q_point, v_cell) * dΩ #hide\n",
    "            end                                                                 #hide\n",
    "        end                                                                     #hide\n",
    "        return divv                                                             #hide\n",
    "    end                                                                         #hide\n",
    "    let                                                                         #hide\n",
    "        u = copy(integrator.u)                                                  #hide\n",
    "        Δdivv = abs(compute_divergence(dh, u, cellvalues_v))                    #hide\n",
    "        @test isapprox(Δdivv, 0.0, atol = 1.0e-12)                              #hide\n",
    "        #hide\n",
    "        Δv = 0.0                                                                #hide\n",
    "        for cell in CellIterator(dh)                                            #hide\n",
    "            Ferrite.reinit!(cellvalues_v, cell)                                 #hide\n",
    "            all_celldofs = celldofs(cell)                                       #hide\n",
    "            v_celldofs = all_celldofs[dof_range(dh, :v)]                        #hide\n",
    "            v_cell = u[v_celldofs]                                              #hide\n",
    "            coords = getcoordinates(cell)                                       #hide\n",
    "            for q_point in 1:getnquadpoints(cellvalues_v)                       #hide\n",
    "                dΩ = getdetJdV(cellvalues_v, q_point)                           #hide\n",
    "                coords_qp = spatial_coordinate(cellvalues_v, q_point, coords)   #hide\n",
    "                v = function_value(cellvalues_v, q_point, v_cell)               #hide\n",
    "                Δv += norm(v - parabolic_inflow_profile(coords_qp, T))^2 * dΩ   #hide\n",
    "            end                                                                 #hide\n",
    "        end                                                                     #hide\n",
    "        @test isapprox(sqrt(Δv), 0.0, atol = 1.0e-3)                            #hide\n",
    "    end                                                                         #hide\n",
    "    nothing                                                                     #hide\n",
    "end                                                                             #hide"
   ],
   "metadata": {},
   "execution_count": 26
  },
  {
   "cell_type": "markdown",
   "source": [
    "---\n",
    "\n",
    "*This notebook was generated using [Literate.jl](https://github.com/fredrikekre/Literate.jl).*"
   ],
   "metadata": {}
  }
 ],
 "nbformat_minor": 3,
 "metadata": {
  "language_info": {
   "file_extension": ".jl",
   "mimetype": "application/julia",
   "name": "julia",
   "version": "1.11.1"
  },
  "kernelspec": {
   "name": "julia-1.11",
   "display_name": "Julia 1.11.1",
   "language": "julia"
  }
 },
 "nbformat": 4
}
