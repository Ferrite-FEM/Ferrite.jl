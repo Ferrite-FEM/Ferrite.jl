{
 "cells": [
  {
   "cell_type": "markdown",
   "source": [
    "# L2Projection for fluxes\n",
    "As a prototype problem, we consider simplified version of the\n",
    "heat equation tutorial with out any heat source.\n",
    "Our problem can be stated as\n",
    "$$\n",
    "\\begin{align*}\n",
    "\\mathrm{div}(\\boldsymbol{q}) &= 0\\quad \\text{in } \\Omega \\\\\n",
    "\\boldsymbol{q}\\cdot\\boldsymbol{n} &= 0 \\quad \\text{on } \\Gamma_N \\\\\n",
    "T &= -1 \\quad \\text{on } \\Gamma_0\\\\\n",
    "T &= 1 \\quad \\text{on } \\Gamma_1\n",
    "\\end{align*}\n",
    "$$\n",
    "where $\\boldsymbol{q} = -k(\\boldsymbol{x}) \\nabla T$ is the heat flux that\n",
    "we will visualize. The heat conductivity,\n",
    "$$\n",
    "k(\\boldsymbol{x}) = \\left\\lbrace\n",
    "\\begin{matrix}\n",
    "1.0, \\boldsymbol{x}\\in\\Omega_h \\\\\n",
    "0.1, \\boldsymbol{x}\\in\\Omega_l\n",
    "\\end{matrix}\\right.\n",
    "$$\n",
    "\n",
    "We create the described geometry and grid using the following code,"
   ],
   "metadata": {}
  },
  {
   "outputs": [
    {
     "output_type": "execute_result",
     "data": {
      "text/plain": "Grid{2, Triangle, Float64} with 200 Triangle cells and 121 nodes"
     },
     "metadata": {},
     "execution_count": 1
    }
   ],
   "cell_type": "code",
   "source": [
    "using Ferrite\n",
    "\n",
    "grid = generate_grid(Triangle, (10, 10))\n",
    "addcellset!(grid, \"low_k\", x -> x[2] < -1.0e-3 || x[1] > 1.0e-3)"
   ],
   "metadata": {},
   "execution_count": 1
  },
  {
   "cell_type": "markdown",
   "source": [
    "![Mesh](L2flux_mesh.png)\n",
    "\n",
    "**Figure 1:** Mesh and domains for prototype problem\n",
    "\n",
    "Next, we solve the described FE problem, following the heat equation tutorial,\n",
    "with the extra complication of a varying heat conductivity and non-homogeneous Dirichlet boundary\n",
    "conditions,"
   ],
   "metadata": {}
  },
  {
   "outputs": [],
   "cell_type": "code",
   "source": [
    "ipu = Lagrange{RefTriangle, 2}()\n",
    "dh = close!(add!(DofHandler(grid), :T, ipu))\n",
    "qr = QuadratureRule{RefTriangle}(2)\n",
    "cv = CellValues(qr, ipu, Lagrange{RefTriangle, 1}())\n",
    "\n",
    "function solve_fe(dh, cv, low_k_set)\n",
    "    K = allocate_matrix(dh)\n",
    "    f = zeros(ndofs(dh))\n",
    "\n",
    "    Ke = zeros(getnbasefunctions(cv), getnbasefunctions(cv))\n",
    "    assembler = start_assemble(K)\n",
    "    for cell in CellIterator(dh)\n",
    "        reinit!(cv, cell)\n",
    "        fill!(Ke, 0)\n",
    "        k = cellid(cell) in low_k_set ? 0.1 : 1.0\n",
    "        for q_point in 1:getnquadpoints(cv)\n",
    "            dΩ = getdetJdV(cv, q_point)\n",
    "            for i in 1:getnbasefunctions(cv)\n",
    "                ∇Ni = shape_gradient(cv, q_point, i)\n",
    "                for j in 1:getnbasefunctions(cv)\n",
    "                    ∇Nj = shape_gradient(cv, q_point, j)\n",
    "                    Ke[i, j] += k * (∇Ni ⋅ ∇Nj) * dΩ\n",
    "                end\n",
    "            end\n",
    "        end\n",
    "        assemble!(assembler, celldofs(cell), Ke)\n",
    "    end\n",
    "\n",
    "    ch = ConstraintHandler(dh)\n",
    "    add!(ch, Dirichlet(:T, getfacetset(dh.grid, \"left\"), Returns(-1.0)))\n",
    "    add!(ch, Dirichlet(:T, getfacetset(dh.grid, \"right\"), Returns(+1.0)))\n",
    "    close!(ch)\n",
    "    apply!(K, f, ch)\n",
    "    return K \\ f\n",
    "end\n",
    "\n",
    "a = solve_fe(dh, cv, getcellset(grid, \"low_k\"));"
   ],
   "metadata": {},
   "execution_count": 2
  },
  {
   "cell_type": "markdown",
   "source": [
    "This gives the continuous temperature field,\n",
    "\n",
    "![Temperature field](L2flux_temperature.png)\n",
    "\n",
    "**Figure 2:** Continuous temperature solution\n",
    "\n",
    "Even though the temperature is continuous, the flux, $\\boldsymbol{q}$, becomes discontinuous\n",
    "due to the jump of heat conductivity between $\\Omega_h$ and $\\Omega_l$. It will therefore not\n",
    "be correct to project he heat flux onto a continuous field. On the other hand, the conservation\n",
    "law requires that the divergence of the heat flux doesn't go to infinity. This translates to a\n",
    "heat flux that is continuous in the normal direction. Ferrite can describe so-called $H(\\mathrm{div})$\n",
    "function spaces, and here we will use `RaviartThomas` interpolations to do so.\n",
    "\n",
    "Specifically, the difference between projecting onto `DiscontinuousLagrange` ($L^2$),\n",
    "`Lagrange` ($H^1$) and `RaviartThomas` $H(\\mathrm{div})$ interpolations will be demonstrated.\n",
    "\n",
    "To project the fluxes, we first calculate the fluxes in the quadrature points,"
   ],
   "metadata": {}
  },
  {
   "outputs": [],
   "cell_type": "code",
   "source": [
    "function calculate_qp_flux(cv, a, cell, low_k_set)\n",
    "    k = cellid(cell) in low_k_set ? 0.1 : 1.0\n",
    "    reinit!(cv, cell)\n",
    "    ae = a[celldofs(cell)]\n",
    "    return [-k * function_gradient(cv, q_point, ae) for q_point in 1:getnquadpoints(cv)]\n",
    "end\n",
    "\n",
    "qp_data = [calculate_qp_flux(cv, a, cell, getcellset(grid, \"low_k\")) for cell in CellIterator(dh)];"
   ],
   "metadata": {},
   "execution_count": 3
  },
  {
   "cell_type": "markdown",
   "source": [
    "Next, we project the solution and export it for interpolation. Note that 2nd order `RaviartThomas` has\n",
    "8 base functions per triangle cell compared to 6 for vectorized linear `DiscontinuousLagrange` and `Lagrange`."
   ],
   "metadata": {}
  },
  {
   "outputs": [
    {
     "output_type": "execute_result",
     "data": {
      "text/plain": "VTKGridFile for the closed file \"proj_Hdiv.vtu\"."
     },
     "metadata": {},
     "execution_count": 4
    }
   ],
   "cell_type": "code",
   "source": [
    "function project_and_export(name, dofhandler, sol, grid, qr_rhs, ip, type, data)\n",
    "    proj = L2Projector{type}(grid)\n",
    "    add!(proj, 1:getncells(grid), ip; qr_rhs)\n",
    "    close!(proj)\n",
    "    return VTKGridFile(name, dofhandler; write_discontinuous = Ferrite.is_discontinuous(ip)) do vtk\n",
    "        write_solution(vtk, dofhandler, sol)\n",
    "        Ferrite.write_cellset(vtk, grid, \"low_k\")\n",
    "        write_projection(vtk, proj, project(proj, data), \"q\")\n",
    "    end\n",
    "end\n",
    "\n",
    "project_and_export(\"proj_L2\", dh, a, grid, qr, DiscontinuousLagrange{RefTriangle, 1}(), :scalar, qp_data)\n",
    "project_and_export(\"proj_H1\", dh, a, grid, qr, Lagrange{RefTriangle, 1}(), :scalar, qp_data)\n",
    "project_and_export(\"proj_Hdiv\", dh, a, grid, qr, RaviartThomas{RefTriangle, 2}(), :tensor, qp_data)"
   ],
   "metadata": {},
   "execution_count": 4
  },
  {
   "cell_type": "markdown",
   "source": [
    "![Different projections for H1 and H(div)](L2flux.png)\n",
    "**Figure 3:** $q_1$ flux projected onto different function spaces,\n",
    "with increasing continuity requirements from left to right,\n",
    "$L_2$, $H(\\mathrm{div})$, and $H^1$.\n",
    "\n",
    "From these results, we observe that both the discontinuous interpolations,\n",
    "`DiscontinuousLagrange` and `RaviartThomas`, correctly gives a sharp jump in\n",
    "the flux from the bottom to the top side. When forcing the discontinuous solution\n",
    "onto a continuous field for the `Lagrange` interpolation, we get some non-physical\n",
    "artifacts. Comparing the discontinuous interpolations, we note that neither gives\n",
    "a perfectly continuous flux within each domain. $H(\\mathrm{div})$ interpolations only\n",
    "guarantee continuous normal fluxes across element boundaries, so this is expected on\n",
    "the slanted element edges. Finally, we note that there is less sharp non-physical jumps\n",
    "for the $H(\\mathrm{div})$ projection compared to the $L_2$ projection in the x-direction."
   ],
   "metadata": {}
  },
  {
   "cell_type": "markdown",
   "source": [
    "---\n",
    "\n",
    "*This notebook was generated using [Literate.jl](https://github.com/fredrikekre/Literate.jl).*"
   ],
   "metadata": {}
  }
 ],
 "nbformat_minor": 3,
 "metadata": {
  "language_info": {
   "file_extension": ".jl",
   "mimetype": "application/julia",
   "name": "julia",
   "version": "1.11.5"
  },
  "kernelspec": {
   "name": "julia-1.11",
   "display_name": "Julia 1.11.5",
   "language": "julia"
  }
 },
 "nbformat": 4
}
