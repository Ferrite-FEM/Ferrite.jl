{
 "cells": [
  {
   "cell_type": "markdown",
   "source": [
    "# L2Projection on different spaces\n",
    "After having solved a finite element problem, we often want to visualize secondary\n",
    "quantities, such as fluxes and stresses. This how-to describes some problems that\n",
    "can occur in such visualizations if such fields are not continuous, for example\n",
    "when solving a problem with multiple parts with different material properties.\n",
    "\n",
    "As a prototype problem, we consider stationary heat flow with out any heat source.\n",
    "While the full code for solving the stationary heat equation is provided for\n",
    "completeness, please see the heat equation tutorial\n",
    "for further details. Please also see the\n",
    "post processing how-to for an introduction to the\n",
    "`L2Projector`.\n",
    "\n",
    "The Partial Differential Equation (PDE) for the stationary heat flow without a heat source is,\n",
    "$$\n",
    "\\begin{align*}\n",
    "\\mathrm{div}(\\boldsymbol{q}) &= 0\\quad \\text{in } \\Omega \\\\\n",
    "\\end{align*}\n",
    "$$\n",
    "where $\\boldsymbol{q} = -k(\\boldsymbol{x}) \\nabla T$ is the heat flux that\n",
    "we will visualize. The heat conductivity, $k$, has a different value in the\n",
    "$\\Omega_h$ and $\\Omega_l$ domains:\n",
    "$$\n",
    "k(\\boldsymbol{x}) = \\left\\lbrace\n",
    "\\begin{matrix}\n",
    "1.0, \\boldsymbol{x}\\in\\Omega_h \\\\\n",
    "0.1, \\boldsymbol{x}\\in\\Omega_l\n",
    "\\end{matrix}\\right.\n",
    "$$\n",
    "\n",
    "On the left and right boundaries, the temperature, $T$, is prescribed to -1 and +1, respectively.\n",
    "The top and bottom boundaries are insulated, and zero-valued Neumann boundary conditions,\n",
    "$q_n = 0$, are applied. The normal flux is given as $q_n = \\boldsymbol{q}\\cdot\\boldsymbol{n}$, where\n",
    "$\\boldsymbol{n}$ is the outwards pointing normal vector.\n",
    "\n",
    "![setup](proj_tutorial_setup.png)\n",
    "\n",
    "**Figure 1:** Mesh and domains (left) and temperature solution field (right).\n",
    "\n",
    "We create the described geometry and grid using the following code,"
   ],
   "metadata": {}
  },
  {
   "outputs": [],
   "cell_type": "code",
   "source": [
    "using Ferrite\n",
    "grid = generate_grid(QuadraticQuadrilateral, (20, 20))\n",
    "addcellset!(grid, \"low_k\", x -> x[2] < 1.0e-10 || x[1] > -1.0e-10)\n",
    "nothing #hide"
   ],
   "metadata": {},
   "execution_count": 1
  },
  {
   "cell_type": "markdown",
   "source": [
    "Although the geometry only have straight edges, `QuadraticQuadrilateral`s\n",
    "are used to enhance the quality of the Paraview visualization.\n",
    "\n",
    "\n",
    "Next, we solve the described FE problem, following the heat equation tutorial,\n",
    "with the extra complication of a varying heat conductivity and non-homogeneous Dirichlet boundary\n",
    "conditions,"
   ],
   "metadata": {}
  },
  {
   "outputs": [],
   "cell_type": "code",
   "source": [
    "qr = QuadratureRule{RefQuadrilateral}(2)\n",
    "ip = Lagrange{RefQuadrilateral, 2}()\n",
    "ipg = geometric_interpolation(getcelltype(grid))\n",
    "cv = CellValues(qr, ip, ipg)\n",
    "\n",
    "dh = close!(add!(DofHandler(grid), :T, ip))\n",
    "\n",
    "function solve_fe(dh, cv, low_k_set)\n",
    "    K = allocate_matrix(dh)\n",
    "    f = zeros(ndofs(dh))\n",
    "\n",
    "    Ke = zeros(getnbasefunctions(cv), getnbasefunctions(cv))\n",
    "    assembler = start_assemble(K)\n",
    "    for cell in CellIterator(dh)\n",
    "        reinit!(cv, cell)\n",
    "        fill!(Ke, 0)\n",
    "        k = cellid(cell) in low_k_set ? 0.1 : 1.0\n",
    "        for q_point in 1:getnquadpoints(cv)\n",
    "            dΩ = getdetJdV(cv, q_point)\n",
    "            for i in 1:getnbasefunctions(cv)\n",
    "                ∇Ni = shape_gradient(cv, q_point, i)\n",
    "                for j in 1:getnbasefunctions(cv)\n",
    "                    ∇Nj = shape_gradient(cv, q_point, j)\n",
    "                    Ke[i, j] += k * (∇Ni ⋅ ∇Nj) * dΩ\n",
    "                end\n",
    "            end\n",
    "        end\n",
    "        assemble!(assembler, celldofs(cell), Ke)\n",
    "    end\n",
    "\n",
    "    ch = ConstraintHandler(dh)\n",
    "    add!(ch, Dirichlet(:T, getfacetset(dh.grid, \"left\"), Returns(-1.0)))\n",
    "    add!(ch, Dirichlet(:T, getfacetset(dh.grid, \"right\"), Returns(+1.0)))\n",
    "    close!(ch)\n",
    "    apply!(K, f, ch)\n",
    "    return K \\ f\n",
    "end\n",
    "\n",
    "a = solve_fe(dh, cv, getcellset(grid, \"low_k\"))\n",
    "nothing #hide"
   ],
   "metadata": {},
   "execution_count": 2
  },
  {
   "cell_type": "markdown",
   "source": [
    "Even though the temperature is continuous, the flux, $\\boldsymbol{q}$, becomes discontinuous\n",
    "due to the jump of heat conductivity between $\\Omega_h$ and $\\Omega_l$. It will therefore not\n",
    "be correct to project he heat flux onto a continuous field. On the other hand, the conservation\n",
    "law requires that the divergence of the heat flux doesn't go to infinity. This translates to a\n",
    "heat flux that is continuous in the normal direction. Ferrite can describe so-called $H(\\mathrm{div})$\n",
    "function spaces, and here we will use `RaviartThomas` interpolations to do so.\n",
    "\n",
    "Specifically, the difference between projecting onto `Lagrange` ($H^1$), `DiscontinuousLagrange`\n",
    "($L_2$), and `RaviartThomas` $H(\\mathrm{div})$ interpolations will be demonstrated. To project the\n",
    "fluxes, we first calculate the fluxes in the quadrature points,"
   ],
   "metadata": {}
  },
  {
   "outputs": [],
   "cell_type": "code",
   "source": [
    "function calculate_qp_flux(cv, a, cell, low_k_set)\n",
    "    k = cellid(cell) in low_k_set ? 0.1 : 1.0\n",
    "    reinit!(cv, cell)\n",
    "    ae = a[celldofs(cell)]\n",
    "    return [-k * function_gradient(cv, q_point, ae) for q_point in 1:getnquadpoints(cv)]\n",
    "end\n",
    "\n",
    "qp_data = [calculate_qp_flux(cv, a, cell, getcellset(grid, \"low_k\")) for cell in CellIterator(dh)];"
   ],
   "metadata": {},
   "execution_count": 3
  },
  {
   "cell_type": "markdown",
   "source": [
    "Next, we project the solution and export it for each interpolation."
   ],
   "metadata": {}
  },
  {
   "outputs": [],
   "cell_type": "code",
   "source": [
    "function project_and_export(name, dofhandler, sol, grid, qr_rhs, ip, type, data)\n",
    "    proj = L2Projector{type}(grid)\n",
    "    add!(proj, 1:getncells(grid), ip; qr_rhs)\n",
    "    close!(proj)\n",
    "    return VTKGridFile(name, dofhandler; write_discontinuous = true) do vtk\n",
    "        write_solution(vtk, dofhandler, sol)\n",
    "        Ferrite.write_cellset(vtk, grid, \"low_k\")\n",
    "        write_projection(vtk, proj, project(proj, data), \"q\")\n",
    "    end\n",
    "end\n",
    "\n",
    "project_and_export(\"proj_H1\", dh, a, grid, qr, Lagrange{RefQuadrilateral, 1}(), :scalar, qp_data)\n",
    "project_and_export(\"proj_L2\", dh, a, grid, qr, DiscontinuousLagrange{RefQuadrilateral, 1}(), :scalar, qp_data)\n",
    "project_and_export(\"proj_Hdiv\", dh, a, grid, qr, RaviartThomas{RefQuadrilateral, 1}(), :tensor, qp_data)\n",
    "nothing #hide"
   ],
   "metadata": {},
   "execution_count": 4
  },
  {
   "cell_type": "markdown",
   "source": [
    "![Different projections for H1 and H(div)](proj_tutorial_results.png)\n",
    "\n",
    "**Figure 2:** $q_1$ flux projected onto different function spaces:\n",
    "a) `Lagrange{RefQuadrilateral, 1}`, b) `DiscontinuousLagrange{RefQuadrilateral, 1}`,\n",
    "and c) `RaviartThomas{RefQuadrilateral, 1}`.\n",
    "\n",
    "We first observe that when projecting the discontinuous flux field onto a continuous field defined\n",
    "by the `Lagrange` interpolation (corresponding to an $H^1$-conforming space), non-physical artifacts\n",
    "appear at the material interface. These artifacts are due to the continuity constraint of the $H^1$ space,\n",
    "which forces the flux to be continuous across the interface, even where a physical jump is expected.\n",
    "\n",
    "To account for the physical discontinuity in the flux, we instead project onto a discontinuous space\n",
    "using `DiscontinuousLagrange` (an $L^2$ space). This allows the horizontal flux to exhibit a jump\n",
    "across the interface, in accordance with physical expectations. However, near the internal corner of\n",
    "$\\Omega_\\mathrm{l}$, the normal flux component becomes discontinuous across cell edges,\n",
    "which leads to a local imbalance in the energy conservation across cell boundaries.\n",
    "\n",
    "To address this, we project the flux onto an $H(\\mathrm{div})$-conforming space using the `RaviartThomas`\n",
    "interpolation. This space enforces continuity of the normal component of the flux across cell boundaries,\n",
    "while allowing tangential discontinuities. The resulting projected flux field is thus continuous in the\n",
    "direction of the flow, satisfying the local conservation of energy, while still accommodating tangential\n",
    "jumps at the material interface."
   ],
   "metadata": {}
  },
  {
   "cell_type": "markdown",
   "source": [
    "---\n",
    "\n",
    "*This notebook was generated using [Literate.jl](https://github.com/fredrikekre/Literate.jl).*"
   ],
   "metadata": {}
  }
 ],
 "nbformat_minor": 3,
 "metadata": {
  "language_info": {
   "file_extension": ".jl",
   "mimetype": "application/julia",
   "name": "julia",
   "version": "1.11.6"
  },
  "kernelspec": {
   "name": "julia-1.11",
   "display_name": "Julia 1.11.6",
   "language": "julia"
  }
 },
 "nbformat": 4
}
