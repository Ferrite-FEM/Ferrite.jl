{
 "cells": [
  {
   "cell_type": "markdown",
   "source": [
    "# Heat equation - Mixed H(div) conforming formulation)\n",
    "As an alternative to the standard formulation for solving the heat equation used in\n",
    "the heat equation tutorial, we can used a mixed formulation\n",
    "where both the temperature, $u(\\mathbf{x})$, and the heat flux, $\\boldsymbol{q}(\\boldsymbol{x})$,\n",
    "are primary variables. From a theoretical standpoint, there are many details on e.g. which combinations\n",
    "of interpolations that are stable. See e.g. [Gatica2014](@cite) and [Boffi2013](@cite) for further reading.\n",
    "This tutorial is based on the theory in\n",
    "[FEniCSx' mixed poisson example](https://docs.fenicsproject.org/dolfinx/v0.9.0/python/demos/demo_mixed-poisson.html).\n",
    "\n",
    "![Temperature solution](https://raw.githubusercontent.com/Ferrite-FEM/Ferrite.jl/refs/heads/gh-pages/assets/heat_equation_hdiv.png)\n",
    "**Figure:** Temperature distribution considering a central part with lower heat conductivity.\n",
    "\n",
    "The advantage with the mixed formulation is that the heat flux is approximated better. However, the\n",
    "temperature becomes discontinuous where the conductivity is discontinuous.\n",
    "\n",
    "## Theory\n",
    "We start with the strong form of the heat equation: Find the temperature, $u(\\boldsymbol{x})$, and heat flux, $\\boldsymbol{q}(x)$,\n",
    "such that\n",
    "$$\n",
    "\\begin{align*}\n",
    "\\boldsymbol{\\nabla}\\cdot \\boldsymbol{q} &= h(\\boldsymbol{x}), \\quad \\text{in } \\Omega \\\\\n",
    "\\boldsymbol{q}(\\boldsymbol{x}) &= - k\\ \\boldsymbol{\\nabla} u(\\boldsymbol{x}), \\quad \\text{in } \\Omega \\\\\n",
    "\\boldsymbol{q}(\\boldsymbol{x})\\cdot \\boldsymbol{n}(\\boldsymbol{x}) &= q_n, \\quad \\text{on } \\Gamma_\\mathrm{N}\\\\\n",
    "u(\\boldsymbol{x}) &= u_\\mathrm{D}, \\quad \\text{on } \\Gamma_\\mathrm{D}\n",
    "\\end{align*}\n",
    "$$\n",
    "\n",
    "From this strong form, we can formulate the weak form as a mixed formulation.\n",
    "Find $u \\in \\mathbb{U}$ and $\\boldsymbol{q}\\in\\mathbb{Q}$ such that\n",
    "$$\n",
    "\\begin{align*}\n",
    "\\int_{\\Omega} \\delta u [\\boldsymbol{\\nabla} \\cdot \\boldsymbol{q}]\\ \\mathrm{d}\\Omega &= \\int_\\Omega \\delta u h\\ \\mathrm{d}\\Omega, \\quad \\forall\\ \\delta u \\in \\delta\\mathbb{U} \\\\\n",
    "% \\int_{\\Omega} \\boldsymbol{\\delta q} \\cdot \\boldsymbol{q}\\ \\mathrm{d}\\Omega &= -\\int_\\Omega \\boldsymbol{\\delta q} \\cdot [k\\ \\boldsymbol{\\nabla} u]\\ \\mathrm{d}\\Omega \\\\\n",
    "\\int_{\\Omega} \\boldsymbol{\\delta q} \\cdot \\boldsymbol{q}\\ \\mathrm{d}\\Omega - \\int_{\\Omega} [\\boldsymbol{\\nabla} \\cdot \\boldsymbol{\\delta q}] k u \\ \\mathrm{d}\\Omega &=\n",
    "-\\int_\\Gamma \\boldsymbol{\\delta q} \\cdot \\boldsymbol{n} k\\ u\\ \\mathrm{d}\\Gamma, \\quad \\forall\\ \\boldsymbol{\\delta q} \\in \\delta\\mathbb{Q}\n",
    "\\end{align*}\n",
    "$$\n",
    "where we have the function spaces,\n",
    "$$\n",
    "\\begin{align*}\n",
    "\\mathbb{U} &= \\delta\\mathbb{U} = L^2 \\\\\n",
    "\\mathbb{Q} &= \\lbrace \\boldsymbol{q} \\in H(\\mathrm{div}) \\text{ such that } \\boldsymbol{q}\\cdot\\boldsymbol{n} = q_\\mathrm{n} \\text{ on } \\Gamma_\\mathrm{D}\\rbrace \\\\\n",
    "\\delta\\mathbb{Q} &= \\lbrace \\boldsymbol{q} \\in H(\\mathrm{div}) \\text{ such that } \\boldsymbol{q}\\cdot\\boldsymbol{n} = 0 \\text{ on } \\Gamma_\\mathrm{D}\\rbrace\n",
    "\\end{align*}\n",
    "$$\n",
    "A stable choice of finite element spaces for this problem on grid with triangles is using\n",
    "* `DiscontinuousLagrange{RefTriangle, k-1}` for approximating $L^2$\n",
    "* `BrezziDouglasMarini{RefTriangle, k}` for approximating $H(\\mathrm{div})$\n",
    "# Dirichlet BC theory for hdiv interpolations.\n",
    "For a field representing a flux, we in general set the boundary condition on the normal component of this\n",
    "flux. Consider the field $\\boldsymbol{q}(\\boldsymbol{x})$, then we want to prescribe\n",
    "$q_\\mathrm{n}(\\boldsymbol{x}) = \\boldsymbol{q}(\\boldsymbol{x}) \\cdot \\boldsymbol{n}$, which we can calculate as\n",
    "$$\n",
    "q_\\mathrm{n}(\\boldsymbol{x}) = [\\boldsymbol{N}_i(\\boldsymbol{x}) \\cdot \\boldsymbol{n}] a_i\n",
    "$$\n",
    "However, for $H(\\mathrm{div})$ interpolations, we don't have distinct algebraic nodal coordinates,\n",
    "$\\boldsymbol{x}_j$, fulfilling $\\vert\\boldsymbol{N}_i(\\boldsymbol{x}_j)\\vert = \\delta_{ij}$. Instead,\n",
    "we have\n",
    "$$\n",
    "\\begin{align*}\n",
    "\\int_0^1 s (4-6s) \\mathrm{d}s = [2s^2 - 2 s^3] = 0\\\\\n",
    "\\int_0^1 (1-s) (4-6s) \\mathrm{d}s = \\int_0^1 4 - 10s + 6s^2  \\mathrm{d}s = [4s - 5s^2 + 2s^3] = 1\n",
    "\\end{align*}\n",
    "$$\n",
    "\n",
    "\n",
    "## Commented Program\n",
    "\n",
    "Now we solve the problem in Ferrite. What follows is a program spliced with comments.\n",
    "\n",
    "First we load Ferrite,"
   ],
   "metadata": {}
  },
  {
   "outputs": [],
   "cell_type": "code",
   "source": [
    "using Ferrite"
   ],
   "metadata": {},
   "execution_count": 1
  },
  {
   "cell_type": "markdown",
   "source": [
    "And define our grid, representing a channel with a central part having a lower\n",
    "conductivity, $k$, than the surrounding."
   ],
   "metadata": {}
  },
  {
   "outputs": [
    {
     "output_type": "execute_result",
     "data": {
      "text/plain": "Grid{2, Triangle, Float64} with 800 Triangle cells and 451 nodes"
     },
     "metadata": {},
     "execution_count": 2
    }
   ],
   "cell_type": "code",
   "source": [
    "function create_grid(ny::Int)\n",
    "    width = 10.0\n",
    "    length = 40.0\n",
    "    center_width = 5.0\n",
    "    center_length = 20.0\n",
    "    upper_right = Vec((length / 2, width / 2))\n",
    "    grid = generate_grid(Triangle, (round(Int, ny * length / width), ny), -upper_right, upper_right)\n",
    "    addcellset!(grid, \"center\", x -> abs(x[1]) < center_length / 2 && abs(x[2]) < center_width / 2)\n",
    "    addcellset!(grid, \"around\", setdiff(1:getncells(grid), getcellset(grid, \"center\")))\n",
    "    return grid\n",
    "end\n",
    "\n",
    "grid = create_grid(10)"
   ],
   "metadata": {},
   "execution_count": 2
  },
  {
   "cell_type": "markdown",
   "source": [
    "### Setup\n",
    "We define one `CellValues` for each field which share the same quadrature rule."
   ],
   "metadata": {}
  },
  {
   "outputs": [
    {
     "output_type": "execute_result",
     "data": {
      "text/plain": "(u = CellValues{Ferrite.FunctionValues{1, DiscontinuousLagrange{RefTriangle, 0}, Matrix{Float64}, Matrix{Vec{2, Float64}}, Matrix{Vec{2, Float64}}, Nothing, Nothing}, Ferrite.GeometryMapping{1, Lagrange{RefTriangle, 1}, Matrix{Float64}, Matrix{Vec{2, Float64}}, Nothing}, QuadratureRule{RefTriangle, Vector{Float64}, Vector{Vec{2, Float64}}}, Vector{Float64}}(Ferrite.FunctionValues{1, DiscontinuousLagrange{RefTriangle, 0}, Matrix{Float64}, Matrix{Vec{2, Float64}}, Matrix{Vec{2, Float64}}, Nothing, Nothing}(DiscontinuousLagrange{RefTriangle, 0}(), [1.0 1.0 1.0], [1.0 1.0 1.0], Vec{2, Float64}[[NaN, NaN] [NaN, NaN] [NaN, NaN]], Vec{2, Float64}[[0.0, 0.0] [0.0, 0.0] [0.0, 0.0]], nothing, nothing), Ferrite.GeometryMapping{1, Lagrange{RefTriangle, 1}, Matrix{Float64}, Matrix{Vec{2, Float64}}, Nothing}(Lagrange{RefTriangle, 1}(), [0.16666666666667 0.16666666666667 0.66666666666667; 0.16666666666667 0.66666666666667 0.16666666666667; 0.6666666666666601 0.16666666666666008 0.16666666666666005], Vec{2, Float64}[[1.0, 0.0] [1.0, 0.0] [1.0, 0.0]; [0.0, 1.0] [0.0, 1.0] [0.0, 1.0]; [-1.0, -1.0] [-1.0, -1.0] [-1.0, -1.0]], nothing), QuadratureRule{RefTriangle, Vector{Float64}, Vector{Vec{2, Float64}}}([0.166666666666665, 0.166666666666665, 0.166666666666665], Vec{2, Float64}[[0.16666666666667, 0.16666666666667], [0.16666666666667, 0.66666666666667], [0.66666666666667, 0.16666666666667]]), [NaN, NaN, NaN]), q = CellValues{Ferrite.FunctionValues{1, BrezziDouglasMarini{2, RefTriangle, 1}, Matrix{Vec{2, Float64}}, Matrix{Tensor{2, 2, Float64, 4}}, Matrix{Tensor{2, 2, Float64, 4}}, Nothing, Nothing}, Ferrite.GeometryMapping{2, Lagrange{RefTriangle, 1}, Matrix{Float64}, Matrix{Vec{2, Float64}}, Matrix{Tensor{2, 2, Float64, 4}}}, QuadratureRule{RefTriangle, Vector{Float64}, Vector{Vec{2, Float64}}}, Vector{Float64}}(Ferrite.FunctionValues{1, BrezziDouglasMarini{2, RefTriangle, 1}, Matrix{Vec{2, Float64}}, Matrix{Tensor{2, 2, Float64, 4}}, Matrix{Tensor{2, 2, Float64, 4}}, Nothing, Nothing}(BrezziDouglasMarini{2, RefTriangle, 1}(), Vec{2, Float64}[[6.93372870556056e-310, 0.0] [6.93372360790743e-310, 0.0] [6.93372360790743e-310, 0.0]; [6.9337306354221e-310, 0.0] [6.93372360790743e-310, 0.0] [6.93372360790743e-310, 0.0]; … ; [6.93372086577353e-310, 0.0] [6.9337209315388e-310, 0.0] [6.9337228831582e-310, 5.0e-324]; [6.93372360790743e-310, 0.0] [6.9337228831582e-310, 0.0] [6.9337267152657e-310, 5.0e-324]], Vec{2, Float64}[[0.66666666666668, -0.33333333333334] [0.66666666666668, -1.33333333333334] [2.66666666666668, -0.33333333333334]; [-0.33333333333334, 0.66666666666668] [-0.33333333333334, 2.66666666666668] [-1.33333333333334, 0.66666666666668]; … ; [-0.33333333333334, -2.3333333333333] [-0.33333333333334, -0.3333333333333002] [-1.33333333333334, 0.6666666666666998]; [0.66666666666668, 0.6666666666666401] [0.66666666666668, -0.3333333333333597] [2.66666666666668, -2.3333333333333597]], Tensor{2, 2, Float64, 4}[[NaN NaN; NaN NaN] [NaN NaN; NaN NaN] [NaN NaN; NaN NaN]; [NaN NaN; NaN NaN] [NaN NaN; NaN NaN] [NaN NaN; NaN NaN]; … ; [NaN NaN; NaN NaN] [NaN NaN; NaN NaN] [NaN NaN; NaN NaN]; [NaN NaN; NaN NaN] [NaN NaN; NaN NaN] [NaN NaN; NaN NaN]], Tensor{2, 2, Float64, 4}[[4.0 0.0; -0.0 -2.0] [4.0 0.0; -0.0 -2.0] [4.0 0.0; -0.0 -2.0]; [-2.0 -0.0; 0.0 4.0] [-2.0 -0.0; 0.0 4.0] [-2.0 -0.0; 0.0 4.0]; … ; [-2.0 -0.0; 6.0 4.0] [-2.0 -0.0; 6.0 4.0] [-2.0 -0.0; 6.0 4.0]; [4.0 0.0; -6.0 -2.0] [4.0 0.0; -6.0 -2.0] [4.0 0.0; -6.0 -2.0]], nothing, nothing), Ferrite.GeometryMapping{2, Lagrange{RefTriangle, 1}, Matrix{Float64}, Matrix{Vec{2, Float64}}, Matrix{Tensor{2, 2, Float64, 4}}}(Lagrange{RefTriangle, 1}(), [0.16666666666667 0.16666666666667 0.66666666666667; 0.16666666666667 0.66666666666667 0.16666666666667; 0.6666666666666601 0.16666666666666008 0.16666666666666005], Vec{2, Float64}[[1.0, 0.0] [1.0, 0.0] [1.0, 0.0]; [0.0, 1.0] [0.0, 1.0] [0.0, 1.0]; [-1.0, -1.0] [-1.0, -1.0] [-1.0, -1.0]], Tensor{2, 2, Float64, 4}[[0.0 0.0; 0.0 0.0] [0.0 0.0; 0.0 0.0] [0.0 0.0; 0.0 0.0]; [0.0 0.0; 0.0 0.0] [0.0 0.0; 0.0 0.0] [0.0 0.0; 0.0 0.0]; [-0.0 -0.0; -0.0 -0.0] [-0.0 -0.0; -0.0 -0.0] [-0.0 -0.0; -0.0 -0.0]]), QuadratureRule{RefTriangle, Vector{Float64}, Vector{Vec{2, Float64}}}([0.166666666666665, 0.166666666666665, 0.166666666666665], Vec{2, Float64}[[0.16666666666667, 0.16666666666667], [0.16666666666667, 0.66666666666667], [0.66666666666667, 0.16666666666667]]), [NaN, NaN, NaN]))"
     },
     "metadata": {},
     "execution_count": 3
    }
   ],
   "cell_type": "code",
   "source": [
    "ip_geo = geometric_interpolation(getcelltype(grid))\n",
    "ipu = DiscontinuousLagrange{RefTriangle, 0}()\n",
    "ipq = BrezziDouglasMarini{2, RefTriangle, 1}()\n",
    "qr = QuadratureRule{RefTriangle}(2)\n",
    "cellvalues = (u = CellValues(qr, ipu, ip_geo), q = CellValues(qr, ipq, ip_geo))"
   ],
   "metadata": {},
   "execution_count": 3
  },
  {
   "cell_type": "markdown",
   "source": [
    "Distribute the degrees of freedom"
   ],
   "metadata": {}
  },
  {
   "outputs": [
    {
     "output_type": "execute_result",
     "data": {
      "text/plain": "DofHandler{2, Grid{2, Triangle, Float64}}\n  Fields:\n    :u, DiscontinuousLagrange{RefTriangle, 0}()\n    :q, BrezziDouglasMarini{2, RefTriangle, 1}()\n  Dofs per cell: 7\n  Total dofs: 3300"
     },
     "metadata": {},
     "execution_count": 4
    }
   ],
   "cell_type": "code",
   "source": [
    "dh = DofHandler(grid)\n",
    "add!(dh, :u, ipu)\n",
    "add!(dh, :q, ipq)\n",
    "close!(dh)"
   ],
   "metadata": {},
   "execution_count": 4
  },
  {
   "cell_type": "markdown",
   "source": [
    "In this problem, we have a zero temperature on the boundary, Γ, which is enforced\n",
    "via zero Neumann boundary conditions. Hence, we don't need a `Constrainthandler`."
   ],
   "metadata": {}
  },
  {
   "outputs": [
    {
     "output_type": "execute_result",
     "data": {
      "text/plain": "OrderedCollections.OrderedSet{FacetIndex} with 100 elements:\n  FacetIndex((1, 3))\n  FacetIndex((81, 3))\n  FacetIndex((161, 3))\n  FacetIndex((241, 3))\n  FacetIndex((321, 3))\n  FacetIndex((401, 3))\n  FacetIndex((481, 3))\n  FacetIndex((561, 3))\n  FacetIndex((641, 3))\n  FacetIndex((721, 3))\n  FacetIndex((80, 1))\n  FacetIndex((160, 1))\n  FacetIndex((240, 1))\n  FacetIndex((320, 1))\n  FacetIndex((400, 1))\n  FacetIndex((480, 1))\n  FacetIndex((560, 1))\n  FacetIndex((640, 1))\n  FacetIndex((720, 1))\n  ⋮ "
     },
     "metadata": {},
     "execution_count": 5
    }
   ],
   "cell_type": "code",
   "source": [
    "Γ = union((getfacetset(grid, name) for name in (\"left\", \"right\", \"bottom\", \"top\"))...)"
   ],
   "metadata": {},
   "execution_count": 5
  },
  {
   "cell_type": "markdown",
   "source": [
    "### Element implementation"
   ],
   "metadata": {}
  },
  {
   "outputs": [
    {
     "output_type": "execute_result",
     "data": {
      "text/plain": "assemble_element! (generic function with 1 method)"
     },
     "metadata": {},
     "execution_count": 6
    }
   ],
   "cell_type": "code",
   "source": [
    "function assemble_element!(Ke::Matrix, fe::Vector, cv::NamedTuple, dr::NamedTuple, k::Number)\n",
    "    cvu = cv[:u]\n",
    "    cvq = cv[:q]\n",
    "    dru = dr[:u]\n",
    "    drq = dr[:q]\n",
    "    h = 1.0 # Heat source\n",
    "    # Loop over quadrature points\n",
    "    for q_point in 1:getnquadpoints(cvu)\n",
    "        # Get the quadrature weight\n",
    "        dΩ = getdetJdV(cvu, q_point)\n",
    "        # Loop over test shape functions\n",
    "        for (iu, Iu) in pairs(dru)\n",
    "            δNu = shape_value(cvu, q_point, iu)\n",
    "            # Add contribution to fe\n",
    "            fe[Iu] += δNu * h * dΩ\n",
    "            # Loop over trial shape functions\n",
    "            for (jq, Jq) in pairs(drq)\n",
    "                div_Nq = shape_divergence(cvq, q_point, jq)\n",
    "                # Add contribution to Ke\n",
    "                Ke[Iu, Jq] += (δNu * div_Nq) * dΩ\n",
    "            end\n",
    "        end\n",
    "        for (iq, Iq) in pairs(drq)\n",
    "            δNq = shape_value(cvq, q_point, iq)\n",
    "            div_δNq = shape_divergence(cvq, q_point, iq)\n",
    "            for (ju, Ju) in pairs(dru)\n",
    "                Nu = shape_value(cvu, q_point, ju)\n",
    "                Ke[Iq, Ju] -= div_δNq * k * Nu * dΩ\n",
    "            end\n",
    "            for (jq, Jq) in pairs(drq)\n",
    "                Nq = shape_value(cvq, q_point, jq)\n",
    "                Ke[Iq, Jq] += (δNq ⋅ Nq) * dΩ\n",
    "            end\n",
    "        end\n",
    "    end\n",
    "    return Ke, fe\n",
    "end"
   ],
   "metadata": {},
   "execution_count": 6
  },
  {
   "cell_type": "markdown",
   "source": [
    "### Global assembly"
   ],
   "metadata": {}
  },
  {
   "outputs": [
    {
     "output_type": "execute_result",
     "data": {
      "text/plain": "assemble_global (generic function with 1 method)"
     },
     "metadata": {},
     "execution_count": 7
    }
   ],
   "cell_type": "code",
   "source": [
    "function assemble_global(cellvalues, dh::DofHandler)\n",
    "    grid = dh.grid\n",
    "    # Allocate the element stiffness matrix and element force vector\n",
    "    dofranges = (u = dof_range(dh, :u), q = dof_range(dh, :q))\n",
    "    ncelldofs = ndofs_per_cell(dh)\n",
    "    Ke = zeros(ncelldofs, ncelldofs)\n",
    "    fe = zeros(ncelldofs)\n",
    "    # Allocate global system matrix and vector\n",
    "    K = allocate_matrix(dh)\n",
    "    f = zeros(ndofs(dh))\n",
    "    # Create an assembler\n",
    "    assembler = start_assemble(K, f)\n",
    "    x = copy(getcoordinates(grid, 1))\n",
    "    dofs = copy(celldofs(dh, 1))\n",
    "    # Loop over all cells\n",
    "    for (cells, k) in (\n",
    "            (getcellset(grid, \"center\"), 0.1),\n",
    "            (getcellset(grid, \"around\"), 1.0),\n",
    "        )\n",
    "        for cellnr in cells\n",
    "            # Reinitialize cellvalues for this cell\n",
    "            cell = getcells(grid, cellnr)\n",
    "            getcoordinates!(x, grid, cell)\n",
    "            celldofs!(dofs, dh, cellnr)\n",
    "            reinit!(cellvalues[:u], cell, x)\n",
    "            reinit!(cellvalues[:q], cell, x)\n",
    "            # Reset to 0\n",
    "            fill!(Ke, 0)\n",
    "            fill!(fe, 0)\n",
    "            # Compute element contribution\n",
    "            assemble_element!(Ke, fe, cellvalues, dofranges, k)\n",
    "            # Assemble Ke and fe into K and f\n",
    "            assemble!(assembler, dofs, Ke, fe)\n",
    "        end\n",
    "    end\n",
    "    return K, f\n",
    "end"
   ],
   "metadata": {},
   "execution_count": 7
  },
  {
   "cell_type": "markdown",
   "source": [
    "### Solution of the system"
   ],
   "metadata": {}
  },
  {
   "outputs": [
    {
     "output_type": "execute_result",
     "data": {
      "text/plain": "3300-element Vector{Float64}:\n  0.1766761838865638\n  0.3951644407570831\n  0.6653288815141729\n -0.81034791595397\n -0.8097662906847859\n -0.39487362812250104\n -0.6647472562449993\n  0.6750475860994748\n -0.1874127326929641\n -0.37482546538591954\n  ⋮\n -1.0880793686815098\n  0.6750475860994741\n  0.8097662906847707\n  0.8103479159539829\n  0.1766761838865637\n  0.6647472562449739\n  0.39487362812248344\n -0.6653288815141966\n -0.39516444075709983"
     },
     "metadata": {},
     "execution_count": 8
    }
   ],
   "cell_type": "code",
   "source": [
    "K, f = assemble_global(cellvalues, dh);\n",
    "u = K \\ f"
   ],
   "metadata": {},
   "execution_count": 8
  },
  {
   "cell_type": "markdown",
   "source": [
    "### Exporting to VTK\n",
    "Currently, exporting discontinuous interpolations is not supported.\n",
    "Since in this case, we have a single temperature degree of freedom\n",
    "per cell, we work around this by calculating the per-cell temperature."
   ],
   "metadata": {}
  },
  {
   "outputs": [
    {
     "output_type": "execute_result",
     "data": {
      "text/plain": "VTKGridFile for the closed file \"heat_equation_hdiv.vtu\"."
     },
     "metadata": {},
     "execution_count": 9
    }
   ],
   "cell_type": "code",
   "source": [
    "temperature_dof = first(dof_range(dh, :u))\n",
    "u_cells = map(1:getncells(grid)) do i\n",
    "    u[celldofs(dh, i)[temperature_dof]]\n",
    "end\n",
    "VTKGridFile(\"heat_equation_hdiv\", dh) do vtk\n",
    "    write_cell_data(vtk, u_cells, \"temperature\")\n",
    "end"
   ],
   "metadata": {},
   "execution_count": 9
  },
  {
   "cell_type": "markdown",
   "source": [
    "## Postprocess the total flux\n",
    "We applied a constant unit heat source to the body, and the\n",
    "total heat flux exiting across the boundary should therefore\n",
    "match the area for the considered stationary case."
   ],
   "metadata": {}
  },
  {
   "outputs": [
    {
     "name": "stdout",
     "output_type": "stream",
     "text": [
      "Outward flux: 400.0000000000002\n"
     ]
    }
   ],
   "cell_type": "code",
   "source": [
    "function calculate_flux(dh, boundary_facets, ip, a)\n",
    "    grid = dh.grid\n",
    "    qr = FacetQuadratureRule{RefTriangle}(4)\n",
    "    ip_geo = geometric_interpolation(getcelltype(grid))\n",
    "    fv = FacetValues(qr, ip, ip_geo)\n",
    "\n",
    "    dofrange = dof_range(dh, :q)\n",
    "    flux = 0.0\n",
    "    dofs = celldofs(dh, 1)\n",
    "    ae = zeros(length(dofs))\n",
    "    x = getcoordinates(grid, 1)\n",
    "    for (cellnr, facetnr) in boundary_facets\n",
    "        getcoordinates!(x, grid, cellnr)\n",
    "        cell = getcells(grid, cellnr)\n",
    "        celldofs!(dofs, dh, cellnr)\n",
    "        map!(i -> a[i], ae, dofs)\n",
    "        reinit!(fv, cell, x, facetnr)\n",
    "        for q_point in 1:getnquadpoints(fv)\n",
    "            dΓ = getdetJdV(fv, q_point)\n",
    "            n = getnormal(fv, q_point)\n",
    "            q = function_value(fv, q_point, ae, dofrange)\n",
    "            flux += (q ⋅ n) * dΓ\n",
    "        end\n",
    "    end\n",
    "    return flux\n",
    "end\n",
    "\n",
    "println(\"Outward flux: \", calculate_flux(dh, Γ, ipq, u))"
   ],
   "metadata": {},
   "execution_count": 10
  },
  {
   "cell_type": "markdown",
   "source": [
    "Note that this is not the case for the standard Heat equation,\n",
    "as the flux terms are less accurately approximated. A fine mesh is required to converge in that case.\n",
    "However, the present example gives a worse approximation of the temperature field."
   ],
   "metadata": {}
  },
  {
   "cell_type": "markdown",
   "source": [
    "---\n",
    "\n",
    "*This notebook was generated using [Literate.jl](https://github.com/fredrikekre/Literate.jl).*"
   ],
   "metadata": {}
  }
 ],
 "nbformat_minor": 3,
 "metadata": {
  "language_info": {
   "file_extension": ".jl",
   "mimetype": "application/julia",
   "name": "julia",
   "version": "1.11.2"
  },
  "kernelspec": {
   "name": "julia-1.11",
   "display_name": "Julia 1.11.2",
   "language": "julia"
  }
 },
 "nbformat": 4
}
