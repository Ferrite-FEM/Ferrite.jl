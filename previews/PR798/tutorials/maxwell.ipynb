{
 "cells": [
  {
   "cell_type": "markdown",
   "source": [
    "# Solving Maxwell's equations\n",
    "$$\n",
    "\\begin{align*}\n",
    "\\nabla \\cdot \\boldsymbol{D} &= \\rho_\\mathrm{f} \\\\\n",
    "\\nabla \\times \\boldsymbol{H} &= \\boldsymbol{J}_\\mathrm{f} + \\frac{\\partial \\boldsymbol{D}}{\\partial t} \\\\\n",
    "\\nabla \\cdot \\boldsymbol{B} &= 0 \\\\\n",
    "\\nabla \\times \\boldsymbol{E} &= -\\frac{\\partial \\boldsymbol{B}}{\\partial t}\n",
    "\\end{align*}\n",
    "$$"
   ],
   "metadata": {}
  },
  {
   "cell_type": "markdown",
   "source": [
    "**Not working:** Maybe try the standard laplace eigenvalue problem\n",
    "https://www.cambridge.org/core/services/aop-cambridge-core/content/view/4BD87CC520C7E11CF402981AA58D77E2/S0962492910000012a.pdf/finite-element-approximation-of-eigenvalue-problems.pdf\n",
    "\n",
    "# Maxwell eigenvalue problem\n",
    "Strong form\n",
    "$$\n",
    "\\begin{align*}\n",
    "\\mathrm{curl}(\\mathrm{curl}(\\boldsymbol{u})) &= \\lambda \\boldsymbol{u} \\text{ in } \\Omega \\\\\n",
    "\\boldsymbol{u} \\times \\boldsymbol{n} &= \\boldsymbol{0} \\text{ on } \\partial\\Omega\n",
    "\\end{align*}\n",
    "$$\n",
    "Weak form\n",
    "$$\n",
    "\\int_\\Omega \\mathrm{curl}(\\boldsymbol{\\delta u}) \\cdot \\mathrm{curl}(\\boldsymbol{u})\\ \\mathrm{d}\\Omega = \\lambda \\int_\\Omega \\boldsymbol{\\delta u} \\cdot \\boldsymbol{u}\\ \\mathrm{d}\\Omega \\quad \\forall\\ \\boldsymbol{\\delta u} \\in H_0(\\text{curl})\n",
    "$$\n",
    "Finite element formulation\n",
    "$$\n",
    "\\underbrace{\\int_\\Omega \\mathrm{curl}(\\boldsymbol{\\delta N}_i) \\cdot \\mathrm{curl}(\\boldsymbol{N_j})\\ \\mathrm{d}\\Omega}_{A_{ij}}\\ x_j = \\lambda \\underbrace{\\int_\\Omega \\boldsymbol{\\delta N_i} \\cdot \\boldsymbol{N_j}\\ \\mathrm{d}\\Omega}_{B_{ij}}\\ x_j\n",
    "$$"
   ],
   "metadata": {}
  },
  {
   "cell_type": "markdown",
   "source": [
    "## Implementation"
   ],
   "metadata": {}
  },
  {
   "outputs": [],
   "cell_type": "code",
   "source": [
    "using Ferrite, Tensors, KrylovKit\n",
    "using Arpack: Arpack"
   ],
   "metadata": {},
   "execution_count": 1
  },
  {
   "cell_type": "markdown",
   "source": [
    "### Element routine"
   ],
   "metadata": {}
  },
  {
   "outputs": [
    {
     "output_type": "execute_result",
     "data": {
      "text/plain": "element_routine! (generic function with 1 method)"
     },
     "metadata": {},
     "execution_count": 2
    }
   ],
   "cell_type": "code",
   "source": [
    "function element_routine!(Ae, Be, cv::CellValues)\n",
    "    for q_point in 1:getnquadpoints(cv)\n",
    "        dΩ = getdetJdV(cv, q_point)\n",
    "        for i in 1:getnbasefunctions(cv)\n",
    "            δN = shape_value(cv, q_point, i)\n",
    "            curl_δN = shape_curl(cv, q_point, i)\n",
    "            for j in 1:getnbasefunctions(cv)\n",
    "                N = shape_value(cv, q_point, j)\n",
    "                curl_N = shape_curl(cv, q_point, j)\n",
    "                Ae[i, j] = (curl_δN ⋅ curl_N) * dΩ\n",
    "                Be[i, j] = (δN ⋅ N) * dΩ\n",
    "            end\n",
    "        end\n",
    "    end\n",
    "    return\n",
    "end"
   ],
   "metadata": {},
   "execution_count": 2
  },
  {
   "cell_type": "markdown",
   "source": [
    "### FE setup"
   ],
   "metadata": {}
  },
  {
   "outputs": [
    {
     "output_type": "execute_result",
     "data": {
      "text/plain": "4720×4720 SparseMatrixCSC{Float64, Int64} with 23284 stored entries:\n⎡⢿⣷⣄⠀⠀⠀⠀⠀⠀⠀⠀⠀⠀⠀⠀⠀⠀⠀⠀⠀⠀⠀⠀⠀⠀⠀⠀⠀⠀⠀⠀⠀⠀⠀⠀⠀⠀⠀⠀⠀⎤\n⎢⠀⠙⢿⣷⣄⠀⠀⠀⠀⠀⠀⠀⠀⠀⠀⠀⠀⠀⠀⠀⠀⠀⠀⠀⠀⠀⠀⠀⠀⠀⠀⠀⠀⠀⠀⠀⠀⠀⠀⠀⎥\n⎢⠀⠀⠀⠙⢿⣷⣄⠀⠀⠀⠀⠀⠀⠀⠀⠀⠀⠀⠀⠀⠀⠀⠀⠀⠀⠀⠀⠀⠀⠀⠀⠀⠀⠀⠀⠀⠀⠀⠀⠀⎥\n⎢⠀⠀⠀⠀⠀⠙⢿⣷⣄⠀⠀⠀⠀⠀⠀⠀⠀⠀⠀⠀⠀⠀⠀⠀⠀⠀⠀⠀⠀⠀⠀⠀⠀⠀⠀⠀⠀⠀⠀⠀⎥\n⎢⠀⠀⠀⠀⠀⠀⠀⠙⢿⣷⣄⠀⠀⠀⠀⠀⠀⠀⠀⠀⠀⠀⠀⠀⠀⠀⠀⠀⠀⠀⠀⠀⠀⠀⠀⠀⠀⠀⠀⠀⎥\n⎢⠀⠀⠀⠀⠀⠀⠀⠀⠀⠙⢿⣷⣄⠀⠀⠀⠀⠀⠀⠀⠀⠀⠀⠀⠀⠀⠀⠀⠀⠀⠀⠀⠀⠀⠀⠀⠀⠀⠀⠀⎥\n⎢⠀⠀⠀⠀⠀⠀⠀⠀⠀⠀⠀⠙⢿⣷⣄⠀⠀⠀⠀⠀⠀⠀⠀⠀⠀⠀⠀⠀⠀⠀⠀⠀⠀⠀⠀⠀⠀⠀⠀⠀⎥\n⎢⠀⠀⠀⠀⠀⠀⠀⠀⠀⠀⠀⠀⠀⠙⢿⣷⣄⠀⠀⠀⠀⠀⠀⠀⠀⠀⠀⠀⠀⠀⠀⠀⠀⠀⠀⠀⠀⠀⠀⠀⎥\n⎢⠀⠀⠀⠀⠀⠀⠀⠀⠀⠀⠀⠀⠀⠀⠀⠙⢿⣷⣄⠀⠀⠀⠀⠀⠀⠀⠀⠀⠀⠀⠀⠀⠀⠀⠀⠀⠀⠀⠀⠀⎥\n⎢⠀⠀⠀⠀⠀⠀⠀⠀⠀⠀⠀⠀⠀⠀⠀⠀⠀⠙⢿⣷⣄⠀⠀⠀⠀⠀⠀⠀⠀⠀⠀⠀⠀⠀⠀⠀⠀⠀⠀⠀⎥\n⎢⠀⠀⠀⠀⠀⠀⠀⠀⠀⠀⠀⠀⠀⠀⠀⠀⠀⠀⠀⠙⢿⣷⣄⠀⠀⠀⠀⠀⠀⠀⠀⠀⠀⠀⠀⠀⠀⠀⠀⠀⎥\n⎢⠀⠀⠀⠀⠀⠀⠀⠀⠀⠀⠀⠀⠀⠀⠀⠀⠀⠀⠀⠀⠀⠙⢿⣷⣄⠀⠀⠀⠀⠀⠀⠀⠀⠀⠀⠀⠀⠀⠀⠀⎥\n⎢⠀⠀⠀⠀⠀⠀⠀⠀⠀⠀⠀⠀⠀⠀⠀⠀⠀⠀⠀⠀⠀⠀⠀⠙⢿⣷⣄⠀⠀⠀⠀⠀⠀⠀⠀⠀⠀⠀⠀⠀⎥\n⎢⠀⠀⠀⠀⠀⠀⠀⠀⠀⠀⠀⠀⠀⠀⠀⠀⠀⠀⠀⠀⠀⠀⠀⠀⠀⠙⢿⣷⣄⠀⠀⠀⠀⠀⠀⠀⠀⠀⠀⠀⎥\n⎢⠀⠀⠀⠀⠀⠀⠀⠀⠀⠀⠀⠀⠀⠀⠀⠀⠀⠀⠀⠀⠀⠀⠀⠀⠀⠀⠀⠙⢿⣷⣄⠀⠀⠀⠀⠀⠀⠀⠀⠀⎥\n⎢⠀⠀⠀⠀⠀⠀⠀⠀⠀⠀⠀⠀⠀⠀⠀⠀⠀⠀⠀⠀⠀⠀⠀⠀⠀⠀⠀⠀⠀⠙⢿⣷⣄⠀⠀⠀⠀⠀⠀⠀⎥\n⎢⠀⠀⠀⠀⠀⠀⠀⠀⠀⠀⠀⠀⠀⠀⠀⠀⠀⠀⠀⠀⠀⠀⠀⠀⠀⠀⠀⠀⠀⠀⠀⠙⢿⣷⣄⠀⠀⠀⠀⠀⎥\n⎢⠀⠀⠀⠀⠀⠀⠀⠀⠀⠀⠀⠀⠀⠀⠀⠀⠀⠀⠀⠀⠀⠀⠀⠀⠀⠀⠀⠀⠀⠀⠀⠀⠀⠙⢿⣷⣄⠀⠀⠀⎥\n⎢⠀⠀⠀⠀⠀⠀⠀⠀⠀⠀⠀⠀⠀⠀⠀⠀⠀⠀⠀⠀⠀⠀⠀⠀⠀⠀⠀⠀⠀⠀⠀⠀⠀⠀⠀⠙⢿⣷⣄⠀⎥\n⎣⠀⠀⠀⠀⠀⠀⠀⠀⠀⠀⠀⠀⠀⠀⠀⠀⠀⠀⠀⠀⠀⠀⠀⠀⠀⠀⠀⠀⠀⠀⠀⠀⠀⠀⠀⠀⠀⠙⢿⣷⎦"
     },
     "metadata": {},
     "execution_count": 3
    }
   ],
   "cell_type": "code",
   "source": [
    "function doassemble!(A, B, dh, cv)\n",
    "    n = ndofs_per_cell(dh)\n",
    "    Ae = zeros(n, n)\n",
    "    Be = zeros(n, n)\n",
    "    a_assem, b_assem = start_assemble.((A, B))\n",
    "    for cc in CellIterator(dh)\n",
    "        cell = getcells(dh.grid, cellid(cc))\n",
    "        reinit!(cv, cell, getcoordinates(cc))\n",
    "        element_routine!(Ae, Be, cv)\n",
    "        assemble!(a_assem, celldofs(cc), Ae)\n",
    "        assemble!(b_assem, celldofs(cc), Be)\n",
    "    end\n",
    "    return A, B\n",
    "end\n",
    "\n",
    "function setup_and_assemble(ip::VectorInterpolation{2, RefTriangle})\n",
    "    grid = generate_grid(Triangle, (40, 40), zero(Vec{2}), π * ones(Vec{2}))\n",
    "    cv = CellValues(QuadratureRule{RefTriangle}(2), ip, geometric_interpolation(Triangle))\n",
    "    dh = close!(add!(DofHandler(grid), :u, ip))\n",
    "    ∂Ω = union((getfacetset(grid, k) for k in (\"left\", \"top\", \"right\", \"bottom\"))...)\n",
    "    dbc = Dirichlet(:u, ∂Ω, ip isa VectorizedInterpolation ? Returns([0.0, 0.0]) : Returns(0.0))\n",
    "    ch = close!(add!(ConstraintHandler(dh), dbc))\n",
    "    sp = init_sparsity_pattern(dh)\n",
    "    add_sparsity_entries!(sp, dh)\n",
    "    A = allocate_matrix(sp)\n",
    "    B = allocate_matrix(sp)\n",
    "    doassemble!(A, B, dh, cv)\n",
    "    #Ferrite.zero_out_rows!(B, ch.dofmapping)\n",
    "    #Ferrite.zero_out_columns!(B, ch.prescribed_dofs)\n",
    "    fdofs = ch.free_dofs\n",
    "    return A, B, dh, fdofs\n",
    "end\n",
    "\n",
    "ip = Nedelec{2, RefTriangle, 1}()\n",
    "#ip = Lagrange{RefTriangle, 1}()^2\n",
    "\n",
    "A, B, dh, fdofs = setup_and_assemble(ip)\n",
    "Aff = A[fdofs, fdofs]\n",
    "Bff = B[fdofs, fdofs]"
   ],
   "metadata": {},
   "execution_count": 3
  },
  {
   "cell_type": "markdown",
   "source": [
    "vals, vecs, info = geneigsolve((Aff, Bff), 10, EigSorter(x -> abs(x - 5.0)); maxiter = 1000);\n",
    "λ, ϕ = Arpack.eigs(Aff, Bff, nev = 2, sigma=5.5);"
   ],
   "metadata": {}
  },
  {
   "cell_type": "markdown",
   "source": [
    "---\n",
    "\n",
    "*This notebook was generated using [Literate.jl](https://github.com/fredrikekre/Literate.jl).*"
   ],
   "metadata": {}
  }
 ],
 "nbformat_minor": 3,
 "metadata": {
  "language_info": {
   "file_extension": ".jl",
   "mimetype": "application/julia",
   "name": "julia",
   "version": "1.11.2"
  },
  "kernelspec": {
   "name": "julia-1.11",
   "display_name": "Julia 1.11.2",
   "language": "julia"
  }
 },
 "nbformat": 4
}
