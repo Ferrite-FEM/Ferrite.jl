{
 "cells": [
  {
   "cell_type": "markdown",
   "source": [
    "# Solving Maxwell's equations\n",
    "$$\n",
    "\\begin{align*}\n",
    "\\nabla \\cdot \\boldsymbol{D} &= \\rho_\\mathrm{f} \\\\\n",
    "\\nabla \\times \\boldsymbol{H} &= \\boldsymbol{J}_\\mathrm{f} + \\frac{\\partial \\boldsymbol{D}}{\\partial t} \\\\\n",
    "\\nabla \\cdot \\boldsymbol{B} &= 0 \\\\\n",
    "\\nabla \\times \\boldsymbol{E} &= -\\frac{\\partial \\boldsymbol{B}}{\\partial t}\n",
    "\\end{align*}\n",
    "$$"
   ],
   "metadata": {}
  },
  {
   "cell_type": "markdown",
   "source": [
    "**Not working:** Maybe try the standard laplace eigenvalue problem\n",
    "https://www.cambridge.org/core/services/aop-cambridge-core/content/view/4BD87CC520C7E11CF402981AA58D77E2/S0962492910000012a.pdf/finite-element-approximation-of-eigenvalue-problems.pdf\n",
    "\n",
    "# Maxwell eigenvalue problem\n",
    "Strong form\n",
    "$$\n",
    "\\begin{align*}\n",
    "\\mathrm{curl}(\\mathrm{curl}(\\boldsymbol{u})) &= \\lambda \\boldsymbol{u} \\text{ in } \\Omega \\\\\n",
    "\\boldsymbol{u} \\times \\boldsymbol{n} &= \\boldsymbol{0} \\text{ on } \\partial\\Omega\n",
    "\\end{align*}\n",
    "$$\n",
    "Weak form\n",
    "$$\n",
    "\\int_\\Omega \\mathrm{curl}(\\boldsymbol{\\delta u}) \\cdot \\mathrm{curl}(\\boldsymbol{u})\\ \\mathrm{d}\\Omega = \\lambda \\int_\\Omega \\boldsymbol{\\delta u} \\cdot \\boldsymbol{u}\\ \\mathrm{d}\\Omega \\quad \\forall\\ \\boldsymbol{\\delta u} \\in H_0(\\text{curl})\n",
    "$$\n",
    "Finite element formulation\n",
    "$$\n",
    "\\underbrace{\\int_\\Omega \\mathrm{curl}(\\boldsymbol{\\delta N}_i) \\cdot \\mathrm{curl}(\\boldsymbol{N_j})\\ \\mathrm{d}\\Omega}_{A_{ij}}\\ x_j = \\lambda \\underbrace{\\int_\\Omega \\boldsymbol{\\delta N_i} \\cdot \\boldsymbol{N_j}\\ \\mathrm{d}\\Omega}_{B_{ij}}\\ x_j\n",
    "$$"
   ],
   "metadata": {}
  },
  {
   "cell_type": "markdown",
   "source": [
    "## Implementation"
   ],
   "metadata": {}
  },
  {
   "outputs": [],
   "cell_type": "code",
   "source": [
    "using Ferrite, Tensors, KrylovKit\n",
    "using Arpack: Arpack"
   ],
   "metadata": {},
   "execution_count": 1
  },
  {
   "cell_type": "markdown",
   "source": [
    "### Element routine"
   ],
   "metadata": {}
  },
  {
   "outputs": [
    {
     "output_type": "execute_result",
     "data": {
      "text/plain": "element_routine! (generic function with 1 method)"
     },
     "metadata": {},
     "execution_count": 2
    }
   ],
   "cell_type": "code",
   "source": [
    "function element_routine!(Ae, Be, cv::CellValues)\n",
    "    for q_point in 1:getnquadpoints(cv)\n",
    "        dΩ = getdetJdV(cv, q_point)\n",
    "        for i in 1:getnbasefunctions(cv)\n",
    "            δN = shape_value(cv, q_point, i)\n",
    "            curl_δN = shape_curl(cv, q_point, i)\n",
    "            for j in 1:getnbasefunctions(cv)\n",
    "                N = shape_value(cv, q_point, j)\n",
    "                curl_N = shape_curl(cv, q_point, j)\n",
    "                Ae[i, j] = (curl_δN ⋅ curl_N) * dΩ\n",
    "                Be[i, j] = (δN ⋅ N) * dΩ\n",
    "            end\n",
    "        end\n",
    "    end\n",
    "    return\n",
    "end"
   ],
   "metadata": {},
   "execution_count": 2
  },
  {
   "cell_type": "markdown",
   "source": [
    "### FE setup"
   ],
   "metadata": {}
  },
  {
   "outputs": [
    {
     "output_type": "execute_result",
     "data": {
      "text/plain": "(sparse([1, 2, 3, 1, 2, 3, 4, 5, 1, 2  …  316, 318, 319, 320, 318, 319, 320, 318, 319, 320], [1, 1, 1, 2, 2, 2, 2, 2, 3, 3  …  318, 318, 318, 318, 319, 319, 319, 320, 320, 320], [16.666666666666515, 16.666666666666515, -16.666666666666515, 16.666666666666515, 33.33333333333303, -16.666666666666515, -16.666666666666515, 16.666666666666515, -16.666666666666515, -16.666666666666515  …  -16.666666666666515, 33.33333333333303, -16.666666666666515, 16.666666666666515, -16.666666666666515, 16.666666666666515, -16.666666666666515, 16.666666666666515, -16.666666666666515, 16.666666666666515], 320, 320), sparse([1, 2, 3, 1, 2, 3, 4, 5, 1, 2  …  316, 318, 319, 320, 318, 319, 320, 318, 319, 320], [1, 1, 1, 2, 2, 2, 2, 2, 3, 3  …  318, 318, 318, 318, 319, 319, 319, 320, 320, 320], [0.0, 0.0, 0.0, 0.0, 0.08796296296296227, 0.0, -0.05092592592592687, -0.03240740740740726, 0.0, 0.0  …  0.018518518518519073, 0.08796296296296227, 0.0, 0.0, 0.0, 0.0, 0.0, 0.0, 0.0, 0.0], 320, 320), DofHandler{2, Grid{2, Triangle, Float64}}(SubDofHandler{DofHandler{2, Grid{2, Triangle, Float64}}}[SubDofHandler{DofHandler{2, Grid{2, Triangle, Float64}}}(DofHandler{2, Grid{2, Triangle, Float64}}(#= circular reference @-3 =#), OrderedCollections.OrderedSet{Int64}([1, 2, 3, 4, 5, 6, 7, 8, 9, 10  …  191, 192, 193, 194, 195, 196, 197, 198, 199, 200]), [:u], Interpolation[Nedelec{2, RefTriangle, 1}()], Int64[], 3)], [:u], [1, 2, 3, 4, 5, 2, 6, 7, 4, 8  …  313, 316, 317, 315, 289, 318, 316, 319, 320, 318], [1, 4, 7, 10, 13, 16, 19, 22, 25, 28  …  571, 574, 577, 580, 583, 586, 589, 592, 595, 598], [1, 1, 1, 1, 1, 1, 1, 1, 1, 1  …  1, 1, 1, 1, 1, 1, 1, 1, 1, 1], true, Grid{2, Triangle, Float64}(Triangle[Triangle((1, 2, 12)), Triangle((2, 13, 12)), Triangle((2, 3, 13)), Triangle((3, 14, 13)), Triangle((3, 4, 14)), Triangle((4, 15, 14)), Triangle((4, 5, 15)), Triangle((5, 16, 15)), Triangle((5, 6, 16)), Triangle((6, 17, 16))  …  Triangle((105, 106, 116)), Triangle((106, 117, 116)), Triangle((106, 107, 117)), Triangle((107, 118, 117)), Triangle((107, 108, 118)), Triangle((108, 119, 118)), Triangle((108, 109, 119)), Triangle((109, 120, 119)), Triangle((109, 110, 120)), Triangle((110, 121, 120))], Node{2, Float64}[Node{2, Float64}([-1.0, -1.0]), Node{2, Float64}([-0.8, -1.0]), Node{2, Float64}([-0.6000000000000001, -1.0]), Node{2, Float64}([-0.39999999999999997, -1.0]), Node{2, Float64}([-0.19999999999999996, -1.0]), Node{2, Float64}([0.0, -1.0]), Node{2, Float64}([0.19999999999999996, -1.0]), Node{2, Float64}([0.3999999999999999, -1.0]), Node{2, Float64}([0.6000000000000001, -1.0]), Node{2, Float64}([0.8, -1.0])  …  Node{2, Float64}([-0.8, 1.0]), Node{2, Float64}([-0.6000000000000001, 1.0]), Node{2, Float64}([-0.39999999999999997, 1.0]), Node{2, Float64}([-0.19999999999999996, 1.0]), Node{2, Float64}([0.0, 1.0]), Node{2, Float64}([0.19999999999999996, 1.0]), Node{2, Float64}([0.3999999999999999, 1.0]), Node{2, Float64}([0.6000000000000001, 1.0]), Node{2, Float64}([0.8, 1.0]), Node{2, Float64}([1.0, 1.0])], Dict{String, OrderedCollections.OrderedSet{Int64}}(), Dict{String, OrderedCollections.OrderedSet{Int64}}(), Dict{String, OrderedCollections.OrderedSet{FacetIndex}}(\"left\" => OrderedCollections.OrderedSet{FacetIndex}([FacetIndex((1, 3)), FacetIndex((21, 3)), FacetIndex((41, 3)), FacetIndex((61, 3)), FacetIndex((81, 3)), FacetIndex((101, 3)), FacetIndex((121, 3)), FacetIndex((141, 3)), FacetIndex((161, 3)), FacetIndex((181, 3))]), \"bottom\" => OrderedCollections.OrderedSet{FacetIndex}([FacetIndex((1, 1)), FacetIndex((3, 1)), FacetIndex((5, 1)), FacetIndex((7, 1)), FacetIndex((9, 1)), FacetIndex((11, 1)), FacetIndex((13, 1)), FacetIndex((15, 1)), FacetIndex((17, 1)), FacetIndex((19, 1))]), \"right\" => OrderedCollections.OrderedSet{FacetIndex}([FacetIndex((20, 1)), FacetIndex((40, 1)), FacetIndex((60, 1)), FacetIndex((80, 1)), FacetIndex((100, 1)), FacetIndex((120, 1)), FacetIndex((140, 1)), FacetIndex((160, 1)), FacetIndex((180, 1)), FacetIndex((200, 1))]), \"top\" => OrderedCollections.OrderedSet{FacetIndex}([FacetIndex((182, 2)), FacetIndex((184, 2)), FacetIndex((186, 2)), FacetIndex((188, 2)), FacetIndex((190, 2)), FacetIndex((192, 2)), FacetIndex((194, 2)), FacetIndex((196, 2)), FacetIndex((198, 2)), FacetIndex((200, 2))])), Dict{String, OrderedCollections.OrderedSet{VertexIndex}}()), 320))"
     },
     "metadata": {},
     "execution_count": 3
    }
   ],
   "cell_type": "code",
   "source": [
    "function doassemble!(A, B, dh, cv)\n",
    "    n = ndofs_per_cell(dh)\n",
    "    Ae = zeros(n, n)\n",
    "    Be = zeros(n, n)\n",
    "    a_assem, b_assem = start_assemble.((A, B))\n",
    "    for cc in CellIterator(dh)\n",
    "        cell = getcells(dh.grid, cellid(cc))\n",
    "        reinit!(cv, cell, getcoordinates(cc))\n",
    "        element_routine!(Ae, Be, cv)\n",
    "        assemble!(a_assem, celldofs(cc), Ae)\n",
    "        assemble!(b_assem, celldofs(cc), Be)\n",
    "    end\n",
    "    return A, B\n",
    "end\n",
    "\n",
    "function setup_and_assemble(ip::VectorInterpolation{2, RefTriangle})\n",
    "    grid = generate_grid(Triangle, (10, 10))\n",
    "    cv = CellValues(QuadratureRule{RefTriangle}(2), ip, geometric_interpolation(Triangle))\n",
    "    dh = close!(add!(DofHandler(grid), :u, ip))\n",
    "    ∂Ω = union((getfacetset(grid, k) for k in (\"left\", \"top\", \"right\", \"bottom\"))...)\n",
    "    dbc = Dirichlet(:u, ∂Ω, ip isa VectorizedInterpolation ? Returns([0.0, 0.0]) : Returns(0.0))\n",
    "    ch = close!(add!(ConstraintHandler(dh), dbc))\n",
    "    sp = init_sparsity_pattern(dh)\n",
    "    add_sparsity_entries!(sp, dh)\n",
    "    A = allocate_matrix(sp)\n",
    "    B = allocate_matrix(sp)\n",
    "    doassemble!(A, B, dh, cv)\n",
    "    Ferrite.zero_out_rows!(B, ch.dofmapping)\n",
    "    Ferrite.zero_out_columns!(B, ch.prescribed_dofs)\n",
    "    return A, B, dh\n",
    "end\n",
    "\n",
    "ip = Nedelec{2, RefTriangle, 1}()\n",
    "\n",
    "A, B, dh = setup_and_assemble(ip)"
   ],
   "metadata": {},
   "execution_count": 3
  },
  {
   "cell_type": "markdown",
   "source": [
    "vals, vecs, info = geneigsolve((A, B), 1, EigSorter(x -> abs(x - 5.0)); maxiter = 1000);\n",
    "λ, ϕ = Arpack.eigs(A, B, nev = 2, sigma=5.5);"
   ],
   "metadata": {}
  },
  {
   "cell_type": "markdown",
   "source": [
    "---\n",
    "\n",
    "*This notebook was generated using [Literate.jl](https://github.com/fredrikekre/Literate.jl).*"
   ],
   "metadata": {}
  }
 ],
 "nbformat_minor": 3,
 "metadata": {
  "language_info": {
   "file_extension": ".jl",
   "mimetype": "application/julia",
   "name": "julia",
   "version": "1.11.1"
  },
  "kernelspec": {
   "name": "julia-1.11",
   "display_name": "Julia 1.11.1",
   "language": "julia"
  }
 },
 "nbformat": 4
}
