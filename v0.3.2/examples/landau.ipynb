{
 "cells": [
  {
   "cell_type": "markdown",
   "source": [
    "# Ginzburg-Landau model energy minimization"
   ],
   "metadata": {}
  },
  {
   "cell_type": "markdown",
   "source": [
    "![landau_orig.png](landau_orig.png)"
   ],
   "metadata": {}
  },
  {
   "cell_type": "markdown",
   "source": [
    "Original"
   ],
   "metadata": {}
  },
  {
   "cell_type": "markdown",
   "source": [
    "![landau_opt.png](landau_opt.png)"
   ],
   "metadata": {}
  },
  {
   "cell_type": "markdown",
   "source": [
    "Optimized"
   ],
   "metadata": {}
  },
  {
   "cell_type": "markdown",
   "source": [
    "In this example a basic Ginzburg-Landau model is solved.\n",
    "This example gives an idea of how the API together with ForwardDiff can be leveraged to\n",
    "performantly solve non standard problems on a FEM grid.\n",
    "A large portion of the code is there only for performance reasons,\n",
    "but since this usually really matters and is what takes the most time to optimize,\n",
    "it is included."
   ],
   "metadata": {}
  },
  {
   "cell_type": "markdown",
   "source": [
    "The key to using a method like this for minimizing a free energy function directly,\n",
    "rather than the weak form, as is usually done with FEM, is to split up the\n",
    "gradient and Hessian calculations.\n",
    "This means that they are performed for each cell seperately instead of for the\n",
    "grid as a whole."
   ],
   "metadata": {}
  },
  {
   "outputs": [],
   "cell_type": "code",
   "source": [
    "using ForwardDiff\n",
    "import ForwardDiff: GradientConfig, HessianConfig, Chunk\n",
    "using Ferrite\n",
    "using Optim, LineSearches\n",
    "using SparseArrays\n",
    "using Tensors\n",
    "using Base.Threads"
   ],
   "metadata": {},
   "execution_count": 1
  },
  {
   "cell_type": "markdown",
   "source": [
    "## Energy terms\n",
    "### 4th order Landau free energy"
   ],
   "metadata": {}
  },
  {
   "outputs": [
    {
     "output_type": "execute_result",
     "data": {
      "text/plain": "Fl (generic function with 1 method)"
     },
     "metadata": {},
     "execution_count": 2
    }
   ],
   "cell_type": "code",
   "source": [
    "function Fl(P::Vec{3, T}, α::Vec{3}) where T\n",
    "    P2 = Vec{3, T}((P[1]^2, P[2]^2, P[3]^2))\n",
    "    return (α[1] * sum(P2) +\n",
    "           α[2] * (P[1]^4 + P[2]^4 + P[3]^4)) +\n",
    "           α[3] * ((P2[1] * P2[2]  + P2[2]*P2[3]) + P2[1]*P2[3])\n",
    "end"
   ],
   "metadata": {},
   "execution_count": 2
  },
  {
   "cell_type": "markdown",
   "source": [
    "### Ginzburg free energy"
   ],
   "metadata": {}
  },
  {
   "outputs": [
    {
     "output_type": "execute_result",
     "data": {
      "text/plain": "Fg (generic function with 1 method)"
     },
     "metadata": {},
     "execution_count": 3
    }
   ],
   "cell_type": "code",
   "source": [
    "@inline Fg(∇P, G) = 0.5(∇P ⊡ G) ⊡ ∇P"
   ],
   "metadata": {},
   "execution_count": 3
  },
  {
   "cell_type": "markdown",
   "source": [
    "### GL free energy"
   ],
   "metadata": {}
  },
  {
   "outputs": [
    {
     "output_type": "execute_result",
     "data": {
      "text/plain": "F (generic function with 1 method)"
     },
     "metadata": {},
     "execution_count": 4
    }
   ],
   "cell_type": "code",
   "source": [
    "F(P, ∇P, params)  = Fl(P, params.α) + Fg(∇P, params.G)"
   ],
   "metadata": {},
   "execution_count": 4
  },
  {
   "cell_type": "markdown",
   "source": [
    "### Parameters that characterize the model"
   ],
   "metadata": {}
  },
  {
   "outputs": [],
   "cell_type": "code",
   "source": [
    "struct ModelParams{V, T}\n",
    "    α::V\n",
    "    G::T\n",
    "end"
   ],
   "metadata": {},
   "execution_count": 5
  },
  {
   "cell_type": "markdown",
   "source": [
    "### ThreadCache\n",
    "This holds the values that each thread will use during the assembly."
   ],
   "metadata": {}
  },
  {
   "outputs": [
    {
     "output_type": "execute_result",
     "data": {
      "text/plain": "Main.##313.ThreadCache"
     },
     "metadata": {},
     "execution_count": 6
    }
   ],
   "cell_type": "code",
   "source": [
    "struct ThreadCache{CV, T, DIM, F <: Function, GC <: GradientConfig, HC <: HessianConfig}\n",
    "    cvP              ::CV\n",
    "    element_indices  ::Vector{Int}\n",
    "    element_dofs     ::Vector{T}\n",
    "    element_gradient ::Vector{T}\n",
    "    element_hessian  ::Matrix{T}\n",
    "    element_coords   ::Vector{Vec{DIM, T}}\n",
    "    element_potential::F\n",
    "    gradconf         ::GC\n",
    "    hessconf         ::HC\n",
    "end\n",
    "function ThreadCache(dpc::Int, nodespercell, cvP::CellValues{DIM, T}, modelparams, elpotential) where {DIM, T}\n",
    "    element_indices  = zeros(Int, dpc)\n",
    "    element_dofs     = zeros(dpc)\n",
    "    element_gradient = zeros(dpc)\n",
    "    element_hessian  = zeros(dpc, dpc)\n",
    "    element_coords   = zeros(Vec{DIM, T}, nodespercell)\n",
    "    potfunc          = x -> elpotential(x, cvP, modelparams)\n",
    "    gradconf         = GradientConfig(potfunc, zeros(dpc), Chunk{12}())\n",
    "    hessconf         = HessianConfig(potfunc, zeros(dpc), Chunk{12}())\n",
    "    return ThreadCache(cvP, element_indices, element_dofs, element_gradient, element_hessian, element_coords, potfunc, gradconf, hessconf)\n",
    "end"
   ],
   "metadata": {},
   "execution_count": 6
  },
  {
   "cell_type": "markdown",
   "source": [
    "## The Model\n",
    "everything is combined into a model."
   ],
   "metadata": {}
  },
  {
   "outputs": [
    {
     "output_type": "execute_result",
     "data": {
      "text/plain": "Main.##313.LandauModel"
     },
     "metadata": {},
     "execution_count": 7
    }
   ],
   "cell_type": "code",
   "source": [
    "mutable struct LandauModel{T, DH <: DofHandler, CH <: ConstraintHandler, TC <: ThreadCache}\n",
    "    dofs          ::Vector{T}\n",
    "    dofhandler    ::DH\n",
    "    boundaryconds ::CH\n",
    "    threadindices ::Vector{Vector{Int}}\n",
    "    threadcaches  ::Vector{TC}\n",
    "end\n",
    "\n",
    "function LandauModel(α, G, gridsize, left::Vec{DIM, T}, right::Vec{DIM, T}, elpotential) where {DIM, T}\n",
    "    grid = generate_grid(Tetrahedron, gridsize, left, right)\n",
    "    threadindices = Ferrite.create_coloring(grid)\n",
    "\n",
    "    qr  = QuadratureRule{DIM, RefTetrahedron}(2)\n",
    "    cvP = CellVectorValues(qr, Lagrange{DIM, RefTetrahedron, 1}())\n",
    "\n",
    "    dofhandler = DofHandler(grid)\n",
    "    push!(dofhandler, :P, 3)\n",
    "    close!(dofhandler)\n",
    "\n",
    "    dofvector = zeros(ndofs(dofhandler))\n",
    "    startingconditions!(dofvector, dofhandler)\n",
    "    boundaryconds = ConstraintHandler(dofhandler)\n",
    "    #boundary conditions can be added but aren't necessary for optimization\n",
    "    #add!(boundaryconds, Dirichlet(:P, getfaceset(grid, \"left\"), (x, t) -> [0.0,0.0,0.53], [1,2,3]))\n",
    "    #add!(boundaryconds, Dirichlet(:P, getfaceset(grid, \"right\"), (x, t) -> [0.0,0.0,-0.53], [1,2,3]))\n",
    "    close!(boundaryconds)\n",
    "    update!(boundaryconds, 0.0)\n",
    "\n",
    "    apply!(dofvector, boundaryconds)\n",
    "\n",
    "    hessian = create_sparsity_pattern(dofhandler)\n",
    "    dpc = ndofs_per_cell(dofhandler)\n",
    "    cpc = length(grid.cells[1].nodes)\n",
    "    caches = [ThreadCache(dpc, cpc, copy(cvP), ModelParams(α, G), elpotential) for t=1:nthreads()]\n",
    "    return LandauModel(dofvector, dofhandler, boundaryconds, threadindices, caches)\n",
    "end"
   ],
   "metadata": {},
   "execution_count": 7
  },
  {
   "cell_type": "markdown",
   "source": [
    "utility to quickly save a model"
   ],
   "metadata": {}
  },
  {
   "outputs": [],
   "cell_type": "code",
   "source": [
    "function Ferrite.vtk_save(path, model, dofs=model.dofs)\n",
    "    vtkfile = vtk_grid(path, model.dofhandler)\n",
    "    vtk_point_data(vtkfile, model.dofhandler, dofs)\n",
    "    vtk_save(vtkfile)\n",
    "end"
   ],
   "metadata": {},
   "execution_count": 8
  },
  {
   "cell_type": "markdown",
   "source": [
    "## Assembly\n",
    "This macro defines most of the assembly step, since the structure is the same for\n",
    "the energy, gradient and Hessian calculations."
   ],
   "metadata": {}
  },
  {
   "outputs": [
    {
     "output_type": "execute_result",
     "data": {
      "text/plain": "@assemble! (macro with 1 method)"
     },
     "metadata": {},
     "execution_count": 9
    }
   ],
   "cell_type": "code",
   "source": [
    "macro assemble!(innerbody)\n",
    "    esc(quote\n",
    "        dofhandler = model.dofhandler\n",
    "        for indices in model.threadindices\n",
    "            @threads for i in indices\n",
    "                cache     = model.threadcaches[threadid()]\n",
    "                eldofs    = cache.element_dofs\n",
    "                nodeids   = dofhandler.grid.cells[i].nodes\n",
    "                for j=1:length(cache.element_coords)\n",
    "                    cache.element_coords[j] = dofhandler.grid.nodes[nodeids[j]].x\n",
    "                end\n",
    "                reinit!(cache.cvP, cache.element_coords)\n",
    "\n",
    "                celldofs!(cache.element_indices, dofhandler, i)\n",
    "                for j=1:length(cache.element_dofs)\n",
    "                    eldofs[j] = dofvector[cache.element_indices[j]]\n",
    "                end\n",
    "                $innerbody\n",
    "            end\n",
    "        end\n",
    "    end)\n",
    "end"
   ],
   "metadata": {},
   "execution_count": 9
  },
  {
   "cell_type": "markdown",
   "source": [
    "This calculates the total energy calculation of the grid"
   ],
   "metadata": {}
  },
  {
   "outputs": [
    {
     "output_type": "execute_result",
     "data": {
      "text/plain": "F (generic function with 2 methods)"
     },
     "metadata": {},
     "execution_count": 10
    }
   ],
   "cell_type": "code",
   "source": [
    "function F(dofvector::Vector{T}, model) where T\n",
    "    outs = fill(zero(T), nthreads())\n",
    "    @assemble! begin\n",
    "        outs[threadid()] += cache.element_potential(eldofs)\n",
    "    end\n",
    "    return sum(outs)\n",
    "end"
   ],
   "metadata": {},
   "execution_count": 10
  },
  {
   "cell_type": "markdown",
   "source": [
    "The gradient calculation for each dof"
   ],
   "metadata": {}
  },
  {
   "outputs": [
    {
     "output_type": "execute_result",
     "data": {
      "text/plain": "∇F! (generic function with 1 method)"
     },
     "metadata": {},
     "execution_count": 11
    }
   ],
   "cell_type": "code",
   "source": [
    "function ∇F!(∇f::Vector{T}, dofvector::Vector{T}, model::LandauModel{T}) where T\n",
    "    fill!(∇f, zero(T))\n",
    "    @assemble! begin\n",
    "        ForwardDiff.gradient!(cache.element_gradient, cache.element_potential, eldofs, cache.gradconf)\n",
    "        @inbounds assemble!(∇f, cache.element_indices, cache.element_gradient)\n",
    "    end\n",
    "end"
   ],
   "metadata": {},
   "execution_count": 11
  },
  {
   "cell_type": "markdown",
   "source": [
    "The Hessian calculation for the whole grid"
   ],
   "metadata": {}
  },
  {
   "outputs": [
    {
     "output_type": "execute_result",
     "data": {
      "text/plain": "∇²F! (generic function with 1 method)"
     },
     "metadata": {},
     "execution_count": 12
    }
   ],
   "cell_type": "code",
   "source": [
    "function ∇²F!(∇²f::SparseMatrixCSC, dofvector::Vector{T}, model::LandauModel{T}) where T\n",
    "    assemblers = [start_assemble(∇²f) for t=1:nthreads()]\n",
    "    @assemble! begin\n",
    "        ForwardDiff.hessian!(cache.element_hessian, cache.element_potential, eldofs, cache.hessconf)\n",
    "        @inbounds assemble!(assemblers[threadid()], cache.element_indices, cache.element_hessian)\n",
    "    end\n",
    "end"
   ],
   "metadata": {},
   "execution_count": 12
  },
  {
   "cell_type": "markdown",
   "source": [
    "We can also calculate all things in one go!"
   ],
   "metadata": {}
  },
  {
   "outputs": [
    {
     "output_type": "execute_result",
     "data": {
      "text/plain": "calcall (generic function with 1 method)"
     },
     "metadata": {},
     "execution_count": 13
    }
   ],
   "cell_type": "code",
   "source": [
    "function calcall(∇²f::SparseMatrixCSC, ∇f::Vector{T}, dofvector::Vector{T}, model::LandauModel{T}) where T\n",
    "    outs = fill(zero(T), nthreads())\n",
    "    fill!(∇f, zero(T))\n",
    "    assemblers = [start_assemble(∇²f, ∇f) for t=1:nthreads()]\n",
    "    @assemble! begin\n",
    "        outs[threadid()] += cache.element_potential(eldofs)\n",
    "        ForwardDiff.hessian!(cache.element_hessian, cache.element_potential, eldofs, cache.hessconf)\n",
    "        ForwardDiff.gradient!(cache.element_gradient, cache.element_potential, eldofs, cache.gradconf)\n",
    "        @inbounds assemble!(assemblers[threadid()], cache.element_indices, cache.element_gradient, cache.element_hessian)\n",
    "    end\n",
    "    return sum(outs)\n",
    "end"
   ],
   "metadata": {},
   "execution_count": 13
  },
  {
   "cell_type": "markdown",
   "source": [
    "## Minimization\n",
    "Now everything can be combined to minimize the energy, and find the equilibrium\n",
    "configuration."
   ],
   "metadata": {}
  },
  {
   "outputs": [
    {
     "output_type": "execute_result",
     "data": {
      "text/plain": "minimize! (generic function with 1 method)"
     },
     "metadata": {},
     "execution_count": 14
    }
   ],
   "cell_type": "code",
   "source": [
    "function minimize!(model; kwargs...)\n",
    "    dh = model.dofhandler\n",
    "    dofs = model.dofs\n",
    "    ∇f = fill(0.0, length(dofs))\n",
    "    ∇²f = create_sparsity_pattern(dh)\n",
    "    function g!(storage, x)\n",
    "        ∇F!(storage, x, model)\n",
    "        apply_zero!(storage, model.boundaryconds)\n",
    "    end\n",
    "    function h!(storage, x)\n",
    "        ∇²F!(storage, x, model)\n",
    "        #apply!(storage, model.boundaryconds)\n",
    "    end\n",
    "    f(x) = F(x, model)\n",
    "\n",
    "    od = TwiceDifferentiable(f, g!, h!, model.dofs, 0.0, ∇f, ∇²f)\n",
    "    # this way of minimizing is only beneficial when the initial guess is completely off,\n",
    "    # then a quick couple of ConjuageGradient steps brings us easily closer to the minimum.\n",
    "    # res = optimize(od, model.dofs, ConjugateGradient(linesearch=BackTracking()), Optim.Options(show_trace=true, show_every=1, g_tol=1e-20, iterations=10))\n",
    "    # model.dofs .= res.minimizer\n",
    "    # to get the final convergence, Newton's method is more ideal since the energy landscape should be almost parabolic\n",
    "    res = optimize(od, model.dofs, Newton(linesearch=BackTracking()), Optim.Options(show_trace=true, show_every=1, g_tol=1e-20))\n",
    "    model.dofs .= res.minimizer\n",
    "    return res\n",
    "end"
   ],
   "metadata": {},
   "execution_count": 14
  },
  {
   "cell_type": "markdown",
   "source": [
    "## Testing it\n",
    "This calculates the contribution of each element to the total energy,\n",
    "it is also the function that will be put through ForwardDiff for the gradient and Hessian."
   ],
   "metadata": {}
  },
  {
   "outputs": [
    {
     "output_type": "execute_result",
     "data": {
      "text/plain": "element_potential (generic function with 1 method)"
     },
     "metadata": {},
     "execution_count": 15
    }
   ],
   "cell_type": "code",
   "source": [
    "function element_potential(eldofs::AbstractVector{T}, cvP, params) where T\n",
    "    energy = zero(T)\n",
    "    for qp=1:getnquadpoints(cvP)\n",
    "        P  = function_value(cvP, qp, eldofs)\n",
    "        ∇P = function_gradient(cvP, qp, eldofs)\n",
    "        energy += F(P, ∇P, params) * getdetJdV(cvP, qp)\n",
    "    end\n",
    "    return energy\n",
    "end"
   ],
   "metadata": {},
   "execution_count": 15
  },
  {
   "cell_type": "markdown",
   "source": [
    "now we define some starting conditions"
   ],
   "metadata": {}
  },
  {
   "outputs": [
    {
     "name": "stdout",
     "output_type": "stream",
     "text": [
      "Iter     Function value   Gradient norm \n",
      "     0     2.127588e+06     3.597094e+02\n",
      " * time: 0.03055286407470703\n",
      "     1     3.786155e+05     1.047687e+02\n",
      " * time: 5.40608286857605\n",
      "     2     5.306125e+04     2.978953e+01\n",
      " * time: 10.223843812942505\n",
      "     3    -2.642320e+03     7.943136e+00\n",
      " * time: 15.068598985671997\n",
      "     4    -1.027484e+04     1.752693e+00\n",
      " * time: 19.903883934020996\n",
      "     5    -1.084925e+04     2.157295e-01\n",
      " * time: 24.711628913879395\n",
      "     6    -1.085880e+04     5.288877e-03\n",
      " * time: 29.565510988235474\n",
      "     7    -1.085881e+04     3.478176e-06\n",
      " * time: 34.4077730178833\n",
      "     8    -1.085881e+04     1.597961e-12\n",
      " * time: 39.219334840774536\n",
      "     9    -1.085881e+04     1.597225e-12\n",
      " * time: 44.167068004608154\n",
      "    10    -1.085881e+04     1.597225e-12\n",
      " * time: 44.90797400474548\n",
      " 73.195359 seconds (44.63 M allocations: 9.488 GiB, 6.81% gc time, 33.53% compilation time)\n"
     ]
    },
    {
     "output_type": "execute_result",
     "data": {
      "text/plain": "1-element Vector{String}:\n \"landaufinal.vtu\""
     },
     "metadata": {},
     "execution_count": 16
    }
   ],
   "cell_type": "code",
   "source": [
    "function startingconditions!(dofvector, dofhandler)\n",
    "    for cell in CellIterator(dofhandler)\n",
    "        globaldofs = celldofs(cell)\n",
    "        it = 1\n",
    "        for i=1:3:length(globaldofs)\n",
    "            dofvector[globaldofs[i]]   = -2.0\n",
    "            dofvector[globaldofs[i+1]] = 2.0\n",
    "            dofvector[globaldofs[i+2]] = -2.0tanh(cell.coords[it][1]/20)\n",
    "            it += 1\n",
    "        end\n",
    "    end\n",
    "end\n",
    "\n",
    "δ(i, j) = i == j ? one(i) : zero(i)\n",
    "V2T(p11, p12, p44) = Tensor{4, 3}((i,j,k,l) -> p11 * δ(i,j)*δ(k,l)*δ(i,k) + p12*δ(i,j)*δ(k,l)*(1 - δ(i,k)) + p44*δ(i,k)*δ(j,l)*(1 - δ(i,j)))\n",
    "\n",
    "G = V2T(1.0e2, 0.0, 1.0e2)\n",
    "α = Vec{3}((-1.0, 1.0, 1.0))\n",
    "left = Vec{3}((-75.,-25.,-2.))\n",
    "right = Vec{3}((75.,25.,2.))\n",
    "model = LandauModel(α, G, (50, 50, 2), left, right, element_potential)\n",
    "\n",
    "vtk_save(\"landauorig\", model)\n",
    "@time minimize!(model)\n",
    "vtk_save(\"landaufinal\", model)"
   ],
   "metadata": {},
   "execution_count": 16
  },
  {
   "cell_type": "markdown",
   "source": [
    "as we can see this runs very quickly even for relatively large gridsizes.\n",
    "The key to get high performance like this is to minimize the allocations inside the threaded loops,\n",
    "ideally to 0."
   ],
   "metadata": {}
  },
  {
   "cell_type": "markdown",
   "source": [
    "---\n",
    "\n",
    "*This notebook was generated using [Literate.jl](https://github.com/fredrikekre/Literate.jl).*"
   ],
   "metadata": {}
  }
 ],
 "nbformat_minor": 3,
 "metadata": {
  "language_info": {
   "file_extension": ".jl",
   "mimetype": "application/julia",
   "name": "julia",
   "version": "1.7.1"
  },
  "kernelspec": {
   "name": "julia-1.7",
   "display_name": "Julia 1.7.1",
   "language": "julia"
  }
 },
 "nbformat": 4
}
