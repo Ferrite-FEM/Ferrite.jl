{
 "cells": [
  {
   "cell_type": "markdown",
   "metadata": {
    "deletable": true,
    "editable": true
   },
   "source": [
    "## Cantilever beam with a traction load on one side"
   ]
  },
  {
   "cell_type": "markdown",
   "metadata": {
    "deletable": true,
    "editable": true
   },
   "source": [
    "![cant.png](figures/cant.png)"
   ]
  },
  {
   "cell_type": "code",
   "execution_count": 1,
   "metadata": {
    "collapsed": false,
    "deletable": true,
    "editable": true
   },
   "outputs": [],
   "source": [
    "using JuAFEM\n",
    "using Tensors\n",
    "using TimerOutputs\n",
    "using UnicodePlots\n",
    "const to = TimerOutput();"
   ]
  },
  {
   "cell_type": "code",
   "execution_count": 2,
   "metadata": {
    "collapsed": false,
    "deletable": true,
    "editable": true
   },
   "outputs": [
    {
     "data": {
      "text/plain": [
       "1"
      ]
     },
     "execution_count": 2,
     "metadata": {},
     "output_type": "execute_result"
    }
   ],
   "source": [
    "hex = false\n",
    "geoshape = hex ? Hexahedron : Tetrahedron\n",
    "refshape = hex ? RefCube    : RefTetrahedron\n",
    "order = hex? 2 : 1"
   ]
  },
  {
   "cell_type": "code",
   "execution_count": 3,
   "metadata": {
    "collapsed": true,
    "deletable": true,
    "editable": true,
    "scrolled": true
   },
   "outputs": [],
   "source": [
    "const dim = 3\n",
    "corner1 = Vec{dim}((0.0, 0.0, 0.0))\n",
    "corner2 = Vec{dim}((10.0, 1.0, 1.0))\n",
    "grid = generate_grid(geoshape, (60, 6, 6), corner1, corner2);\n",
    "# Extract the left boundary\n",
    "addnodeset!(grid, \"clamped\", x -> norm(x[1]) ≈ 0.0);"
   ]
  },
  {
   "cell_type": "code",
   "execution_count": 4,
   "metadata": {
    "collapsed": true,
    "deletable": true,
    "editable": true
   },
   "outputs": [],
   "source": [
    "# Interpolations and values\n",
    "interpolation_space = Lagrange{dim, refshape, 1}()\n",
    "quadrature_rule = QuadratureRule{dim, refshape}(order)\n",
    "cellvalues = CellVectorValues(quadrature_rule, interpolation_space);\n",
    "facevalues = FaceVectorValues(QuadratureRule{dim-1, refshape}(order), interpolation_space);"
   ]
  },
  {
   "cell_type": "code",
   "execution_count": 5,
   "metadata": {
    "collapsed": false,
    "deletable": true,
    "editable": true
   },
   "outputs": [
    {
     "data": {
      "text/plain": [
       "DofHandler\n",
       "  Fields:\n",
       "    u dim: 3\n",
       "  Total dofs: 8967\n",
       "  Dofs per cell: 12"
      ]
     },
     "execution_count": 5,
     "metadata": {},
     "output_type": "execute_result"
    }
   ],
   "source": [
    "# DofHandler\n",
    "dh = DofHandler(grid)\n",
    "push!(dh, :u, dim) # Add a displacement field\n",
    "close!(dh)"
   ]
  },
  {
   "cell_type": "code",
   "execution_count": 6,
   "metadata": {
    "collapsed": false,
    "deletable": true,
    "editable": true
   },
   "outputs": [
    {
     "name": "stdout",
     "output_type": "stream",
     "text": [
      "  0.231351 seconds (105.47 k allocations: 70.147 MB, 13.25% gc time)\n"
     ]
    },
    {
     "data": {
      "text/plain": [
       "\u001b[1m\u001b[37m                     Sparsity Pattern\n",
       "\u001b[0m\u001b[1m\u001b[37m        ┌──────────────────────────────────────────┐\u001b[0m    \n",
       "      \u001b[1m\u001b[37m1\u001b[0m\u001b[1m\u001b[37m │\u001b[0m\u001b[1m\u001b[31m⢿\u001b[0m\u001b[1m\u001b[31m⣷\u001b[0m\u001b[1m\u001b[31m⣄\u001b[0m\u001b[1m\u001b[37m⠀\u001b[0m\u001b[1m\u001b[37m⠀\u001b[0m\u001b[1m\u001b[37m⠀\u001b[0m\u001b[1m\u001b[31m⢿\u001b[0m\u001b[1m\u001b[31m⣷\u001b[0m\u001b[1m\u001b[31m⣄\u001b[0m\u001b[1m\u001b[37m⠀\u001b[0m\u001b[1m\u001b[37m⠀\u001b[0m\u001b[1m\u001b[37m⠀\u001b[0m\u001b[1m\u001b[37m⠀\u001b[0m\u001b[1m\u001b[37m⠀\u001b[0m\u001b[1m\u001b[37m⠀\u001b[0m\u001b[1m\u001b[37m⠀\u001b[0m\u001b[1m\u001b[37m⠀\u001b[0m\u001b[1m\u001b[37m⠀\u001b[0m\u001b[1m\u001b[37m⠀\u001b[0m\u001b[1m\u001b[37m⠀\u001b[0m\u001b[1m\u001b[37m⠀\u001b[0m\u001b[1m\u001b[37m⠀\u001b[0m\u001b[1m\u001b[37m⠀\u001b[0m\u001b[1m\u001b[37m⠀\u001b[0m\u001b[1m\u001b[37m⠀\u001b[0m\u001b[1m\u001b[37m⠀\u001b[0m\u001b[1m\u001b[37m⠀\u001b[0m\u001b[1m\u001b[37m⠀\u001b[0m\u001b[1m\u001b[37m⠀\u001b[0m\u001b[1m\u001b[37m⠀\u001b[0m\u001b[1m\u001b[37m⠀\u001b[0m\u001b[1m\u001b[37m⠀\u001b[0m\u001b[1m\u001b[37m⠀\u001b[0m\u001b[1m\u001b[37m⠀\u001b[0m\u001b[1m\u001b[37m⠀\u001b[0m\u001b[1m\u001b[37m⠀\u001b[0m\u001b[1m\u001b[37m⠀\u001b[0m\u001b[1m\u001b[37m⠀\u001b[0m\u001b[1m\u001b[37m⠀\u001b[0m\u001b[1m\u001b[37m⠀\u001b[0m\u001b[1m\u001b[37m⠀\u001b[0m\u001b[1m\u001b[37m⠀\u001b[0m\u001b[1m\u001b[37m│\u001b[0m \u001b[1m\u001b[31m> 0\u001b[0m\n",
       "       \u001b[1m\u001b[37m\u001b[0m\u001b[1m\u001b[37m │\u001b[0m\u001b[1m\u001b[37m⠀\u001b[0m\u001b[1m\u001b[31m⠙\u001b[0m\u001b[1m\u001b[31m⢿\u001b[0m\u001b[1m\u001b[31m⣷\u001b[0m\u001b[1m\u001b[31m⣄\u001b[0m\u001b[1m\u001b[37m⠀\u001b[0m\u001b[1m\u001b[37m⠀\u001b[0m\u001b[1m\u001b[31m⠙\u001b[0m\u001b[1m\u001b[31m⢿\u001b[0m\u001b[1m\u001b[31m⣷\u001b[0m\u001b[1m\u001b[31m⣄\u001b[0m\u001b[1m\u001b[37m⠀\u001b[0m\u001b[1m\u001b[37m⠀\u001b[0m\u001b[1m\u001b[37m⠀\u001b[0m\u001b[1m\u001b[37m⠀\u001b[0m\u001b[1m\u001b[37m⠀\u001b[0m\u001b[1m\u001b[37m⠀\u001b[0m\u001b[1m\u001b[37m⠀\u001b[0m\u001b[1m\u001b[37m⠀\u001b[0m\u001b[1m\u001b[37m⠀\u001b[0m\u001b[1m\u001b[37m⠀\u001b[0m\u001b[1m\u001b[37m⠀\u001b[0m\u001b[1m\u001b[37m⠀\u001b[0m\u001b[1m\u001b[37m⠀\u001b[0m\u001b[1m\u001b[37m⠀\u001b[0m\u001b[1m\u001b[37m⠀\u001b[0m\u001b[1m\u001b[37m⠀\u001b[0m\u001b[1m\u001b[37m⠀\u001b[0m\u001b[1m\u001b[37m⠀\u001b[0m\u001b[1m\u001b[37m⠀\u001b[0m\u001b[1m\u001b[37m⠀\u001b[0m\u001b[1m\u001b[37m⠀\u001b[0m\u001b[1m\u001b[37m⠀\u001b[0m\u001b[1m\u001b[37m⠀\u001b[0m\u001b[1m\u001b[37m⠀\u001b[0m\u001b[1m\u001b[37m⠀\u001b[0m\u001b[1m\u001b[37m⠀\u001b[0m\u001b[1m\u001b[37m⠀\u001b[0m\u001b[1m\u001b[37m⠀\u001b[0m\u001b[1m\u001b[37m⠀\u001b[0m\u001b[1m\u001b[37m⠀\u001b[0m\u001b[1m\u001b[37m⠀\u001b[0m\u001b[1m\u001b[37m│\u001b[0m \u001b[1m\u001b[34m< 0\u001b[0m\n",
       "       \u001b[1m\u001b[37m\u001b[0m\u001b[1m\u001b[37m │\u001b[0m\u001b[1m\u001b[37m⠀\u001b[0m\u001b[1m\u001b[37m⠀\u001b[0m\u001b[1m\u001b[37m⠀\u001b[0m\u001b[1m\u001b[31m⠙\u001b[0m\u001b[1m\u001b[31m⢿\u001b[0m\u001b[1m\u001b[31m⣷\u001b[0m\u001b[1m\u001b[37m⠀\u001b[0m\u001b[1m\u001b[37m⠀\u001b[0m\u001b[1m\u001b[37m⠀\u001b[0m\u001b[1m\u001b[31m⠙\u001b[0m\u001b[1m\u001b[31m⢿\u001b[0m\u001b[1m\u001b[31m⣷\u001b[0m\u001b[1m\u001b[37m⠀\u001b[0m\u001b[1m\u001b[37m⠀\u001b[0m\u001b[1m\u001b[37m⠀\u001b[0m\u001b[1m\u001b[37m⠀\u001b[0m\u001b[1m\u001b[37m⠀\u001b[0m\u001b[1m\u001b[37m⠀\u001b[0m\u001b[1m\u001b[37m⠀\u001b[0m\u001b[1m\u001b[37m⠀\u001b[0m\u001b[1m\u001b[37m⠀\u001b[0m\u001b[1m\u001b[37m⠀\u001b[0m\u001b[1m\u001b[37m⠀\u001b[0m\u001b[1m\u001b[37m⠀\u001b[0m\u001b[1m\u001b[37m⠀\u001b[0m\u001b[1m\u001b[37m⠀\u001b[0m\u001b[1m\u001b[37m⠀\u001b[0m\u001b[1m\u001b[37m⠀\u001b[0m\u001b[1m\u001b[37m⠀\u001b[0m\u001b[1m\u001b[37m⠀\u001b[0m\u001b[1m\u001b[37m⠀\u001b[0m\u001b[1m\u001b[37m⠀\u001b[0m\u001b[1m\u001b[37m⠀\u001b[0m\u001b[1m\u001b[37m⠀\u001b[0m\u001b[1m\u001b[37m⠀\u001b[0m\u001b[1m\u001b[37m⠀\u001b[0m\u001b[1m\u001b[37m⠀\u001b[0m\u001b[1m\u001b[37m⠀\u001b[0m\u001b[1m\u001b[37m⠀\u001b[0m\u001b[1m\u001b[37m⠀\u001b[0m\u001b[1m\u001b[37m⠀\u001b[0m\u001b[1m\u001b[37m⠀\u001b[0m\u001b[1m\u001b[37m│\u001b[0m \u001b[1m\u001b[37m\u001b[0m   \n",
       "       \u001b[1m\u001b[37m\u001b[0m\u001b[1m\u001b[37m │\u001b[0m\u001b[1m\u001b[31m⢿\u001b[0m\u001b[1m\u001b[31m⣷\u001b[0m\u001b[1m\u001b[31m⣄\u001b[0m\u001b[1m\u001b[37m⠀\u001b[0m\u001b[1m\u001b[37m⠀\u001b[0m\u001b[1m\u001b[37m⠀\u001b[0m\u001b[1m\u001b[31m⢿\u001b[0m\u001b[1m\u001b[31m⣷\u001b[0m\u001b[1m\u001b[31m⣄\u001b[0m\u001b[1m\u001b[37m⠀\u001b[0m\u001b[1m\u001b[37m⠀\u001b[0m\u001b[1m\u001b[37m⠀\u001b[0m\u001b[1m\u001b[31m⢿\u001b[0m\u001b[1m\u001b[31m⣷\u001b[0m\u001b[1m\u001b[31m⣄\u001b[0m\u001b[1m\u001b[37m⠀\u001b[0m\u001b[1m\u001b[37m⠀\u001b[0m\u001b[1m\u001b[37m⠀\u001b[0m\u001b[1m\u001b[37m⠀\u001b[0m\u001b[1m\u001b[37m⠀\u001b[0m\u001b[1m\u001b[37m⠀\u001b[0m\u001b[1m\u001b[37m⠀\u001b[0m\u001b[1m\u001b[37m⠀\u001b[0m\u001b[1m\u001b[37m⠀\u001b[0m\u001b[1m\u001b[37m⠀\u001b[0m\u001b[1m\u001b[37m⠀\u001b[0m\u001b[1m\u001b[37m⠀\u001b[0m\u001b[1m\u001b[37m⠀\u001b[0m\u001b[1m\u001b[37m⠀\u001b[0m\u001b[1m\u001b[37m⠀\u001b[0m\u001b[1m\u001b[37m⠀\u001b[0m\u001b[1m\u001b[37m⠀\u001b[0m\u001b[1m\u001b[37m⠀\u001b[0m\u001b[1m\u001b[37m⠀\u001b[0m\u001b[1m\u001b[37m⠀\u001b[0m\u001b[1m\u001b[37m⠀\u001b[0m\u001b[1m\u001b[37m⠀\u001b[0m\u001b[1m\u001b[37m⠀\u001b[0m\u001b[1m\u001b[37m⠀\u001b[0m\u001b[1m\u001b[37m⠀\u001b[0m\u001b[1m\u001b[37m⠀\u001b[0m\u001b[1m\u001b[37m⠀\u001b[0m\u001b[1m\u001b[37m│\u001b[0m \u001b[1m\u001b[37m\u001b[0m   \n",
       "       \u001b[1m\u001b[37m\u001b[0m\u001b[1m\u001b[37m │\u001b[0m\u001b[1m\u001b[37m⠀\u001b[0m\u001b[1m\u001b[31m⠙\u001b[0m\u001b[1m\u001b[31m⢿\u001b[0m\u001b[1m\u001b[31m⣷\u001b[0m\u001b[1m\u001b[31m⣄\u001b[0m\u001b[1m\u001b[37m⠀\u001b[0m\u001b[1m\u001b[37m⠀\u001b[0m\u001b[1m\u001b[31m⠙\u001b[0m\u001b[1m\u001b[31m⢿\u001b[0m\u001b[1m\u001b[31m⣷\u001b[0m\u001b[1m\u001b[31m⣄\u001b[0m\u001b[1m\u001b[37m⠀\u001b[0m\u001b[1m\u001b[37m⠀\u001b[0m\u001b[1m\u001b[31m⠙\u001b[0m\u001b[1m\u001b[31m⢿\u001b[0m\u001b[1m\u001b[31m⣷\u001b[0m\u001b[1m\u001b[31m⣄\u001b[0m\u001b[1m\u001b[37m⠀\u001b[0m\u001b[1m\u001b[37m⠀\u001b[0m\u001b[1m\u001b[37m⠀\u001b[0m\u001b[1m\u001b[37m⠀\u001b[0m\u001b[1m\u001b[37m⠀\u001b[0m\u001b[1m\u001b[37m⠀\u001b[0m\u001b[1m\u001b[37m⠀\u001b[0m\u001b[1m\u001b[37m⠀\u001b[0m\u001b[1m\u001b[37m⠀\u001b[0m\u001b[1m\u001b[37m⠀\u001b[0m\u001b[1m\u001b[37m⠀\u001b[0m\u001b[1m\u001b[37m⠀\u001b[0m\u001b[1m\u001b[37m⠀\u001b[0m\u001b[1m\u001b[37m⠀\u001b[0m\u001b[1m\u001b[37m⠀\u001b[0m\u001b[1m\u001b[37m⠀\u001b[0m\u001b[1m\u001b[37m⠀\u001b[0m\u001b[1m\u001b[37m⠀\u001b[0m\u001b[1m\u001b[37m⠀\u001b[0m\u001b[1m\u001b[37m⠀\u001b[0m\u001b[1m\u001b[37m⠀\u001b[0m\u001b[1m\u001b[37m⠀\u001b[0m\u001b[1m\u001b[37m⠀\u001b[0m\u001b[1m\u001b[37m⠀\u001b[0m\u001b[1m\u001b[37m⠀\u001b[0m\u001b[1m\u001b[37m│\u001b[0m \u001b[1m\u001b[37m\u001b[0m   \n",
       "       \u001b[1m\u001b[37m\u001b[0m\u001b[1m\u001b[37m │\u001b[0m\u001b[1m\u001b[37m⠀\u001b[0m\u001b[1m\u001b[37m⠀\u001b[0m\u001b[1m\u001b[37m⠀\u001b[0m\u001b[1m\u001b[31m⠙\u001b[0m\u001b[1m\u001b[31m⢿\u001b[0m\u001b[1m\u001b[31m⣷\u001b[0m\u001b[1m\u001b[37m⠀\u001b[0m\u001b[1m\u001b[37m⠀\u001b[0m\u001b[1m\u001b[37m⠀\u001b[0m\u001b[1m\u001b[31m⠙\u001b[0m\u001b[1m\u001b[31m⢿\u001b[0m\u001b[1m\u001b[31m⣷\u001b[0m\u001b[1m\u001b[37m⠀\u001b[0m\u001b[1m\u001b[37m⠀\u001b[0m\u001b[1m\u001b[37m⠀\u001b[0m\u001b[1m\u001b[31m⠙\u001b[0m\u001b[1m\u001b[31m⢿\u001b[0m\u001b[1m\u001b[31m⣷\u001b[0m\u001b[1m\u001b[37m⠀\u001b[0m\u001b[1m\u001b[37m⠀\u001b[0m\u001b[1m\u001b[37m⠀\u001b[0m\u001b[1m\u001b[37m⠀\u001b[0m\u001b[1m\u001b[37m⠀\u001b[0m\u001b[1m\u001b[37m⠀\u001b[0m\u001b[1m\u001b[37m⠀\u001b[0m\u001b[1m\u001b[37m⠀\u001b[0m\u001b[1m\u001b[37m⠀\u001b[0m\u001b[1m\u001b[37m⠀\u001b[0m\u001b[1m\u001b[37m⠀\u001b[0m\u001b[1m\u001b[37m⠀\u001b[0m\u001b[1m\u001b[37m⠀\u001b[0m\u001b[1m\u001b[37m⠀\u001b[0m\u001b[1m\u001b[37m⠀\u001b[0m\u001b[1m\u001b[37m⠀\u001b[0m\u001b[1m\u001b[37m⠀\u001b[0m\u001b[1m\u001b[37m⠀\u001b[0m\u001b[1m\u001b[37m⠀\u001b[0m\u001b[1m\u001b[37m⠀\u001b[0m\u001b[1m\u001b[37m⠀\u001b[0m\u001b[1m\u001b[37m⠀\u001b[0m\u001b[1m\u001b[37m⠀\u001b[0m\u001b[1m\u001b[37m⠀\u001b[0m\u001b[1m\u001b[37m│\u001b[0m \u001b[1m\u001b[37m\u001b[0m   \n",
       "       \u001b[1m\u001b[37m\u001b[0m\u001b[1m\u001b[37m │\u001b[0m\u001b[1m\u001b[37m⠀\u001b[0m\u001b[1m\u001b[37m⠀\u001b[0m\u001b[1m\u001b[37m⠀\u001b[0m\u001b[1m\u001b[37m⠀\u001b[0m\u001b[1m\u001b[37m⠀\u001b[0m\u001b[1m\u001b[37m⠀\u001b[0m\u001b[1m\u001b[31m⢿\u001b[0m\u001b[1m\u001b[31m⣷\u001b[0m\u001b[1m\u001b[31m⣄\u001b[0m\u001b[1m\u001b[37m⠀\u001b[0m\u001b[1m\u001b[37m⠀\u001b[0m\u001b[1m\u001b[37m⠀\u001b[0m\u001b[1m\u001b[31m⢿\u001b[0m\u001b[1m\u001b[31m⣷\u001b[0m\u001b[1m\u001b[31m⣄\u001b[0m\u001b[1m\u001b[37m⠀\u001b[0m\u001b[1m\u001b[37m⠀\u001b[0m\u001b[1m\u001b[37m⠀\u001b[0m\u001b[1m\u001b[31m⢿\u001b[0m\u001b[1m\u001b[31m⣷\u001b[0m\u001b[1m\u001b[31m⣄\u001b[0m\u001b[1m\u001b[37m⠀\u001b[0m\u001b[1m\u001b[37m⠀\u001b[0m\u001b[1m\u001b[37m⠀\u001b[0m\u001b[1m\u001b[37m⠀\u001b[0m\u001b[1m\u001b[37m⠀\u001b[0m\u001b[1m\u001b[37m⠀\u001b[0m\u001b[1m\u001b[37m⠀\u001b[0m\u001b[1m\u001b[37m⠀\u001b[0m\u001b[1m\u001b[37m⠀\u001b[0m\u001b[1m\u001b[37m⠀\u001b[0m\u001b[1m\u001b[37m⠀\u001b[0m\u001b[1m\u001b[37m⠀\u001b[0m\u001b[1m\u001b[37m⠀\u001b[0m\u001b[1m\u001b[37m⠀\u001b[0m\u001b[1m\u001b[37m⠀\u001b[0m\u001b[1m\u001b[37m⠀\u001b[0m\u001b[1m\u001b[37m⠀\u001b[0m\u001b[1m\u001b[37m⠀\u001b[0m\u001b[1m\u001b[37m⠀\u001b[0m\u001b[1m\u001b[37m⠀\u001b[0m\u001b[1m\u001b[37m⠀\u001b[0m\u001b[1m\u001b[37m│\u001b[0m \u001b[1m\u001b[37m\u001b[0m   \n",
       "       \u001b[1m\u001b[37m\u001b[0m\u001b[1m\u001b[37m │\u001b[0m\u001b[1m\u001b[37m⠀\u001b[0m\u001b[1m\u001b[37m⠀\u001b[0m\u001b[1m\u001b[37m⠀\u001b[0m\u001b[1m\u001b[37m⠀\u001b[0m\u001b[1m\u001b[37m⠀\u001b[0m\u001b[1m\u001b[37m⠀\u001b[0m\u001b[1m\u001b[37m⠀\u001b[0m\u001b[1m\u001b[31m⠙\u001b[0m\u001b[1m\u001b[31m⢿\u001b[0m\u001b[1m\u001b[31m⣷\u001b[0m\u001b[1m\u001b[31m⣄\u001b[0m\u001b[1m\u001b[37m⠀\u001b[0m\u001b[1m\u001b[37m⠀\u001b[0m\u001b[1m\u001b[31m⠙\u001b[0m\u001b[1m\u001b[31m⢿\u001b[0m\u001b[1m\u001b[31m⣷\u001b[0m\u001b[1m\u001b[31m⣄\u001b[0m\u001b[1m\u001b[37m⠀\u001b[0m\u001b[1m\u001b[37m⠀\u001b[0m\u001b[1m\u001b[31m⠙\u001b[0m\u001b[1m\u001b[31m⢿\u001b[0m\u001b[1m\u001b[31m⣷\u001b[0m\u001b[1m\u001b[31m⣄\u001b[0m\u001b[1m\u001b[37m⠀\u001b[0m\u001b[1m\u001b[37m⠀\u001b[0m\u001b[1m\u001b[37m⠀\u001b[0m\u001b[1m\u001b[37m⠀\u001b[0m\u001b[1m\u001b[37m⠀\u001b[0m\u001b[1m\u001b[37m⠀\u001b[0m\u001b[1m\u001b[37m⠀\u001b[0m\u001b[1m\u001b[37m⠀\u001b[0m\u001b[1m\u001b[37m⠀\u001b[0m\u001b[1m\u001b[37m⠀\u001b[0m\u001b[1m\u001b[37m⠀\u001b[0m\u001b[1m\u001b[37m⠀\u001b[0m\u001b[1m\u001b[37m⠀\u001b[0m\u001b[1m\u001b[37m⠀\u001b[0m\u001b[1m\u001b[37m⠀\u001b[0m\u001b[1m\u001b[37m⠀\u001b[0m\u001b[1m\u001b[37m⠀\u001b[0m\u001b[1m\u001b[37m⠀\u001b[0m\u001b[1m\u001b[37m⠀\u001b[0m\u001b[1m\u001b[37m│\u001b[0m \u001b[1m\u001b[37m\u001b[0m   \n",
       "       \u001b[1m\u001b[37m\u001b[0m\u001b[1m\u001b[37m │\u001b[0m\u001b[1m\u001b[37m⠀\u001b[0m\u001b[1m\u001b[37m⠀\u001b[0m\u001b[1m\u001b[37m⠀\u001b[0m\u001b[1m\u001b[37m⠀\u001b[0m\u001b[1m\u001b[37m⠀\u001b[0m\u001b[1m\u001b[37m⠀\u001b[0m\u001b[1m\u001b[37m⠀\u001b[0m\u001b[1m\u001b[37m⠀\u001b[0m\u001b[1m\u001b[37m⠀\u001b[0m\u001b[1m\u001b[31m⠙\u001b[0m\u001b[1m\u001b[31m⢿\u001b[0m\u001b[1m\u001b[31m⣷\u001b[0m\u001b[1m\u001b[37m⠀\u001b[0m\u001b[1m\u001b[37m⠀\u001b[0m\u001b[1m\u001b[37m⠀\u001b[0m\u001b[1m\u001b[31m⠙\u001b[0m\u001b[1m\u001b[31m⢿\u001b[0m\u001b[1m\u001b[31m⣷\u001b[0m\u001b[1m\u001b[37m⠀\u001b[0m\u001b[1m\u001b[37m⠀\u001b[0m\u001b[1m\u001b[37m⠀\u001b[0m\u001b[1m\u001b[31m⠙\u001b[0m\u001b[1m\u001b[31m⢿\u001b[0m\u001b[1m\u001b[31m⣷\u001b[0m\u001b[1m\u001b[37m⠀\u001b[0m\u001b[1m\u001b[37m⠀\u001b[0m\u001b[1m\u001b[37m⠀\u001b[0m\u001b[1m\u001b[37m⠀\u001b[0m\u001b[1m\u001b[37m⠀\u001b[0m\u001b[1m\u001b[37m⠀\u001b[0m\u001b[1m\u001b[37m⠀\u001b[0m\u001b[1m\u001b[37m⠀\u001b[0m\u001b[1m\u001b[37m⠀\u001b[0m\u001b[1m\u001b[37m⠀\u001b[0m\u001b[1m\u001b[37m⠀\u001b[0m\u001b[1m\u001b[37m⠀\u001b[0m\u001b[1m\u001b[37m⠀\u001b[0m\u001b[1m\u001b[37m⠀\u001b[0m\u001b[1m\u001b[37m⠀\u001b[0m\u001b[1m\u001b[37m⠀\u001b[0m\u001b[1m\u001b[37m⠀\u001b[0m\u001b[1m\u001b[37m⠀\u001b[0m\u001b[1m\u001b[37m│\u001b[0m \u001b[1m\u001b[37m\u001b[0m   \n",
       "       \u001b[1m\u001b[37m\u001b[0m\u001b[1m\u001b[37m │\u001b[0m\u001b[1m\u001b[37m⠀\u001b[0m\u001b[1m\u001b[37m⠀\u001b[0m\u001b[1m\u001b[37m⠀\u001b[0m\u001b[1m\u001b[37m⠀\u001b[0m\u001b[1m\u001b[37m⠀\u001b[0m\u001b[1m\u001b[37m⠀\u001b[0m\u001b[1m\u001b[37m⠀\u001b[0m\u001b[1m\u001b[37m⠀\u001b[0m\u001b[1m\u001b[37m⠀\u001b[0m\u001b[1m\u001b[37m⠀\u001b[0m\u001b[1m\u001b[37m⠀\u001b[0m\u001b[1m\u001b[37m⠀\u001b[0m\u001b[1m\u001b[31m⢿\u001b[0m\u001b[1m\u001b[31m⣷\u001b[0m\u001b[1m\u001b[31m⣄\u001b[0m\u001b[1m\u001b[37m⠀\u001b[0m\u001b[1m\u001b[37m⠀\u001b[0m\u001b[1m\u001b[37m⠀\u001b[0m\u001b[1m\u001b[31m⢿\u001b[0m\u001b[1m\u001b[31m⣷\u001b[0m\u001b[1m\u001b[31m⣄\u001b[0m\u001b[1m\u001b[37m⠀\u001b[0m\u001b[1m\u001b[37m⠀\u001b[0m\u001b[1m\u001b[37m⠀\u001b[0m\u001b[1m\u001b[31m⢿\u001b[0m\u001b[1m\u001b[31m⣷\u001b[0m\u001b[1m\u001b[31m⣄\u001b[0m\u001b[1m\u001b[37m⠀\u001b[0m\u001b[1m\u001b[37m⠀\u001b[0m\u001b[1m\u001b[37m⠀\u001b[0m\u001b[1m\u001b[37m⠀\u001b[0m\u001b[1m\u001b[37m⠀\u001b[0m\u001b[1m\u001b[37m⠀\u001b[0m\u001b[1m\u001b[37m⠀\u001b[0m\u001b[1m\u001b[37m⠀\u001b[0m\u001b[1m\u001b[37m⠀\u001b[0m\u001b[1m\u001b[37m⠀\u001b[0m\u001b[1m\u001b[37m⠀\u001b[0m\u001b[1m\u001b[37m⠀\u001b[0m\u001b[1m\u001b[37m⠀\u001b[0m\u001b[1m\u001b[37m⠀\u001b[0m\u001b[1m\u001b[37m⠀\u001b[0m\u001b[1m\u001b[37m│\u001b[0m \u001b[1m\u001b[37m\u001b[0m   \n",
       "   \u001b[1m\u001b[37m\u001b[0m    \u001b[1m\u001b[37m\u001b[0m\u001b[1m\u001b[37m │\u001b[0m\u001b[1m\u001b[37m⠀\u001b[0m\u001b[1m\u001b[37m⠀\u001b[0m\u001b[1m\u001b[37m⠀\u001b[0m\u001b[1m\u001b[37m⠀\u001b[0m\u001b[1m\u001b[37m⠀\u001b[0m\u001b[1m\u001b[37m⠀\u001b[0m\u001b[1m\u001b[37m⠀\u001b[0m\u001b[1m\u001b[37m⠀\u001b[0m\u001b[1m\u001b[37m⠀\u001b[0m\u001b[1m\u001b[37m⠀\u001b[0m\u001b[1m\u001b[37m⠀\u001b[0m\u001b[1m\u001b[37m⠀\u001b[0m\u001b[1m\u001b[37m⠀\u001b[0m\u001b[1m\u001b[31m⠙\u001b[0m\u001b[1m\u001b[31m⢿\u001b[0m\u001b[1m\u001b[31m⣷\u001b[0m\u001b[1m\u001b[31m⣄\u001b[0m\u001b[1m\u001b[37m⠀\u001b[0m\u001b[1m\u001b[37m⠀\u001b[0m\u001b[1m\u001b[31m⠙\u001b[0m\u001b[1m\u001b[31m⢿\u001b[0m\u001b[1m\u001b[31m⣷\u001b[0m\u001b[1m\u001b[31m⣄\u001b[0m\u001b[1m\u001b[37m⠀\u001b[0m\u001b[1m\u001b[37m⠀\u001b[0m\u001b[1m\u001b[31m⠙\u001b[0m\u001b[1m\u001b[31m⢿\u001b[0m\u001b[1m\u001b[31m⣷\u001b[0m\u001b[1m\u001b[31m⣄\u001b[0m\u001b[1m\u001b[37m⠀\u001b[0m\u001b[1m\u001b[37m⠀\u001b[0m\u001b[1m\u001b[37m⠀\u001b[0m\u001b[1m\u001b[37m⠀\u001b[0m\u001b[1m\u001b[37m⠀\u001b[0m\u001b[1m\u001b[37m⠀\u001b[0m\u001b[1m\u001b[37m⠀\u001b[0m\u001b[1m\u001b[37m⠀\u001b[0m\u001b[1m\u001b[37m⠀\u001b[0m\u001b[1m\u001b[37m⠀\u001b[0m\u001b[1m\u001b[37m⠀\u001b[0m\u001b[1m\u001b[37m⠀\u001b[0m\u001b[1m\u001b[37m⠀\u001b[0m\u001b[1m\u001b[37m│\u001b[0m \u001b[1m\u001b[37m\u001b[0m   \n",
       "       \u001b[1m\u001b[37m\u001b[0m\u001b[1m\u001b[37m │\u001b[0m\u001b[1m\u001b[37m⠀\u001b[0m\u001b[1m\u001b[37m⠀\u001b[0m\u001b[1m\u001b[37m⠀\u001b[0m\u001b[1m\u001b[37m⠀\u001b[0m\u001b[1m\u001b[37m⠀\u001b[0m\u001b[1m\u001b[37m⠀\u001b[0m\u001b[1m\u001b[37m⠀\u001b[0m\u001b[1m\u001b[37m⠀\u001b[0m\u001b[1m\u001b[37m⠀\u001b[0m\u001b[1m\u001b[37m⠀\u001b[0m\u001b[1m\u001b[37m⠀\u001b[0m\u001b[1m\u001b[37m⠀\u001b[0m\u001b[1m\u001b[37m⠀\u001b[0m\u001b[1m\u001b[37m⠀\u001b[0m\u001b[1m\u001b[37m⠀\u001b[0m\u001b[1m\u001b[31m⠙\u001b[0m\u001b[1m\u001b[31m⢿\u001b[0m\u001b[1m\u001b[31m⣷\u001b[0m\u001b[1m\u001b[37m⠀\u001b[0m\u001b[1m\u001b[37m⠀\u001b[0m\u001b[1m\u001b[37m⠀\u001b[0m\u001b[1m\u001b[31m⠙\u001b[0m\u001b[1m\u001b[31m⢿\u001b[0m\u001b[1m\u001b[31m⣷\u001b[0m\u001b[1m\u001b[37m⠀\u001b[0m\u001b[1m\u001b[37m⠀\u001b[0m\u001b[1m\u001b[37m⠀\u001b[0m\u001b[1m\u001b[31m⠙\u001b[0m\u001b[1m\u001b[31m⢿\u001b[0m\u001b[1m\u001b[31m⣷\u001b[0m\u001b[1m\u001b[37m⠀\u001b[0m\u001b[1m\u001b[37m⠀\u001b[0m\u001b[1m\u001b[37m⠀\u001b[0m\u001b[1m\u001b[37m⠀\u001b[0m\u001b[1m\u001b[37m⠀\u001b[0m\u001b[1m\u001b[37m⠀\u001b[0m\u001b[1m\u001b[37m⠀\u001b[0m\u001b[1m\u001b[37m⠀\u001b[0m\u001b[1m\u001b[37m⠀\u001b[0m\u001b[1m\u001b[37m⠀\u001b[0m\u001b[1m\u001b[37m⠀\u001b[0m\u001b[1m\u001b[37m⠀\u001b[0m\u001b[1m\u001b[37m│\u001b[0m \u001b[1m\u001b[37m\u001b[0m   \n",
       "       \u001b[1m\u001b[37m\u001b[0m\u001b[1m\u001b[37m │\u001b[0m\u001b[1m\u001b[37m⠀\u001b[0m\u001b[1m\u001b[37m⠀\u001b[0m\u001b[1m\u001b[37m⠀\u001b[0m\u001b[1m\u001b[37m⠀\u001b[0m\u001b[1m\u001b[37m⠀\u001b[0m\u001b[1m\u001b[37m⠀\u001b[0m\u001b[1m\u001b[37m⠀\u001b[0m\u001b[1m\u001b[37m⠀\u001b[0m\u001b[1m\u001b[37m⠀\u001b[0m\u001b[1m\u001b[37m⠀\u001b[0m\u001b[1m\u001b[37m⠀\u001b[0m\u001b[1m\u001b[37m⠀\u001b[0m\u001b[1m\u001b[37m⠀\u001b[0m\u001b[1m\u001b[37m⠀\u001b[0m\u001b[1m\u001b[37m⠀\u001b[0m\u001b[1m\u001b[37m⠀\u001b[0m\u001b[1m\u001b[37m⠀\u001b[0m\u001b[1m\u001b[37m⠀\u001b[0m\u001b[1m\u001b[31m⢿\u001b[0m\u001b[1m\u001b[31m⣷\u001b[0m\u001b[1m\u001b[31m⣄\u001b[0m\u001b[1m\u001b[37m⠀\u001b[0m\u001b[1m\u001b[37m⠀\u001b[0m\u001b[1m\u001b[37m⠀\u001b[0m\u001b[1m\u001b[31m⢿\u001b[0m\u001b[1m\u001b[31m⣷\u001b[0m\u001b[1m\u001b[31m⣄\u001b[0m\u001b[1m\u001b[37m⠀\u001b[0m\u001b[1m\u001b[37m⠀\u001b[0m\u001b[1m\u001b[37m⠀\u001b[0m\u001b[1m\u001b[31m⢿\u001b[0m\u001b[1m\u001b[31m⣷\u001b[0m\u001b[1m\u001b[31m⣄\u001b[0m\u001b[1m\u001b[37m⠀\u001b[0m\u001b[1m\u001b[37m⠀\u001b[0m\u001b[1m\u001b[37m⠀\u001b[0m\u001b[1m\u001b[37m⠀\u001b[0m\u001b[1m\u001b[37m⠀\u001b[0m\u001b[1m\u001b[37m⠀\u001b[0m\u001b[1m\u001b[37m⠀\u001b[0m\u001b[1m\u001b[37m⠀\u001b[0m\u001b[1m\u001b[37m⠀\u001b[0m\u001b[1m\u001b[37m│\u001b[0m \u001b[1m\u001b[37m\u001b[0m   \n",
       "       \u001b[1m\u001b[37m\u001b[0m\u001b[1m\u001b[37m │\u001b[0m\u001b[1m\u001b[37m⠀\u001b[0m\u001b[1m\u001b[37m⠀\u001b[0m\u001b[1m\u001b[37m⠀\u001b[0m\u001b[1m\u001b[37m⠀\u001b[0m\u001b[1m\u001b[37m⠀\u001b[0m\u001b[1m\u001b[37m⠀\u001b[0m\u001b[1m\u001b[37m⠀\u001b[0m\u001b[1m\u001b[37m⠀\u001b[0m\u001b[1m\u001b[37m⠀\u001b[0m\u001b[1m\u001b[37m⠀\u001b[0m\u001b[1m\u001b[37m⠀\u001b[0m\u001b[1m\u001b[37m⠀\u001b[0m\u001b[1m\u001b[37m⠀\u001b[0m\u001b[1m\u001b[37m⠀\u001b[0m\u001b[1m\u001b[37m⠀\u001b[0m\u001b[1m\u001b[37m⠀\u001b[0m\u001b[1m\u001b[37m⠀\u001b[0m\u001b[1m\u001b[37m⠀\u001b[0m\u001b[1m\u001b[37m⠀\u001b[0m\u001b[1m\u001b[31m⠙\u001b[0m\u001b[1m\u001b[31m⢿\u001b[0m\u001b[1m\u001b[31m⣷\u001b[0m\u001b[1m\u001b[31m⣄\u001b[0m\u001b[1m\u001b[37m⠀\u001b[0m\u001b[1m\u001b[37m⠀\u001b[0m\u001b[1m\u001b[31m⠙\u001b[0m\u001b[1m\u001b[31m⢿\u001b[0m\u001b[1m\u001b[31m⣷\u001b[0m\u001b[1m\u001b[31m⣄\u001b[0m\u001b[1m\u001b[37m⠀\u001b[0m\u001b[1m\u001b[37m⠀\u001b[0m\u001b[1m\u001b[31m⠙\u001b[0m\u001b[1m\u001b[31m⢿\u001b[0m\u001b[1m\u001b[31m⣷\u001b[0m\u001b[1m\u001b[31m⣄\u001b[0m\u001b[1m\u001b[37m⠀\u001b[0m\u001b[1m\u001b[37m⠀\u001b[0m\u001b[1m\u001b[37m⠀\u001b[0m\u001b[1m\u001b[37m⠀\u001b[0m\u001b[1m\u001b[37m⠀\u001b[0m\u001b[1m\u001b[37m⠀\u001b[0m\u001b[1m\u001b[37m⠀\u001b[0m\u001b[1m\u001b[37m│\u001b[0m \u001b[1m\u001b[37m\u001b[0m   \n",
       "       \u001b[1m\u001b[37m\u001b[0m\u001b[1m\u001b[37m │\u001b[0m\u001b[1m\u001b[37m⠀\u001b[0m\u001b[1m\u001b[37m⠀\u001b[0m\u001b[1m\u001b[37m⠀\u001b[0m\u001b[1m\u001b[37m⠀\u001b[0m\u001b[1m\u001b[37m⠀\u001b[0m\u001b[1m\u001b[37m⠀\u001b[0m\u001b[1m\u001b[37m⠀\u001b[0m\u001b[1m\u001b[37m⠀\u001b[0m\u001b[1m\u001b[37m⠀\u001b[0m\u001b[1m\u001b[37m⠀\u001b[0m\u001b[1m\u001b[37m⠀\u001b[0m\u001b[1m\u001b[37m⠀\u001b[0m\u001b[1m\u001b[37m⠀\u001b[0m\u001b[1m\u001b[37m⠀\u001b[0m\u001b[1m\u001b[37m⠀\u001b[0m\u001b[1m\u001b[37m⠀\u001b[0m\u001b[1m\u001b[37m⠀\u001b[0m\u001b[1m\u001b[37m⠀\u001b[0m\u001b[1m\u001b[37m⠀\u001b[0m\u001b[1m\u001b[37m⠀\u001b[0m\u001b[1m\u001b[37m⠀\u001b[0m\u001b[1m\u001b[31m⠙\u001b[0m\u001b[1m\u001b[31m⢿\u001b[0m\u001b[1m\u001b[31m⣷\u001b[0m\u001b[1m\u001b[37m⠀\u001b[0m\u001b[1m\u001b[37m⠀\u001b[0m\u001b[1m\u001b[37m⠀\u001b[0m\u001b[1m\u001b[31m⠙\u001b[0m\u001b[1m\u001b[31m⢿\u001b[0m\u001b[1m\u001b[31m⣷\u001b[0m\u001b[1m\u001b[37m⠀\u001b[0m\u001b[1m\u001b[37m⠀\u001b[0m\u001b[1m\u001b[37m⠀\u001b[0m\u001b[1m\u001b[31m⠙\u001b[0m\u001b[1m\u001b[31m⢿\u001b[0m\u001b[1m\u001b[31m⣷\u001b[0m\u001b[1m\u001b[37m⠀\u001b[0m\u001b[1m\u001b[37m⠀\u001b[0m\u001b[1m\u001b[37m⠀\u001b[0m\u001b[1m\u001b[37m⠀\u001b[0m\u001b[1m\u001b[37m⠀\u001b[0m\u001b[1m\u001b[37m⠀\u001b[0m\u001b[1m\u001b[37m│\u001b[0m \u001b[1m\u001b[37m\u001b[0m   \n",
       "       \u001b[1m\u001b[37m\u001b[0m\u001b[1m\u001b[37m │\u001b[0m\u001b[1m\u001b[37m⠀\u001b[0m\u001b[1m\u001b[37m⠀\u001b[0m\u001b[1m\u001b[37m⠀\u001b[0m\u001b[1m\u001b[37m⠀\u001b[0m\u001b[1m\u001b[37m⠀\u001b[0m\u001b[1m\u001b[37m⠀\u001b[0m\u001b[1m\u001b[37m⠀\u001b[0m\u001b[1m\u001b[37m⠀\u001b[0m\u001b[1m\u001b[37m⠀\u001b[0m\u001b[1m\u001b[37m⠀\u001b[0m\u001b[1m\u001b[37m⠀\u001b[0m\u001b[1m\u001b[37m⠀\u001b[0m\u001b[1m\u001b[37m⠀\u001b[0m\u001b[1m\u001b[37m⠀\u001b[0m\u001b[1m\u001b[37m⠀\u001b[0m\u001b[1m\u001b[37m⠀\u001b[0m\u001b[1m\u001b[37m⠀\u001b[0m\u001b[1m\u001b[37m⠀\u001b[0m\u001b[1m\u001b[37m⠀\u001b[0m\u001b[1m\u001b[37m⠀\u001b[0m\u001b[1m\u001b[37m⠀\u001b[0m\u001b[1m\u001b[37m⠀\u001b[0m\u001b[1m\u001b[37m⠀\u001b[0m\u001b[1m\u001b[37m⠀\u001b[0m\u001b[1m\u001b[31m⢿\u001b[0m\u001b[1m\u001b[31m⣷\u001b[0m\u001b[1m\u001b[31m⣄\u001b[0m\u001b[1m\u001b[37m⠀\u001b[0m\u001b[1m\u001b[37m⠀\u001b[0m\u001b[1m\u001b[37m⠀\u001b[0m\u001b[1m\u001b[31m⢿\u001b[0m\u001b[1m\u001b[31m⣷\u001b[0m\u001b[1m\u001b[31m⣄\u001b[0m\u001b[1m\u001b[37m⠀\u001b[0m\u001b[1m\u001b[37m⠀\u001b[0m\u001b[1m\u001b[37m⠀\u001b[0m\u001b[1m\u001b[31m⢿\u001b[0m\u001b[1m\u001b[31m⣷\u001b[0m\u001b[1m\u001b[31m⣄\u001b[0m\u001b[1m\u001b[37m⠀\u001b[0m\u001b[1m\u001b[37m⠀\u001b[0m\u001b[1m\u001b[37m⠀\u001b[0m\u001b[1m\u001b[37m│\u001b[0m \u001b[1m\u001b[37m\u001b[0m   \n",
       "       \u001b[1m\u001b[37m\u001b[0m\u001b[1m\u001b[37m │\u001b[0m\u001b[1m\u001b[37m⠀\u001b[0m\u001b[1m\u001b[37m⠀\u001b[0m\u001b[1m\u001b[37m⠀\u001b[0m\u001b[1m\u001b[37m⠀\u001b[0m\u001b[1m\u001b[37m⠀\u001b[0m\u001b[1m\u001b[37m⠀\u001b[0m\u001b[1m\u001b[37m⠀\u001b[0m\u001b[1m\u001b[37m⠀\u001b[0m\u001b[1m\u001b[37m⠀\u001b[0m\u001b[1m\u001b[37m⠀\u001b[0m\u001b[1m\u001b[37m⠀\u001b[0m\u001b[1m\u001b[37m⠀\u001b[0m\u001b[1m\u001b[37m⠀\u001b[0m\u001b[1m\u001b[37m⠀\u001b[0m\u001b[1m\u001b[37m⠀\u001b[0m\u001b[1m\u001b[37m⠀\u001b[0m\u001b[1m\u001b[37m⠀\u001b[0m\u001b[1m\u001b[37m⠀\u001b[0m\u001b[1m\u001b[37m⠀\u001b[0m\u001b[1m\u001b[37m⠀\u001b[0m\u001b[1m\u001b[37m⠀\u001b[0m\u001b[1m\u001b[37m⠀\u001b[0m\u001b[1m\u001b[37m⠀\u001b[0m\u001b[1m\u001b[37m⠀\u001b[0m\u001b[1m\u001b[37m⠀\u001b[0m\u001b[1m\u001b[31m⠙\u001b[0m\u001b[1m\u001b[31m⢿\u001b[0m\u001b[1m\u001b[31m⣷\u001b[0m\u001b[1m\u001b[31m⣄\u001b[0m\u001b[1m\u001b[37m⠀\u001b[0m\u001b[1m\u001b[37m⠀\u001b[0m\u001b[1m\u001b[31m⠙\u001b[0m\u001b[1m\u001b[31m⢿\u001b[0m\u001b[1m\u001b[31m⣷\u001b[0m\u001b[1m\u001b[31m⣄\u001b[0m\u001b[1m\u001b[37m⠀\u001b[0m\u001b[1m\u001b[37m⠀\u001b[0m\u001b[1m\u001b[31m⠙\u001b[0m\u001b[1m\u001b[31m⢿\u001b[0m\u001b[1m\u001b[31m⣷\u001b[0m\u001b[1m\u001b[31m⣄\u001b[0m\u001b[1m\u001b[37m⠀\u001b[0m\u001b[1m\u001b[37m│\u001b[0m \u001b[1m\u001b[37m\u001b[0m   \n",
       "       \u001b[1m\u001b[37m\u001b[0m\u001b[1m\u001b[37m │\u001b[0m\u001b[1m\u001b[37m⠀\u001b[0m\u001b[1m\u001b[37m⠀\u001b[0m\u001b[1m\u001b[37m⠀\u001b[0m\u001b[1m\u001b[37m⠀\u001b[0m\u001b[1m\u001b[37m⠀\u001b[0m\u001b[1m\u001b[37m⠀\u001b[0m\u001b[1m\u001b[37m⠀\u001b[0m\u001b[1m\u001b[37m⠀\u001b[0m\u001b[1m\u001b[37m⠀\u001b[0m\u001b[1m\u001b[37m⠀\u001b[0m\u001b[1m\u001b[37m⠀\u001b[0m\u001b[1m\u001b[37m⠀\u001b[0m\u001b[1m\u001b[37m⠀\u001b[0m\u001b[1m\u001b[37m⠀\u001b[0m\u001b[1m\u001b[37m⠀\u001b[0m\u001b[1m\u001b[37m⠀\u001b[0m\u001b[1m\u001b[37m⠀\u001b[0m\u001b[1m\u001b[37m⠀\u001b[0m\u001b[1m\u001b[37m⠀\u001b[0m\u001b[1m\u001b[37m⠀\u001b[0m\u001b[1m\u001b[37m⠀\u001b[0m\u001b[1m\u001b[37m⠀\u001b[0m\u001b[1m\u001b[37m⠀\u001b[0m\u001b[1m\u001b[37m⠀\u001b[0m\u001b[1m\u001b[37m⠀\u001b[0m\u001b[1m\u001b[37m⠀\u001b[0m\u001b[1m\u001b[37m⠀\u001b[0m\u001b[1m\u001b[31m⠙\u001b[0m\u001b[1m\u001b[31m⢿\u001b[0m\u001b[1m\u001b[31m⣷\u001b[0m\u001b[1m\u001b[37m⠀\u001b[0m\u001b[1m\u001b[37m⠀\u001b[0m\u001b[1m\u001b[37m⠀\u001b[0m\u001b[1m\u001b[31m⠙\u001b[0m\u001b[1m\u001b[31m⢿\u001b[0m\u001b[1m\u001b[31m⣷\u001b[0m\u001b[1m\u001b[37m⠀\u001b[0m\u001b[1m\u001b[37m⠀\u001b[0m\u001b[1m\u001b[37m⠀\u001b[0m\u001b[1m\u001b[31m⠙\u001b[0m\u001b[1m\u001b[31m⢿\u001b[0m\u001b[1m\u001b[31m⣷\u001b[0m\u001b[1m\u001b[37m│\u001b[0m \u001b[1m\u001b[37m\u001b[0m   \n",
       "       \u001b[1m\u001b[37m\u001b[0m\u001b[1m\u001b[37m │\u001b[0m\u001b[1m\u001b[37m⠀\u001b[0m\u001b[1m\u001b[37m⠀\u001b[0m\u001b[1m\u001b[37m⠀\u001b[0m\u001b[1m\u001b[37m⠀\u001b[0m\u001b[1m\u001b[37m⠀\u001b[0m\u001b[1m\u001b[37m⠀\u001b[0m\u001b[1m\u001b[37m⠀\u001b[0m\u001b[1m\u001b[37m⠀\u001b[0m\u001b[1m\u001b[37m⠀\u001b[0m\u001b[1m\u001b[37m⠀\u001b[0m\u001b[1m\u001b[37m⠀\u001b[0m\u001b[1m\u001b[37m⠀\u001b[0m\u001b[1m\u001b[37m⠀\u001b[0m\u001b[1m\u001b[37m⠀\u001b[0m\u001b[1m\u001b[37m⠀\u001b[0m\u001b[1m\u001b[37m⠀\u001b[0m\u001b[1m\u001b[37m⠀\u001b[0m\u001b[1m\u001b[37m⠀\u001b[0m\u001b[1m\u001b[37m⠀\u001b[0m\u001b[1m\u001b[37m⠀\u001b[0m\u001b[1m\u001b[37m⠀\u001b[0m\u001b[1m\u001b[37m⠀\u001b[0m\u001b[1m\u001b[37m⠀\u001b[0m\u001b[1m\u001b[37m⠀\u001b[0m\u001b[1m\u001b[37m⠀\u001b[0m\u001b[1m\u001b[37m⠀\u001b[0m\u001b[1m\u001b[37m⠀\u001b[0m\u001b[1m\u001b[37m⠀\u001b[0m\u001b[1m\u001b[37m⠀\u001b[0m\u001b[1m\u001b[37m⠀\u001b[0m\u001b[1m\u001b[31m⢿\u001b[0m\u001b[1m\u001b[31m⣷\u001b[0m\u001b[1m\u001b[31m⣄\u001b[0m\u001b[1m\u001b[37m⠀\u001b[0m\u001b[1m\u001b[37m⠀\u001b[0m\u001b[1m\u001b[37m⠀\u001b[0m\u001b[1m\u001b[31m⢿\u001b[0m\u001b[1m\u001b[31m⣷\u001b[0m\u001b[1m\u001b[31m⣄\u001b[0m\u001b[1m\u001b[37m⠀\u001b[0m\u001b[1m\u001b[37m⠀\u001b[0m\u001b[1m\u001b[37m⠀\u001b[0m\u001b[1m\u001b[37m│\u001b[0m \u001b[1m\u001b[37m\u001b[0m   \n",
       "       \u001b[1m\u001b[37m\u001b[0m\u001b[1m\u001b[37m │\u001b[0m\u001b[1m\u001b[37m⠀\u001b[0m\u001b[1m\u001b[37m⠀\u001b[0m\u001b[1m\u001b[37m⠀\u001b[0m\u001b[1m\u001b[37m⠀\u001b[0m\u001b[1m\u001b[37m⠀\u001b[0m\u001b[1m\u001b[37m⠀\u001b[0m\u001b[1m\u001b[37m⠀\u001b[0m\u001b[1m\u001b[37m⠀\u001b[0m\u001b[1m\u001b[37m⠀\u001b[0m\u001b[1m\u001b[37m⠀\u001b[0m\u001b[1m\u001b[37m⠀\u001b[0m\u001b[1m\u001b[37m⠀\u001b[0m\u001b[1m\u001b[37m⠀\u001b[0m\u001b[1m\u001b[37m⠀\u001b[0m\u001b[1m\u001b[37m⠀\u001b[0m\u001b[1m\u001b[37m⠀\u001b[0m\u001b[1m\u001b[37m⠀\u001b[0m\u001b[1m\u001b[37m⠀\u001b[0m\u001b[1m\u001b[37m⠀\u001b[0m\u001b[1m\u001b[37m⠀\u001b[0m\u001b[1m\u001b[37m⠀\u001b[0m\u001b[1m\u001b[37m⠀\u001b[0m\u001b[1m\u001b[37m⠀\u001b[0m\u001b[1m\u001b[37m⠀\u001b[0m\u001b[1m\u001b[37m⠀\u001b[0m\u001b[1m\u001b[37m⠀\u001b[0m\u001b[1m\u001b[37m⠀\u001b[0m\u001b[1m\u001b[37m⠀\u001b[0m\u001b[1m\u001b[37m⠀\u001b[0m\u001b[1m\u001b[37m⠀\u001b[0m\u001b[1m\u001b[37m⠀\u001b[0m\u001b[1m\u001b[31m⠙\u001b[0m\u001b[1m\u001b[31m⢿\u001b[0m\u001b[1m\u001b[31m⣷\u001b[0m\u001b[1m\u001b[31m⣄\u001b[0m\u001b[1m\u001b[37m⠀\u001b[0m\u001b[1m\u001b[37m⠀\u001b[0m\u001b[1m\u001b[31m⠙\u001b[0m\u001b[1m\u001b[31m⢿\u001b[0m\u001b[1m\u001b[31m⣷\u001b[0m\u001b[1m\u001b[31m⣄\u001b[0m\u001b[1m\u001b[37m⠀\u001b[0m\u001b[1m\u001b[37m│\u001b[0m \u001b[1m\u001b[37m\u001b[0m   \n",
       "   \u001b[1m\u001b[37m8967\u001b[0m\u001b[1m\u001b[37m │\u001b[0m\u001b[1m\u001b[37m⠀\u001b[0m\u001b[1m\u001b[37m⠀\u001b[0m\u001b[1m\u001b[37m⠀\u001b[0m\u001b[1m\u001b[37m⠀\u001b[0m\u001b[1m\u001b[37m⠀\u001b[0m\u001b[1m\u001b[37m⠀\u001b[0m\u001b[1m\u001b[37m⠀\u001b[0m\u001b[1m\u001b[37m⠀\u001b[0m\u001b[1m\u001b[37m⠀\u001b[0m\u001b[1m\u001b[37m⠀\u001b[0m\u001b[1m\u001b[37m⠀\u001b[0m\u001b[1m\u001b[37m⠀\u001b[0m\u001b[1m\u001b[37m⠀\u001b[0m\u001b[1m\u001b[37m⠀\u001b[0m\u001b[1m\u001b[37m⠀\u001b[0m\u001b[1m\u001b[37m⠀\u001b[0m\u001b[1m\u001b[37m⠀\u001b[0m\u001b[1m\u001b[37m⠀\u001b[0m\u001b[1m\u001b[37m⠀\u001b[0m\u001b[1m\u001b[37m⠀\u001b[0m\u001b[1m\u001b[37m⠀\u001b[0m\u001b[1m\u001b[37m⠀\u001b[0m\u001b[1m\u001b[37m⠀\u001b[0m\u001b[1m\u001b[37m⠀\u001b[0m\u001b[1m\u001b[37m⠀\u001b[0m\u001b[1m\u001b[37m⠀\u001b[0m\u001b[1m\u001b[37m⠀\u001b[0m\u001b[1m\u001b[37m⠀\u001b[0m\u001b[1m\u001b[37m⠀\u001b[0m\u001b[1m\u001b[37m⠀\u001b[0m\u001b[1m\u001b[37m⠀\u001b[0m\u001b[1m\u001b[37m⠀\u001b[0m\u001b[1m\u001b[37m⠀\u001b[0m\u001b[1m\u001b[31m⠙\u001b[0m\u001b[1m\u001b[31m⢿\u001b[0m\u001b[1m\u001b[31m⣷\u001b[0m\u001b[1m\u001b[37m⠀\u001b[0m\u001b[1m\u001b[37m⠀\u001b[0m\u001b[1m\u001b[37m⠀\u001b[0m\u001b[1m\u001b[31m⠙\u001b[0m\u001b[1m\u001b[31m⢿\u001b[0m\u001b[1m\u001b[31m⣷\u001b[0m\u001b[1m\u001b[37m│\u001b[0m \u001b[1m\u001b[37m\u001b[0m   \n",
       "\u001b[1m\u001b[37m        └──────────────────────────────────────────┘\u001b[0m    \n",
       "\u001b[1m\u001b[37m        1\u001b[0m\u001b[1m\u001b[37m                    \u001b[0m\u001b[1m\u001b[37m                   8967\n",
       "\u001b[0m\u001b[1m\u001b[37m                        nz = 405333\n",
       "\u001b[0m"
      ]
     },
     "execution_count": 6,
     "metadata": {},
     "output_type": "execute_result"
    }
   ],
   "source": [
    "@time K = create_sparsity_pattern(dh);\n",
    "fill!(K.nzval, 1.0);\n",
    "spy(K)"
   ]
  },
  {
   "cell_type": "code",
   "execution_count": 7,
   "metadata": {
    "collapsed": true,
    "deletable": true,
    "editable": true
   },
   "outputs": [],
   "source": [
    "# Boundaryconditions\n",
    "dbc = DirichletBoundaryConditions(dh)\n",
    "# Add a homogenoush boundary condition on the \"clamped\" edge\n",
    "add!(dbc, :u, getnodeset(grid, \"clamped\"), (x,t) -> [0.0, 0.0, 0.0], collect(1:dim))\n",
    "close!(dbc)\n",
    "t = 0.0\n",
    "update!(dbc, t)"
   ]
  },
  {
   "cell_type": "code",
   "execution_count": 8,
   "metadata": {
    "collapsed": true,
    "deletable": true,
    "editable": true
   },
   "outputs": [],
   "source": [
    "# Create the stiffness tensor\n",
    "E = 200e9\n",
    "ν = 0.3\n",
    "λ = E*ν / ((1+ν) * (1 - 2ν))\n",
    "μ = E / (2(1+ν))\n",
    "δ(i,j) = i == j ? 1.0 : 0.0\n",
    "g(i,j,k,l) = λ*δ(i,j)*δ(k,l) + μ*(δ(i,k)*δ(j,l) + δ(i,l)*δ(j,k))\n",
    "C = SymmetricTensor{4, dim}(g);"
   ]
  },
  {
   "cell_type": "code",
   "execution_count": 9,
   "metadata": {
    "collapsed": false,
    "deletable": true,
    "editable": true
   },
   "outputs": [
    {
     "data": {
      "text/plain": [
       "doassemble (generic function with 1 method)"
      ]
     },
     "execution_count": 9,
     "metadata": {},
     "output_type": "execute_result"
    }
   ],
   "source": [
    "function doassemble{dim}(cellvalues::CellVectorValues{dim}, facevalues::FaceVectorValues{dim}, \n",
    "                         K::SparseMatrixCSC, grid::Grid, dh::DofHandler, C::SymmetricTensor{4, dim})\n",
    "\n",
    "    \n",
    "    f = zeros(ndofs(dh))\n",
    "    assembler = start_assemble(K, f)\n",
    "    \n",
    "    n_basefuncs = getnbasefunctions(cellvalues)\n",
    "    global_dofs = zeros(Int, ndofs_per_cell(dh))\n",
    "\n",
    "    fe = zeros(n_basefuncs) # Local force vector\n",
    "    Ke = zeros(n_basefuncs, n_basefuncs) # Local stiffness mastrix\n",
    "    \n",
    "    t = Vec{3}((0.0, 1e8, 0.0)) # Traction vector\n",
    "    b = Vec{3}((0.0, 0.0, 0.0)) # Body force\n",
    "    ɛ = [zero(SymmetricTensor{2, dim}) for i in 1:n_basefuncs]\n",
    "    @inbounds for (cellcount, cell) in enumerate(CellIterator(dh))\n",
    "        @timeit to \"assem\" begin\n",
    "        fill!(Ke, 0)\n",
    "        fill!(fe, 0)\n",
    "        \n",
    "        reinit!(cellvalues, cell)\n",
    "        for q_point in 1:getnquadpoints(cellvalues)\n",
    "            for i in 1:n_basefuncs\n",
    "                ɛ[i] = symmetric(shape_gradient(cellvalues, q_point, i)) \n",
    "            end\n",
    "            dΩ = getdetJdV(cellvalues, q_point)\n",
    "            for i in 1:n_basefuncs\n",
    "                δu = shape_value(cellvalues, q_point, i)\n",
    "                fe[i] += (δu ⋅ b) * dΩ\n",
    "                ɛC = ɛ[i] ⊡ C\n",
    "                for j in 1:n_basefuncs\n",
    "                    Ke[i, j] += (ɛC ⊡ ɛ[j]) * dΩ\n",
    "                end\n",
    "            end\n",
    "        end\n",
    "        \n",
    "        for face in 1:nfaces(cell)\n",
    "            if onboundary(cell, face) && (cellcount, face) ∈ getfaceset(grid, \"right\")\n",
    "                reinit!(facevalues, cell, face)\n",
    "                for q_point in 1:getnquadpoints(facevalues)\n",
    "                    dΓ = getdetJdV(facevalues, q_point)\n",
    "                    for i in 1:n_basefuncs\n",
    "                        δu = shape_value(facevalues, q_point, i)\n",
    "                        fe[i] += (δu ⋅ t) * dΓ\n",
    "                    end\n",
    "                end\n",
    "            end\n",
    "        end\n",
    "        celldofs!(global_dofs, cell)\n",
    "        assemble!(assembler, fe, Ke, global_dofs)\n",
    "        end # timer\n",
    "    end\n",
    "    return K, f\n",
    "end"
   ]
  },
  {
   "cell_type": "code",
   "execution_count": 15,
   "metadata": {
    "collapsed": false,
    "deletable": true,
    "editable": true
   },
   "outputs": [
    {
     "name": "stdout",
     "output_type": "stream",
     "text": [
      " \u001b[1m------------------------------------------------------------------\u001b[22m\n",
      "                           Time                   Allocations      \n",
      "                   ----------------------   -----------------------\n",
      " Tot / % measured:     23.7ms / 90.4%            417KiB / 0.05%    \n",
      "\n",
      " Section   ncalls     time   %tot     avg     alloc   %tot      avg\n",
      " ------------------------------------------------------------------\n",
      " assem      10.8k   21.4ms   100%  1.98μs      224B  100%        0B\n",
      " \u001b[1m------------------------------------------------------------------\u001b[22m"
     ]
    }
   ],
   "source": [
    "reset_timer!(to)\n",
    "K, f = doassemble(cellvalues, facevalues, K, grid, dh, C);\n",
    "print_timer(to; linechars = :ascii)"
   ]
  },
  {
   "cell_type": "code",
   "execution_count": 16,
   "metadata": {
    "collapsed": false,
    "deletable": true,
    "editable": true
   },
   "outputs": [
    {
     "name": "stdout",
     "output_type": "stream",
     "text": [
      "  0.004079 seconds (12 allocations: 3.172 KB)\n"
     ]
    }
   ],
   "source": [
    "# Modify K and f such that K \\ f gives correct boundary conditions\n",
    "@time apply!(K, f, dbc)"
   ]
  },
  {
   "cell_type": "code",
   "execution_count": 17,
   "metadata": {
    "collapsed": false,
    "deletable": true,
    "editable": true
   },
   "outputs": [
    {
     "name": "stdout",
     "output_type": "stream",
     "text": [
      "  0.094822 seconds (63 allocations: 45.675 MB, 12.66% gc time)\n"
     ]
    }
   ],
   "source": [
    "@time u = cholfact(Symmetric(K)) \\ f;"
   ]
  },
  {
   "cell_type": "code",
   "execution_count": 13,
   "metadata": {
    "collapsed": false,
    "deletable": true,
    "editable": true
   },
   "outputs": [
    {
     "data": {
      "text/plain": [
       "1-element Array{String,1}:\n",
       " \"cantilever.vtu\""
      ]
     },
     "execution_count": 13,
     "metadata": {},
     "output_type": "execute_result"
    }
   ],
   "source": [
    "# Save file\n",
    "vtkfile = vtk_grid(\"cantilever\", dh, u)\n",
    "vtk_save(vtkfile)"
   ]
  },
  {
   "cell_type": "code",
   "execution_count": 14,
   "metadata": {
    "collapsed": false,
    "deletable": true,
    "editable": true
   },
   "outputs": [
    {
     "name": "stdout",
     "output_type": "stream",
     "text": [
      "Cantilever successful\n"
     ]
    }
   ],
   "source": [
    "Base.Test.@test maximum(u)  ≈ 1.919600482922295\n",
    "println(\"Cantilever successful\")"
   ]
  }
 ],
 "metadata": {
  "anaconda-cloud": {},
  "kernelspec": {
   "display_name": "Julia 0.5.1",
   "language": "julia",
   "name": "julia-0.5"
  },
  "language_info": {
   "file_extension": ".jl",
   "mimetype": "application/julia",
   "name": "julia",
   "version": "0.5.1"
  }
 },
 "nbformat": 4,
 "nbformat_minor": 1
}
