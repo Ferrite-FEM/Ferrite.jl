{
 "cells": [
  {
   "cell_type": "markdown",
   "metadata": {},
   "source": [
    "## Cantilever beam with a traction load on one side"
   ]
  },
  {
   "cell_type": "code",
   "execution_count": null,
   "metadata": {},
   "outputs": [],
   "source": [
    "# ![cant.png](figures/cant.png)"
   ]
  },
  {
   "cell_type": "code",
   "execution_count": null,
   "metadata": {},
   "outputs": [],
   "source": [
    "using JuAFEM\n",
    "using Tensors\n",
    "using TimerOutputs\n",
    "using UnicodePlots\n",
    "const to = TimerOutput();"
   ]
  },
  {
   "cell_type": "code",
   "execution_count": null,
   "metadata": {},
   "outputs": [],
   "source": [
    "#Parameters to change:\n",
    "hex = false\n",
    "order = 2\n",
    "\n",
    "geoshape = hex ? Hexahedron : Tetrahedron\n",
    "refshape = hex ? RefCube    : RefTetrahedron\n",
    "quadorder = order==1 ? 2 : 3"
   ]
  },
  {
   "cell_type": "code",
   "execution_count": null,
   "metadata": {},
   "outputs": [],
   "source": [
    "const dim = 3\n",
    "corner1 = Vec{dim}((0.0, 0.0, 0.0))\n",
    "corner2 = Vec{dim}((10.0, 1.0, 1.0))\n",
    "grid = generate_grid(geoshape, (60, 6, 6), corner1, corner2);"
   ]
  },
  {
   "cell_type": "code",
   "execution_count": null,
   "metadata": {},
   "outputs": [],
   "source": [
    "# Interpolations and values\n",
    "interpolation_space = Lagrange{dim, refshape, order}()\n",
    "geometric_interpolation = JuAFEM.default_interpolation(geoshape)\n",
    "quadrature_rule = QuadratureRule{dim, refshape}(quadorder)\n",
    "cellvalues = CellVectorValues(quadrature_rule, interpolation_space, geometric_interpolation);\n",
    "facevalues = FaceVectorValues(QuadratureRule{dim-1, refshape}(quadorder), interpolation_space, geometric_interpolation);"
   ]
  },
  {
   "cell_type": "code",
   "execution_count": null,
   "metadata": {},
   "outputs": [],
   "source": [
    "# DofHandler\n",
    "dh = DofHandler(grid)\n",
    "push!(dh, :u, dim, interpolation_space) # Add a displacement field\n",
    "close!(dh)"
   ]
  },
  {
   "cell_type": "code",
   "execution_count": null,
   "metadata": {},
   "outputs": [],
   "source": [
    "@time K = create_symmetric_sparsity_pattern(dh); # assemble only upper half since it is symmetric\n",
    "fill!(K.data.nzval, 1.0);\n",
    "spy(K.data)"
   ]
  },
  {
   "cell_type": "code",
   "execution_count": null,
   "metadata": {},
   "outputs": [],
   "source": [
    "# Boundaryconditions\n",
    "dbcs = ConstraintHandler(dh)\n",
    "# Add a homogenoush boundary condition on the \"clamped\" edge\n",
    "dbc = Dirichlet(:u, getfaceset(grid, \"left\"), (x,t) -> [0.0, 0.0, 0.0], collect(1:dim))\n",
    "add!(dbcs, dbc)\n",
    "close!(dbcs)\n",
    "t = 0.0\n",
    "update!(dbcs, t)"
   ]
  },
  {
   "cell_type": "code",
   "execution_count": null,
   "metadata": {},
   "outputs": [],
   "source": [
    "# Create the stiffness tensor\n",
    "E = 200e9\n",
    "ν = 0.3\n",
    "λ = E*ν / ((1+ν) * (1 - 2ν))\n",
    "μ = E / (2(1+ν))\n",
    "δ(i,j) = i == j ? 1.0 : 0.0\n",
    "g(i,j,k,l) = λ*δ(i,j)*δ(k,l) + μ*(δ(i,k)*δ(j,l) + δ(i,l)*δ(j,k))\n",
    "C = SymmetricTensor{4, dim}(g);"
   ]
  },
  {
   "cell_type": "code",
   "execution_count": null,
   "metadata": {},
   "outputs": [],
   "source": [
    "function doassemble(cellvalues::CellVectorValues{dim}, facevalues::FaceVectorValues{dim}, \n",
    "                         K::AbstractMatrix, grid::Grid, dh::DofHandler, C::SymmetricTensor{4, dim}) where {dim}\n",
    "\n",
    "    \n",
    "    f = zeros(ndofs(dh))\n",
    "    assembler = start_assemble(K, f)\n",
    "    \n",
    "    n_basefuncs = getnbasefunctions(cellvalues)\n",
    "\n",
    "    fe = zeros(n_basefuncs) # Local force vector\n",
    "    Ke = zeros(n_basefuncs, n_basefuncs) # Local stiffness mastrix\n",
    "    \n",
    "    t = Vec{3}((0.0, 1e8, 0.0)) # Traction vector\n",
    "    b = Vec{3}((0.0, 0.0, 0.0)) # Body force\n",
    "    ɛ = [zero(SymmetricTensor{2, dim}) for i in 1:n_basefuncs]\n",
    "    @inbounds for (cellcount, cell) in enumerate(CellIterator(dh))\n",
    "        @timeit to \"assem\" begin\n",
    "        fill!(Ke, 0)\n",
    "        fill!(fe, 0)\n",
    "        \n",
    "        reinit!(cellvalues, cell)\n",
    "        for q_point in 1:getnquadpoints(cellvalues)\n",
    "            for i in 1:n_basefuncs\n",
    "                ɛ[i] = symmetric(shape_gradient(cellvalues, q_point, i)) \n",
    "            end\n",
    "            dΩ = getdetJdV(cellvalues, q_point)\n",
    "            for i in 1:n_basefuncs\n",
    "                δu = shape_value(cellvalues, q_point, i)\n",
    "                fe[i] += (δu ⋅ b) * dΩ\n",
    "                ɛC = ɛ[i] ⊡ C\n",
    "                for j in 1:n_basefuncs # assemble only upper half\n",
    "                    Ke[i,j] += (ɛC ⊡ ɛ[j]) * dΩ # can only assign to parent of the Symmetric wrapper\n",
    "                end\n",
    "            end\n",
    "        end\n",
    "        \n",
    "        for face in 1:nfaces(cell)\n",
    "            if onboundary(cell, face) && (cellcount, face) ∈ getfaceset(grid, \"right\")\n",
    "                reinit!(facevalues, cell, face)\n",
    "                for q_point in 1:getnquadpoints(facevalues)\n",
    "                    dΓ = getdetJdV(facevalues, q_point)\n",
    "                    for i in 1:n_basefuncs\n",
    "                        δu = shape_value(facevalues, q_point, i)\n",
    "                        fe[i] += (δu ⋅ t) * dΓ\n",
    "                    end\n",
    "                end\n",
    "            end\n",
    "        end\n",
    "        global_dofs = celldofs(cell)\n",
    "        assemble!(assembler, global_dofs, fe, Ke)\n",
    "        end # timer\n",
    "    end\n",
    "    return K, f\n",
    "end;"
   ]
  },
  {
   "cell_type": "code",
   "execution_count": null,
   "metadata": {},
   "outputs": [],
   "source": [
    "reset_timer!(to)\n",
    "K, f = doassemble(cellvalues, facevalues, K, grid, dh, C);\n",
    "print_timer(to; linechars = :ascii)"
   ]
  },
  {
   "cell_type": "code",
   "execution_count": null,
   "metadata": {},
   "outputs": [],
   "source": [
    "# Modify K and f such that K \\ f gives correct boundary conditions\n",
    "@time apply!(K, f, dbcs)"
   ]
  },
  {
   "cell_type": "code",
   "execution_count": null,
   "metadata": {},
   "outputs": [],
   "source": [
    "@time u = K \\ f;"
   ]
  },
  {
   "cell_type": "code",
   "execution_count": null,
   "metadata": {},
   "outputs": [],
   "source": [
    "# Save file\n",
    "vtkfile = vtk_grid(\"cantilever\", dh)\n",
    "vtkfile = vtk_point_data(vtkfile, dh, u)\n",
    "vtk_save(vtkfile)"
   ]
  },
  {
   "cell_type": "code",
   "execution_count": null,
   "metadata": {},
   "outputs": [],
   "source": [
    "if hex==true && order == 1\n",
    "    maximum(u)  ≈ 1.788751514858337\n",
    "end\n"
   ]
  }
 ],
 "metadata": {
  "kernelspec": {
   "display_name": "Julia 0.6.0-rc2",
   "language": "julia",
   "name": "julia-0.6"
  },
  "language_info": {
   "file_extension": ".jl",
   "mimetype": "application/julia",
   "name": "julia",
   "version": "0.6.0"
  }
 },
 "nbformat": 4,
 "nbformat_minor": 1
}
{
 "cells": [
  {
   "cell_type": "markdown",
   "metadata": {},
   "source": [
    "## Cantilever beam with a traction load on one side"
   ]
  },
  {
   "cell_type": "code",
   "execution_count": null,
   "metadata": {},
   "outputs": [],
   "source": [
    "# ![cant.png](figures/cant.png)"
   ]
  },
  {
   "cell_type": "code",
   "execution_count": null,
   "metadata": {},
   "outputs": [],
   "source": [
    "using JuAFEM\n",
    "using Tensors\n",
    "using TimerOutputs\n",
    "using UnicodePlots\n",
    "const to = TimerOutput();"
   ]
  },
  {
   "cell_type": "code",
   "execution_count": null,
   "metadata": {},
   "outputs": [],
   "source": [
    "#Parameters to change:\n",
    "hex = false\n",
    "order = 2\n",
    "\n",
    "geoshape = hex ? Hexahedron : Tetrahedron\n",
    "refshape = hex ? RefCube    : RefTetrahedron\n",
    "quadorder = order==1 ? 2 : 3"
   ]
  },
  {
   "cell_type": "code",
   "execution_count": null,
   "metadata": {},
   "outputs": [],
   "source": [
    "const dim = 3\n",
    "corner1 = Vec{dim}((0.0, 0.0, 0.0))\n",
    "corner2 = Vec{dim}((10.0, 1.0, 1.0))\n",
    "grid = generate_grid(geoshape, (60, 6, 6), corner1, corner2);"
   ]
  },
  {
   "cell_type": "code",
   "execution_count": null,
   "metadata": {},
   "outputs": [],
   "source": [
    "# Interpolations and values\n",
    "interpolation_space = Lagrange{dim, refshape, order}()\n",
    "geometric_interpolation = JuAFEM.default_interpolation(geoshape)\n",
    "quadrature_rule = QuadratureRule{dim, refshape}(quadorder)\n",
    "cellvalues = CellVectorValues(quadrature_rule, interpolation_space, geometric_interpolation);\n",
    "facevalues = FaceVectorValues(QuadratureRule{dim-1, refshape}(quadorder), interpolation_space, geometric_interpolation);"
   ]
  },
  {
   "cell_type": "code",
   "execution_count": null,
   "metadata": {},
   "outputs": [],
   "source": [
    "# DofHandler\n",
    "dh = DofHandler(grid)\n",
    "push!(dh, :u, dim, interpolation_space) # Add a displacement field\n",
    "close!(dh)"
   ]
  },
  {
   "cell_type": "code",
   "execution_count": null,
   "metadata": {},
   "outputs": [],
   "source": [
    "@time K = create_symmetric_sparsity_pattern(dh); # assemble only upper half since it is symmetric\n",
    "fill!(K.data.nzval, 1.0);\n",
    "spy(K.data)"
   ]
  },
  {
   "cell_type": "code",
   "execution_count": null,
   "metadata": {},
   "outputs": [],
   "source": [
    "# Boundaryconditions\n",
    "dbcs = ConstraintHandler(dh)\n",
    "# Add a homogenoush boundary condition on the \"clamped\" edge\n",
    "dbc = Dirichlet(:u, getfaceset(grid, \"left\"), (x,t) -> [0.0, 0.0, 0.0], collect(1:dim))\n",
    "add!(dbcs, dbc)\n",
    "close!(dbcs)\n",
    "t = 0.0\n",
    "update!(dbcs, t)"
   ]
  },
  {
   "cell_type": "code",
   "execution_count": null,
   "metadata": {},
   "outputs": [],
   "source": [
    "# Create the stiffness tensor\n",
    "E = 200e9\n",
    "ν = 0.3\n",
    "λ = E*ν / ((1+ν) * (1 - 2ν))\n",
    "μ = E / (2(1+ν))\n",
    "δ(i,j) = i == j ? 1.0 : 0.0\n",
    "g(i,j,k,l) = λ*δ(i,j)*δ(k,l) + μ*(δ(i,k)*δ(j,l) + δ(i,l)*δ(j,k))\n",
    "C = SymmetricTensor{4, dim}(g);"
   ]
  },
  {
   "cell_type": "code",
   "execution_count": null,
   "metadata": {},
   "outputs": [],
   "source": [
    "function doassemble(cellvalues::CellVectorValues{dim}, facevalues::FaceVectorValues{dim}, \n",
    "                         K::AbstractMatrix, grid::Grid, dh::DofHandler, C::SymmetricTensor{4, dim}) where {dim}\n",
    "\n",
    "    \n",
    "    f = zeros(ndofs(dh))\n",
    "    assembler = start_assemble(K, f)\n",
    "    \n",
    "    n_basefuncs = getnbasefunctions(cellvalues)\n",
    "\n",
    "    fe = zeros(n_basefuncs) # Local force vector\n",
    "    Ke = zeros(n_basefuncs, n_basefuncs) # Local stiffness mastrix\n",
    "    \n",
    "    t = Vec{3}((0.0, 1e8, 0.0)) # Traction vector\n",
    "    b = Vec{3}((0.0, 0.0, 0.0)) # Body force\n",
    "    ɛ = [zero(SymmetricTensor{2, dim}) for i in 1:n_basefuncs]\n",
    "    @inbounds for (cellcount, cell) in enumerate(CellIterator(dh))\n",
    "        @timeit to \"assem\" begin\n",
    "        fill!(Ke, 0)\n",
    "        fill!(fe, 0)\n",
    "        \n",
    "        reinit!(cellvalues, cell)\n",
    "        for q_point in 1:getnquadpoints(cellvalues)\n",
    "            for i in 1:n_basefuncs\n",
    "                ɛ[i] = symmetric(shape_gradient(cellvalues, q_point, i)) \n",
    "            end\n",
    "            dΩ = getdetJdV(cellvalues, q_point)\n",
    "            for i in 1:n_basefuncs\n",
    "                δu = shape_value(cellvalues, q_point, i)\n",
    "                fe[i] += (δu ⋅ b) * dΩ\n",
    "                ɛC = ɛ[i] ⊡ C\n",
    "                for j in 1:n_basefuncs # assemble only upper half\n",
    "                    Ke[i,j] += (ɛC ⊡ ɛ[j]) * dΩ # can only assign to parent of the Symmetric wrapper\n",
    "                end\n",
    "            end\n",
    "        end\n",
    "        \n",
    "        for face in 1:nfaces(cell)\n",
    "            if onboundary(cell, face) && (cellcount, face) ∈ getfaceset(grid, \"right\")\n",
    "                reinit!(facevalues, cell, face)\n",
    "                for q_point in 1:getnquadpoints(facevalues)\n",
    "                    dΓ = getdetJdV(facevalues, q_point)\n",
    "                    for i in 1:n_basefuncs\n",
    "                        δu = shape_value(facevalues, q_point, i)\n",
    "                        fe[i] += (δu ⋅ t) * dΓ\n",
    "                    end\n",
    "                end\n",
    "            end\n",
    "        end\n",
    "        global_dofs = celldofs(cell)\n",
    "        assemble!(assembler, global_dofs, fe, Ke)\n",
    "        end # timer\n",
    "    end\n",
    "    return K, f\n",
    "end;"
   ]
  },
  {
   "cell_type": "code",
   "execution_count": null,
   "metadata": {},
   "outputs": [],
   "source": [
    "reset_timer!(to)\n",
    "K, f = doassemble(cellvalues, facevalues, K, grid, dh, C);\n",
    "print_timer(to; linechars = :ascii)"
   ]
  },
  {
   "cell_type": "code",
   "execution_count": null,
   "metadata": {},
   "outputs": [],
   "source": [
    "# Modify K and f such that K \\ f gives correct boundary conditions\n",
    "@time apply!(K, f, dbcs)"
   ]
  },
  {
   "cell_type": "code",
   "execution_count": null,
   "metadata": {},
   "outputs": [],
   "source": [
    "@time u = K \\ f;"
   ]
  },
  {
   "cell_type": "code",
   "execution_count": null,
   "metadata": {},
   "outputs": [],
   "source": [
    "# Save file\n",
    "vtkfile = vtk_grid(\"cantilever\", dh)\n",
    "vtkfile = vtk_point_data(vtkfile, dh, u)\n",
    "vtk_save(vtkfile)"
   ]
  },
  {
   "cell_type": "code",
   "execution_count": null,
   "metadata": {},
   "outputs": [],
   "source": [
    "if hex==true && order == 1\n",
    "    maximum(u)  ≈ 1.788751514858337\n",
    "end\n"
   ]
  }
 ],
 "metadata": {
  "kernelspec": {
   "display_name": "Julia 0.6.0-rc2",
   "language": "julia",
   "name": "julia-0.6"
  },
  "language_info": {
   "file_extension": ".jl",
   "mimetype": "application/julia",
   "name": "julia",
   "version": "0.6.0"
  }
 },
 "nbformat": 4,
 "nbformat_minor": 1
}