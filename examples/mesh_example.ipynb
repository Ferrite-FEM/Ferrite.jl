{
 "cells": [
  {
   "cell_type": "markdown",
   "metadata": {},
   "source": [
    "# Mesh example\n",
    "### Example of how to use the mesh functionality in JuAFEM using a Taylor-Hood element for incompressible elasticity"
   ]
  },
  {
   "cell_type": "code",
   "execution_count": 1,
   "metadata": {
    "collapsed": false
   },
   "outputs": [],
   "source": [
    "include(\"../src/JuAFEM.jl\")\n",
    "using JuAFEM"
   ]
  },
  {
   "cell_type": "code",
   "execution_count": 14,
   "metadata": {
    "collapsed": false
   },
   "outputs": [
    {
     "data": {
      "text/plain": [
       "main (generic function with 1 method)"
      ]
     },
     "execution_count": 14,
     "metadata": {},
     "output_type": "execute_result"
    }
   ],
   "source": [
    "function main()\n",
    "    # Set up a mesh\n",
    "    xs = [0.0, 0.0] # Start coordinate\n",
    "    xe = [2.0, 2.0] # End coordinate\n",
    "    nel = [10,10] # Number of elements in each dir.\n",
    "    \n",
    "    # Generate a mesh object\n",
    "    fe_m = FEMesh(Dim{2},JuAFEM.Triangle(),xs,xe,nel)\n",
    "    \n",
    "    # Set up two fields with different FE approximation order\n",
    "    # Quadratic displacement\n",
    "    u_fs = Lagrange{2, JuAFEM.Triangle, 2}()\n",
    "    u_qr = get_gaussrule(Dim{2}, JuAFEM.Triangle(), 2)\n",
    "    u_fe_v = FEValues(Float64, u_qr, u_fs)\n",
    "    u_field = FEField(u_fs,2,\"displacement\")\n",
    "    \n",
    "    # Linear pressure\n",
    "    p_fs = Lagrange{2, JuAFEM.Triangle, 1}()\n",
    "    p_qr = get_gaussrule(Dim{2}, JuAFEM.Triangle(), 1)\n",
    "    p_fe_v = FEValues(Float64, p_qr, p_fs)\n",
    "    p_field = FEField(p_fs,1,\"pressure\")\n",
    "    \n",
    "    fields = [u_field,p_field]\n",
    "    \n",
    "    # Generate a FEDofs object\n",
    "    fe_d = FEDofs(fe_m,fields)\n",
    "    \n",
    "    # Material parameters\n",
    "    G = 10.0 # Shear modulus\n",
    "    \n",
    "    \n",
    "    # Since this problem is linear we can just assemble the stiffness matrix and solve\n",
    "    _K = start_assemble() # Assembler\n",
    "    \n",
    "    for el in 1:JuAFEM.get_number_of_elements(fe_m)\n",
    "        return get_element_dofs(fe_d,1)\n",
    "        # Get node coordinates for first field, and reinitiate its fe_values\n",
    "        x_u = get_node_coordinates(fe_d,el,1)\n",
    "        reinit!(get_fe_values(fe_d,1),x_u)\n",
    "        \n",
    "        # Get node coordinates for second field, and reinitiate its fe_values\n",
    "        x_p = get_node_coordinates(fe_d,el,2)\n",
    "        reinit!(get_fe_values(fe_d,2),x_p)\n",
    "        \n",
    "        S = [Tensor{2,2}(zeros(2,2)) for i in 1:n_basefunc_u]\n",
    "        #C = ...\n",
    "        for q_point in 1:length(JuAFEM.points(get_quadrule(u_fe_v)))\n",
    "            I = Tensor{2,2}(eye(2))\n",
    "            B_dev_sym = function_symmetric_gradient(u_fe_v) - 1/3 * trace(function_symmetric_gradient(u_fe_v)) * I\n",
    "            \n",
    "            for iu in 1:n_basefunc_u\n",
    "                S[iu] += 2 * G * dcont(B_dev_sym,B_dev_sym)\n",
    "            end\n",
    "            \n",
    "            for ip in 1:n_basefunc_p\n",
    "                \n",
    "            end\n",
    "        end\n",
    "        assemble(m,_K,ke)\n",
    "    end\n",
    "    K = end_assemble(_K)\n",
    "    \n",
    "    a,fb = solveq(K,f,bc)\n",
    "    \n",
    "    # Write to VTK\n",
    "end"
   ]
  },
  {
   "cell_type": "code",
   "execution_count": 15,
   "metadata": {
    "collapsed": false
   },
   "outputs": [
    {
     "data": {
      "text/plain": [
       "9-element Array{Int64,1}:\n",
       "  1\n",
       "  2\n",
       "  4\n",
       "  5\n",
       " 34\n",
       " 35\n",
       "  3\n",
       "  6\n",
       " 36"
      ]
     },
     "execution_count": 15,
     "metadata": {},
     "output_type": "execute_result"
    }
   ],
   "source": [
    "main()"
   ]
  },
  {
   "cell_type": "code",
   "execution_count": null,
   "metadata": {
    "collapsed": true
   },
   "outputs": [],
   "source": []
  }
 ],
 "metadata": {
  "kernelspec": {
   "display_name": "Julia 0.4.2",
   "language": "julia",
   "name": "julia-0.4"
  },
  "language_info": {
   "file_extension": ".jl",
   "mimetype": "application/julia",
   "name": "julia",
   "version": "0.4.2"
  }
 },
 "nbformat": 4,
 "nbformat_minor": 0
}
