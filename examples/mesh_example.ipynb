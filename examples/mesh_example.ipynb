{
 "cells": [
  {
   "cell_type": "markdown",
   "metadata": {},
   "source": [
    "# Mesh example\n",
    "### Example of how to use the mesh functionality in JuAFEM using a Taylor-Hood element for incompressible elasticity"
   ]
  },
  {
   "cell_type": "code",
   "execution_count": 1,
   "metadata": {
    "collapsed": false
   },
   "outputs": [],
   "source": [
    "include(\"../src/JuAFEM.jl\")\n",
    "using JuAFEM"
   ]
  },
  {
   "cell_type": "code",
   "execution_count": 2,
   "metadata": {
    "collapsed": false
   },
   "outputs": [
    {
     "data": {
      "text/plain": [
       "main (generic function with 1 method)"
      ]
     },
     "execution_count": 2,
     "metadata": {},
     "output_type": "execute_result"
    }
   ],
   "source": [
    "function main()\n",
    "    # Set up a mesh\n",
    "    xs = [0.0, 0.0] # Start coordinate\n",
    "    xe = [2.0, 2.0] # End coordinate\n",
    "    nel = [10,10] # Number of elements in each dir.\n",
    "    \n",
    "    # Generate a mesh object\n",
    "    fe_m = FEMesh(Dim{2},JuAFEM.Triangle(),xs,xe,nel)\n",
    "    \n",
    "    # Set up two fields with different FE approximation order\n",
    "    # Quadratic displacement\n",
    "    u_fs = Lagrange{2, JuAFEM.Triangle, 2}()\n",
    "    u_qr = get_gaussrule(Dim{2}, JuAFEM.Triangle(), 2)\n",
    "    u_fe_v = FEValues(Float64, u_qr, u_fs)\n",
    "    u_field = FEField(u_fs,2,\"displacement\")\n",
    "    \n",
    "    # Linear pressure\n",
    "    p_fs = Lagrange{2, JuAFEM.Triangle, 1}()\n",
    "    p_qr = get_gaussrule(Dim{2}, JuAFEM.Triangle(), 2)\n",
    "    p_fe_v = FEValues(Float64, p_qr, p_fs)\n",
    "    p_field = FEField(p_fs,1,\"pressure\")\n",
    "    \n",
    "    fields = [u_field,p_field]\n",
    "    \n",
    "    # Generate a FEDofs object\n",
    "    fe_d = FEDofs(fe_m,fields)\n",
    "    return fe_d\n",
    "    \n",
    "    # Material parameters\n",
    "    G = 10.0 # Shear modulus\n",
    "    \n",
    "    \n",
    "    # Since this problem is linear we can just assemble the stiffness matrix and solve\n",
    "    _K = start_assemble() # Assembler\n",
    "    \n",
    "    # Initializing stuff\n",
    "    Ke = zeros(15,15)\n",
    "    D = G * diagm([2.0,2.0,1.0]) # Material stiffness\n",
    "    Bϵ = zeros(3,12)\n",
    "    B_div = zeros(1,12)\n",
    "    B_dev = zeros(3,12)\n",
    "    \n",
    "    for el in 1:get_number_of_elements(fe_m)\n",
    "        # Get node coordinates for first field, and reinitiate its fe_values\n",
    "        x_u = get_node_coordinates(fe_d,el,1)\n",
    "        reinit!(u_fe_v,x_u)\n",
    "        \n",
    "        # Get node coordinates for second field, and reinitiate its fe_values\n",
    "        x_p = get_node_coordinates(fe_d,el,2)\n",
    "        reinit!(p_fe_v,x_p)\n",
    "        \n",
    "        m = get_element_dofs(fe_d, el) # Global element dofs\n",
    "        m_u = get_element_field_dofs(fe_d,el,1) # Global element field dofs\n",
    "        m_p = get_element_field_dofs(fe_d,el,2)\n",
    "        \n",
    "        fill!(Ke,0.0) # Reset\n",
    "        for q_point in 1:length(JuAFEM.points(get_quadrule(u_fe_v)))\n",
    "            dNdxT =  shape_gradient(u_fe_v,q_point)\n",
    "            NT = shape_value(p_fe_v,q_point)\n",
    "            dNdx = reinterpret(Float64,dNdxT,(2,6))\n",
    "            N = reinterpret(Float64,NT,(length(NT),))\n",
    "\n",
    "            Bϵ[[1,3],1:2:11] = dNdx\n",
    "            Bϵ[[3,2],2:2:12] = dNdx\n",
    "            B_div[:] = dNdx[:]\n",
    "            B_dev[:] = Bϵ - 1/3 * [1.0,1.0,0.0] * B_div\n",
    "            \n",
    "            \n",
    "            S = Bϵ' * D * B_dev * detJdV(u_fe_v,q_point)\n",
    "            C = B_div' * N' * detJdV(u_fe_v,q_point)\n",
    "            \n",
    "            Ke[1:12,1:12] += S\n",
    "            Ke[1:12,13:15] -= C\n",
    "            Ke[13:15,1:12] -= C'\n",
    "        end\n",
    "        println(size(Ke))\n",
    "        println(size(m))\n",
    "        assemble(m,_K,Ke) # Assemble element stiffness\n",
    "    end\n",
    "    K = end_assemble(_K)\n",
    "    return K\n",
    "    a,fb = solveq(K,f,bc)\n",
    "    \n",
    "    # Write to VTK\n",
    "end"
   ]
  },
  {
   "cell_type": "code",
   "execution_count": 3,
   "metadata": {
    "collapsed": false
   },
   "outputs": [
    {
     "data": {
      "text/plain": [
       "JuAFEM.FEDofs(JuAFEM.FEMesh{2,Float64}([[0.0,0.0],[0.2,0.0],[0.4,0.0],[0.6,0.0],[0.8,0.0],[1.0,0.0],[1.2,0.0],[1.4,0.0],[1.6,0.0],[1.8,0.0]  …  [0.2,2.0],[0.4,2.0],[0.6,2.0],[0.8,2.0],[1.0,2.0],[1.2,2.0],[1.4,2.0],[1.6,2.0],[1.8,2.0],[2.0,2.0]],3x200 Array{Int64,2}:\n",
       "  1   2   2   3   3   4   4   5   5   6  …  107  107  108  108  109  109  110\n",
       "  2  13   3  14   4  15   5  16   6  17     118  108  119  109  120  110  121\n",
       " 12  12  13  13  14  14  15  15  16  16     117  118  118  119  119  120  120,Array{T,1}[[JuAFEM.FEBoundary{1}(2x10 Array{Int64,2}:\n",
       " 1  2  3  4  5  6  7  8   9  10\n",
       " 2  3  4  5  6  7  8  9  10  11),JuAFEM.FEBoundary{1}(2x10 Array{Int64,2}:\n",
       " 11  22  33  44  55  66  77  88   99  110\n",
       " 22  33  44  55  66  77  88  99  110  121),JuAFEM.FEBoundary{1}(2x10 Array{Int64,2}:\n",
       " 111  112  113  114  115  116  117  118  119  120\n",
       " 112  113  114  115  116  117  118  119  120  121),JuAFEM.FEBoundary{1}(2x10 Array{Int64,2}:\n",
       "  1  12  23  34  45  56  67  78   89  100\n",
       " 12  23  34  45  56  67  78  89  100  111)],[JuAFEM.FEBoundary{0}([1]),JuAFEM.FEBoundary{0}([11]),JuAFEM.FEBoundary{0}([111]),JuAFEM.FEBoundary{0}([121])]]),3x121 Array{Int64,2}:\n",
       " 1  4  7  10  13  16  19  22  25  28  …  343  346  349  352  355  358  361\n",
       " 2  5  8  11  14  17  20  23  26  29     344  347  350  353  356  359  362\n",
       " 3  6  9  12  15  18  21  24  27  30     345  348  351  354  357  360  363,[[1,2,4,5,6,7,9,10,11,12,14,15],[3,8,13]],[JuAFEM.FEField(JuAFEM.Lagrange{2,JuAFEM.Triangle,2}(),2,\"displacement\"),JuAFEM.FEField(JuAFEM.Lagrange{2,JuAFEM.Triangle,1}(),1,\"pressure\")])"
      ]
     },
     "execution_count": 3,
     "metadata": {},
     "output_type": "execute_result"
    }
   ],
   "source": [
    "out = main()"
   ]
  },
  {
   "cell_type": "code",
   "execution_count": 4,
   "metadata": {
    "collapsed": false
   },
   "outputs": [
    {
     "data": {
      "text/plain": [
       "2-element Array{Array{Int64,1},1}:\n",
       " [1,2,4,5,6,7,9,10,11,12,14,15]\n",
       " [3,8,13]                      "
      ]
     },
     "execution_count": 4,
     "metadata": {},
     "output_type": "execute_result"
    }
   ],
   "source": [
    "out.fieldindex"
   ]
  },
  {
   "cell_type": "code",
   "execution_count": null,
   "metadata": {
    "collapsed": true
   },
   "outputs": [],
   "source": []
  }
 ],
 "metadata": {
  "kernelspec": {
   "display_name": "Julia 0.4.2",
   "language": "julia",
   "name": "julia-0.4"
  },
  "language_info": {
   "file_extension": ".jl",
   "mimetype": "application/julia",
   "name": "julia",
   "version": "0.4.2"
  }
 },
 "nbformat": 4,
 "nbformat_minor": 0
}
