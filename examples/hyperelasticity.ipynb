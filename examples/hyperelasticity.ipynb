{
 "cells": [
  {
   "cell_type": "markdown",
   "metadata": {},
   "source": [
    "## Hyperelasticity "
   ]
  },
  {
   "cell_type": "markdown",
   "metadata": {},
   "source": [
    "![hyperelasticity.png](figures/hyperelasticity.png)"
   ]
  },
  {
   "cell_type": "code",
   "execution_count": 2,
   "metadata": {},
   "outputs": [],
   "source": [
    "using JuAFEM\n",
    "using Tensors\n",
    "using KrylovMethods\n",
    "using TimerOutputs\n",
    "import ProgressMeter\n",
    "using ForwardDiff\n",
    "using DiffResults\n",
    "const ∇ = Tensors.gradient;"
   ]
  },
  {
   "cell_type": "markdown",
   "metadata": {},
   "source": [
    "### NeoHook Material"
   ]
  },
  {
   "cell_type": "code",
   "execution_count": 3,
   "metadata": {},
   "outputs": [],
   "source": [
    "immutable NeoHook{T}\n",
    "    μ::T\n",
    "    λ::T\n",
    "end\n",
    "\n",
    "# Potential, only needed when solving with AD\n",
    "function Ψ(mp::NeoHook, E)\n",
    "    C = 2E + one(E)\n",
    "    Ic = trace(C)\n",
    "    J = sqrt(det(C))\n",
    "    lnJ = log(J)\n",
    "    return mp.μ/2 * (Ic - 3) - mp.μ * lnJ + mp.λ / 2 * lnJ^2\n",
    "end\n",
    "\n",
    "# Second Piola Kirchoff\n",
    "function compute_2nd_PK(mp::NeoHook, E)\n",
    "    I = one(E)\n",
    "    C = 2E + one(E)\n",
    "    invC = inv(C)\n",
    "    J = sqrt(det(C))\n",
    "    return mp.μ *(I - invC) + mp.λ * log(J) * invC\n",
    "end\n",
    "\n",
    "# Tensors.jl AD to compute the ∂S∂E\n",
    "function constitutive_driver(mp::NeoHook, E)\n",
    "    ∂S∂E, SPK = ∇(E -> compute_2nd_PK(mp, E), E, :all)\n",
    "    return SPK, ∂S∂E\n",
    "end;"
   ]
  },
  {
   "cell_type": "markdown",
   "metadata": {},
   "source": [
    "## Assembler routines"
   ]
  },
  {
   "cell_type": "code",
   "execution_count": 4,
   "metadata": {},
   "outputs": [],
   "source": [
    "# Loop over all cells \n",
    "function do_assemble!{dim}(K, f, grid::Grid{dim}, dh::DofHandler, cv, fv, mp, u)\n",
    "    n = ndofs_per_cell(dh)\n",
    "    Ke = zeros(n, n)\n",
    "    fe = zeros(n)\n",
    "\n",
    "    assembler = start_assemble(K, f)\n",
    "\n",
    "    # loop over all cells in the grid\n",
    "    @timeit \"assemble\" for cell in CellIterator(dh)\n",
    "        # reset\n",
    "        fill!(Ke, 0)\n",
    "        fill!(fe, 0)\n",
    "\n",
    "        global_dofs = celldofs(cell)\n",
    "        ue = u[global_dofs] # element dofs\n",
    "        @timeit \"inner assemble\" assemble_element!(Ke, fe, cell, cv, fv, mp, ue)\n",
    "\n",
    "        assemble!(assembler, global_dofs, fe, Ke)\n",
    "    end\n",
    "end;"
   ]
  },
  {
   "cell_type": "code",
   "execution_count": 5,
   "metadata": {},
   "outputs": [],
   "source": [
    "# Assembles the contribution from the cell to ke and fe\n",
    "function assemble_element!(ke, fe, cell, cv, fv, mp, ue)\n",
    "    b = Vec{3}((0.0, -0.5, 0.0))\n",
    "    t = Vec{3}((0.1, 0.0, 0.0))\n",
    "    ndofs = getnbasefunctions(cv)\n",
    "    reinit!(cv, cell)\n",
    "    fill!(ke, 0.0)\n",
    "    fill!(fe, 0.0)\n",
    "    δE = Vector{SymmetricTensor{2, 3, eltype(ue), 6}}(ndofs)\n",
    "\n",
    "    for qp in 1:getnquadpoints(cv)\n",
    "        ∇u = function_gradient(cv, qp, ue)\n",
    "        dΩ = getdetJdV(cv, qp)\n",
    "\n",
    "        # strain and stress + tangent\n",
    "        F = one(∇u) + ∇u\n",
    "        E = symmetric(1/2 * (F' ⋅ F - one(F)))\n",
    "\n",
    "        S, ∂S∂E = constitutive_driver(mp, E)\n",
    "\n",
    "        # Hoist computations of δE\n",
    "        for i in 1:ndofs\n",
    "            δFi = shape_gradient(cv, qp, i)\n",
    "            δE[i] = symmetric(1/2*(δFi'⋅F + F'⋅δFi))\n",
    "        end\n",
    "\n",
    "        for i in 1:ndofs\n",
    "            δFi = shape_gradient(cv, qp, i)\n",
    "            δu = shape_value(cv, qp, i)\n",
    "            fe[i] += (δE[i] ⊡ S) * dΩ\n",
    "            fe[i] -= (δu ⋅ b) * dΩ\n",
    "            δE∂S∂E = δE[i] ⊡ ∂S∂E\n",
    "            S∇δu = S ⋅ δFi'\n",
    "            for j in 1:ndofs\n",
    "                δ∇uj = shape_gradient(cv, qp, j)\n",
    "                ke[i, j] += (δE∂S∂E ⊡ δE[j] + S∇δu ⊡ δ∇uj' ) * dΩ\n",
    "            end\n",
    "        end\n",
    "    end\n",
    "\n",
    "    for face in 1:nfaces(cell)\n",
    "        if onboundary(cell, face)\n",
    "            reinit!(fv, cell, face)\n",
    "            for q_point in 1:getnquadpoints(fv)\n",
    "                dΓ = getdetJdV(fv, q_point)\n",
    "                for i in 1:ndofs\n",
    "                    δu = shape_value(fv, q_point, i)\n",
    "                    fe[i] -= (δu ⋅ t) * dΓ\n",
    "                end\n",
    "            end\n",
    "        end\n",
    "    end\n",
    "end;"
   ]
  },
  {
   "cell_type": "markdown",
   "metadata": {},
   "source": [
    "### Assembler routines -- AD"
   ]
  },
  {
   "cell_type": "code",
   "execution_count": 6,
   "metadata": {},
   "outputs": [],
   "source": [
    "function do_assemble_AD!{dim}(K, f, grid::Grid{dim}, dh::DofHandler, cv, fv, mp, u)\n",
    "    n = ndofs_per_cell(dh)\n",
    "    Ke = zeros(n, n)\n",
    "    fe = zeros(n)\n",
    "\n",
    "    assembler = start_assemble(K, f)\n",
    "\n",
    "    hessian_result = DiffResults.HessianResult(fe)\n",
    "    hessian_config = ForwardDiff.HessianConfig(nothing, hessian_result, fe, ForwardDiff.Chunk(6))\n",
    "    \n",
    "    # loop over all cells in the grid\n",
    "    @timeit \"assemble\" for cell in CellIterator(dh)\n",
    "        global_dofs = celldofs(cell)\n",
    "        ue = u[global_dofs] # element dofs\n",
    "\n",
    "        ForwardDiff.hessian!(\n",
    "            hessian_result,\n",
    "            ue -> assemble_element(cell, cv, fv, mp, ue),\n",
    "            ue,\n",
    "            hessian_config)\n",
    "        \n",
    "         Ke = DiffResults.hessian(hessian_result)\n",
    "         fe = DiffResults.gradient(hessian_result)\n",
    "         assemble!(assembler, global_dofs, Ke, fe)\n",
    "    end\n",
    "    return\n",
    "end;"
   ]
  },
  {
   "cell_type": "code",
   "execution_count": 7,
   "metadata": {},
   "outputs": [],
   "source": [
    "function assemble_element(cell, cv, fv, mp, ue::Vector{T}) where {T}\n",
    "    b = Vec{3}((0.0, -0.5, 0.0))\n",
    "    t = Vec{3}((0.1, 0.0, 0.0))\n",
    "    ndofs = getnbasefunctions(cv)\n",
    "    reinit!(cv, cell)\n",
    "    ∫ΨdΩ = zero(T)\n",
    "    ∫budΩ = zero(T)\n",
    "    ∫tudΓ = zero(T)\n",
    "\n",
    "    for qp in 1:getnquadpoints(cv)\n",
    "        u  = function_value(cv, qp, ue)\n",
    "        ∇u = function_gradient(cv, qp, ue)\n",
    "        dΩ = getdetJdV(cv, qp)\n",
    "        F = one(∇u) + ∇u\n",
    "        E = symmetric(1/2 * (F' ⋅ F - one(F)))\n",
    "        ∫ΨdΩ += Ψ(mp, E) * dΩ\n",
    "        ∫budΩ += (b ⋅ u) * dΩ\n",
    "    end\n",
    "    for face in 1:nfaces(cell)\n",
    "        if onboundary(cell, face)\n",
    "            reinit!(fv, cell, face)\n",
    "            for qp in 1:getnquadpoints(fv)\n",
    "                dΓ = getdetJdV(fv, qp)\n",
    "                u = function_value(fv, qp, ue)\n",
    "                ∫tudΓ += (u ⋅ t) * dΓ\n",
    "            end\n",
    "        end\n",
    "    end\n",
    "    return ∫ΨdΩ - ∫budΩ - ∫tudΓ\n",
    "end;"
   ]
  },
  {
   "cell_type": "markdown",
   "metadata": {},
   "source": [
    "## Main solver routine"
   ]
  },
  {
   "cell_type": "code",
   "execution_count": 8,
   "metadata": {},
   "outputs": [
    {
     "data": {
      "text/plain": [
       "solve (generic function with 1 method)"
      ]
     },
     "execution_count": 8,
     "metadata": {},
     "output_type": "execute_result"
    }
   ],
   "source": [
    "function solve(; AD = false)\n",
    "    reset_timer!()\n",
    "\n",
    "    const dim = 3\n",
    "\n",
    "    # Generate a grid\n",
    "    N = 10\n",
    "    L = 1.0\n",
    "    left = zero(Vec{dim})\n",
    "    right = L * ones(Vec{dim})\n",
    "    grid = generate_grid(Tetrahedron, ntuple(x->N, dim), left, right)\n",
    "\n",
    "    # Material parameters\n",
    "    E = 10.0\n",
    "    ν = 0.3\n",
    "    μ = E / (2(1 + ν))\n",
    "    λ = (E * ν) / ((1 + ν) * (1 - 2ν))\n",
    "    mp = NeoHook(μ, λ)\n",
    "\n",
    "    # finite element base\n",
    "    ip = Lagrange{dim, RefTetrahedron, 1}()\n",
    "    qr = QuadratureRule{dim, RefTetrahedron}(1)\n",
    "    qr_face = QuadratureRule{dim-1, RefTetrahedron}(1)\n",
    "    cv = CellVectorValues(qr, ip)\n",
    "    fv = FaceVectorValues(qr_face, ip)\n",
    "\n",
    "    # DofHandler\n",
    "    dh = DofHandler(grid)\n",
    "    push!(dh, :u, dim) # Add a displacement field\n",
    "    close!(dh)\n",
    "\n",
    "    function rotation(X, t, θ = deg2rad(60.0))\n",
    "        x, y, z = X\n",
    "        return t * Vec{dim}(\n",
    "            (0.0,\n",
    "            L/2 - y + (y-L/2)*cos(θ) - (z-L/2)*sin(θ),\n",
    "            L/2 - z + (y-L/2)*sin(θ) + (z-L/2)*cos(θ)\n",
    "            ))\n",
    "    end\n",
    "\n",
    "    dbcs = ConstraintHandler(dh)\n",
    "    # Add a homogenoush boundary condition on the \"clamped\" edge\n",
    "    dbc = Dirichlet(:u, getfaceset(grid, \"right\"), (x,t) -> [0.0, 0.0, 0.0], collect(1:dim))\n",
    "    add!(dbcs, dbc)\n",
    "    dbc = Dirichlet(:u, getfaceset(grid, \"left\"), (x,t) -> rotation(x, t), collect(1:dim))\n",
    "    add!(dbcs, dbc)\n",
    "    close!(dbcs)\n",
    "    t = 0.5\n",
    "    update!(dbcs, t)\n",
    "\n",
    "    println(\"Analysis with \", length(grid.cells), \" elements\")\n",
    "\n",
    "    # pre-allocate\n",
    "    _ndofs = ndofs(dh)\n",
    "    un = zeros(_ndofs) # previous solution vector\n",
    "    u  = zeros(_ndofs)\n",
    "    Δu = zeros(_ndofs)\n",
    "\n",
    "    apply!(un, dbcs)\n",
    "\n",
    "    K = create_sparsity_pattern(dh)\n",
    "    f = zeros(_ndofs)\n",
    "\n",
    "    newton_itr = -1\n",
    "    NEWTON_TOL = 1e-8\n",
    "    prog = ProgressMeter.ProgressThresh(NEWTON_TOL, \"Solving:\")\n",
    "\n",
    "    while true; newton_itr += 1\n",
    "        u .= un .+ Δu\n",
    "        if AD\n",
    "            do_assemble_AD!(K, f, grid, dh, cv, fv, mp, u)\n",
    "        else\n",
    "            do_assemble!(K, f, grid, dh, cv, fv, mp, u)\n",
    "        end\n",
    "        normg = norm(f[JuAFEM.free_dofs(dbcs)])\n",
    "        apply_zero!(K, f, dbcs)\n",
    "        ProgressMeter.update!(prog, normg; showvalues = [(:iter, newton_itr)])\n",
    "\n",
    "        if normg < NEWTON_TOL\n",
    "            break\n",
    "        end\n",
    "\n",
    "        if newton_itr > 30\n",
    "            error(\"Reached maximum Newton iterations, aborting\")\n",
    "            break\n",
    "        end\n",
    "\n",
    "        @timeit \"linear solve\" ΔΔu, flag, relres, iter, resvec = cg(K, f; maxIter = 1000, tol = min(1e-3, normg))\n",
    "        @assert flag == 0\n",
    "\n",
    "        apply_zero!(ΔΔu, dbcs)\n",
    "        Δu .-= ΔΔu\n",
    "    end\n",
    "\n",
    "    # save the solution\n",
    "    @timeit \"export\" begin\n",
    "        vtkfile = vtk_grid(\"hyperelasticity\", dh)\n",
    "        vtk_point_data(vtkfile, dh, u)\n",
    "        vtk_save(vtkfile)\n",
    "    end\n",
    "\n",
    "    print_timer(linechars = :ascii)\n",
    "    return u\n",
    "end"
   ]
  },
  {
   "cell_type": "code",
   "execution_count": 12,
   "metadata": {},
   "outputs": [
    {
     "name": "stdout",
     "output_type": "stream",
     "text": [
      "Analysis with 5000 elements\n"
     ]
    },
    {
     "name": "stderr",
     "output_type": "stream",
     "text": [
      "\u001b[32mSolving: (thresh = 1e-08, value = 0.0163924)\u001b[39m\u001b[34m\n",
      "\u001b[K\u001b[A"
     ]
    },
    {
     "name": "stdout",
     "output_type": "stream",
     "text": [
      " \u001b[1m---------------------------------------------------------------------------\u001b[22m\n",
      " \u001b[1m                           \u001b[22m        Time                   Allocations      \n",
      "                            ----------------------   -----------------------\n",
      "      Tot / % measured:          351ms / 83.3%           84.3MiB / 38.5%    \n",
      "\n",
      " Section            ncalls     time   %tot     avg     alloc   %tot      avg\n",
      " ---------------------------------------------------------------------------\n",
      " assemble                6    170ms  58.1%  28.3ms   26.1MiB  80.4%  4.35MiB\n",
      "   inner assemble    30.0k    108ms  36.9%  3.59μs   19.2MiB  59.2%        -\n",
      " linear solve            5   76.3ms  26.1%  15.3ms    683KiB  2.05%   137KiB\n",
      " export                  1   46.1ms  15.8%  46.1ms   5.71MiB  17.6%  5.71MiB\n",
      " \u001b[1m---------------------------------------------------------------------------\u001b[22m"
     ]
    },
    {
     "name": "stderr",
     "output_type": "stream",
     "text": [
      "\u001b[32mSolving: Time: 0:00:00 (6 iterations)\u001b[39m\u001b[34m\n",
      "  iter:  5\u001b[39m\n"
     ]
    }
   ],
   "source": [
    "u = solve();"
   ]
  },
  {
   "cell_type": "code",
   "execution_count": 14,
   "metadata": {},
   "outputs": [
    {
     "name": "stdout",
     "output_type": "stream",
     "text": [
      "Analysis with 5000 elements\n"
     ]
    },
    {
     "name": "stderr",
     "output_type": "stream",
     "text": [
      "\u001b[32mSolving: (thresh = 1e-08, value = 0.773794)\u001b[39m\u001b[34m\n",
      "\u001b[32mSolving: (thresh = 1e-08, value = 0.202129)\u001b[39m\u001b[34m\n",
      "\u001b[32mSolving: (thresh = 1e-08, value = 0.0163924)\u001b[39m\u001b[34m\n",
      "\u001b[32mSolving: (thresh = 1e-08, value = 0.000384975)\u001b[39m\u001b[34m\n",
      "\u001b[32mSolving: (thresh = 1e-08, value = 5.1712e-07)\u001b[39m\u001b[34m\n",
      "\u001b[K\u001b[A"
     ]
    },
    {
     "name": "stdout",
     "output_type": "stream",
     "text": [
      " \u001b[1m-----------------------------------------------------------------------\u001b[22m\n",
      " \u001b[1m                       \u001b[22m        Time                   Allocations      \n",
      "                        ----------------------   -----------------------\n",
      "    Tot / % measured:        2.28s / 97.6%            130MiB / 59.9%    \n",
      "\n",
      " Section        ncalls     time   %tot     avg     alloc   %tot      avg\n",
      " -----------------------------------------------------------------------\n",
      " assemble            6    2.12s  95.0%   353ms   71.4MiB  91.8%  11.9MiB\n",
      " linear solve        5   70.7ms  3.17%  14.1ms    683KiB  0.86%   137KiB\n",
      " export              1   41.2ms  1.85%  41.2ms   5.71MiB  7.34%  5.71MiB\n",
      " \u001b[1m-----------------------------------------------------------------------\u001b[22m"
     ]
    },
    {
     "name": "stderr",
     "output_type": "stream",
     "text": [
      "\u001b[32mSolving: Time: 0:00:02 (6 iterations)\u001b[39m\u001b[34m\n",
      "  iter:  5\u001b[39m\n"
     ]
    }
   ],
   "source": [
    "# This has a quite long compilation time (~40 seconds)\n",
    "u_AD = solve(AD=true);"
   ]
  },
  {
   "cell_type": "code",
   "execution_count": 15,
   "metadata": {},
   "outputs": [
    {
     "name": "stdout",
     "output_type": "stream",
     "text": [
      "Hyperelasticity passed!\n"
     ]
    }
   ],
   "source": [
    "Base.Test.@test u_AD ≈ u\n",
    "Base.Test.@test norm(u) ≈ 4.870833706518008\n",
    "println(\"Hyperelasticity passed!\")"
   ]
  }
 ],
 "metadata": {
  "kernelspec": {
   "display_name": "Julia 0.6.2",
   "language": "julia",
   "name": "julia-0.6"
  },
  "language_info": {
   "file_extension": ".jl",
   "mimetype": "application/julia",
   "name": "julia",
   "version": "0.6.2"
  }
 },
 "nbformat": 4,
 "nbformat_minor": 2
}
