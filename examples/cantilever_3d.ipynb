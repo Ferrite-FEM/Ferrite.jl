{
 "cells": [
  {
   "cell_type": "code",
   "execution_count": null,
   "metadata": {
    "collapsed": false
   },
   "outputs": [],
   "source": [
    "using JuAFEM\n",
    "using ContMechTensors"
   ]
  },
  {
   "cell_type": "code",
   "execution_count": null,
   "metadata": {
    "collapsed": true
   },
   "outputs": [],
   "source": [
    "import Base.flatten"
   ]
  },
  {
   "cell_type": "code",
   "execution_count": null,
   "metadata": {
    "collapsed": false,
    "scrolled": true
   },
   "outputs": [],
   "source": [
    "const dim = 3\n",
    "const grid = generate_grid(Tetrahedron, (40,15,15), Vec{dim}((0.0, -1.0, -1.0)), Vec{dim}((10.0, 1.0, 1.0)));\n",
    "nnodes = getnnodes(grid)\n",
    "ncells = getncells(grid)"
   ]
  },
  {
   "cell_type": "code",
   "execution_count": null,
   "metadata": {
    "collapsed": false
   },
   "outputs": [],
   "source": [
    "const interpolation_space = Lagrange{dim, RefTetrahedron, 1}()\n",
    "const quadrature_rule = QuadratureRule{dim, RefTetrahedron}(1)\n",
    "const cellvalues = CellVectorValues(quadrature_rule, interpolation_space);\n",
    "const facevalues = BoundaryVectorValues(QuadratureRule{dim-1, RefTetrahedron}(1), interpolation_space);"
   ]
  },
  {
   "cell_type": "code",
   "execution_count": null,
   "metadata": {
    "collapsed": false
   },
   "outputs": [],
   "source": [
    "# Create Node dof matrix\n",
    "const nodedofs = reshape(1:nnodes * dim, (dim, nnodes));"
   ]
  },
  {
   "cell_type": "code",
   "execution_count": null,
   "metadata": {
    "collapsed": false
   },
   "outputs": [],
   "source": [
    "# Create \"edof\" matrix\n",
    "const edofs = zeros(Int, getnbasefunctions(cellvalues), ncells)\n",
    "for (i, cell) in enumerate(getcells(grid))\n",
    "    edofs[:, i] = collect(flatten([nodedofs[:, v] for v in getvertices(grid, cell)]))\n",
    "end"
   ]
  },
  {
   "cell_type": "code",
   "execution_count": null,
   "metadata": {
    "collapsed": false
   },
   "outputs": [],
   "source": [
    "# Extract the left boundary\n",
    "left_boundarynodes = []\n",
    "left = getcellboundaryset(grid, \"left\")\n",
    "for boundary in getboundaries(grid, left)\n",
    "    append!(left_boundarynodes, getnodes(grid, boundary))\n",
    "end\n",
    "left_boundarynodes = unique(left_boundarynodes);"
   ]
  },
  {
   "cell_type": "code",
   "execution_count": null,
   "metadata": {
    "collapsed": false
   },
   "outputs": [],
   "source": [
    "dofs_left_boundary  = collect(flatten(nodedofs[:, i] for i in left_boundarynodes));"
   ]
  },
  {
   "cell_type": "code",
   "execution_count": null,
   "metadata": {
    "collapsed": false
   },
   "outputs": [],
   "source": [
    "E = 200e9\n",
    "ν = 0.3\n",
    "λ = E*ν / ((1+ν) * (1 - 2ν))\n",
    "μ = E / (2(1+ν))\n",
    "δ(i,j) = i == j ? 1.0 : 0.0\n",
    "g(i,j,k,l) = λ*δ(i,j)*δ(k,l) + μ*(δ(i,k)*δ(j,l) + δ(i,l)*δ(j,k))\n",
    "C = SymmetricTensor{4, dim}(g);"
   ]
  },
  {
   "cell_type": "code",
   "execution_count": null,
   "metadata": {
    "collapsed": false
   },
   "outputs": [],
   "source": [
    "function doassemble{dim}(cellvalues::CellVectorValues{dim}, facevalues::BoundaryVectorValues{dim},\n",
    "    grid::Grid, C::SymmetricTensor{4, dim}, edofs, nodedofs)\n",
    "    n_basefuncs = getnbasefunctions(cellvalues)\n",
    "    Ke = zeros(n_basefuncs, n_basefuncs)\n",
    "    \n",
    "    ɛ = [zero(SymmetricTensor{2, dim}) for i in 1:n_basefuncs]\n",
    "    assembler = start_assemble()\n",
    "    @inbounds for (cellcount, cell) in enumerate(getcells(grid))\n",
    "        fill!(Ke, 0)\n",
    "        reinit!(cellvalues, getcoordinates(grid, cell))\n",
    "        for q_point in 1:getnquadpoints(cellvalues)\n",
    "            for i in 1:n_basefuncs\n",
    "                ɛ[i] = symmetric(shape_gradient(cellvalues, q_point, i)) \n",
    "            end\n",
    "            dΩ = getdetJdV(cellvalues, q_point)\n",
    "            for i in 1:n_basefuncs\n",
    "                ɛC = ɛ[i] ⊡ C\n",
    "                for j in 1:n_basefuncs\n",
    "                    Ke[i, j] += (ɛC ⊡ ɛ[j]) * dΩ\n",
    "                end\n",
    "            end\n",
    "        end\n",
    "        assemble!(assembler, Ke, edofs[:, cellcount])\n",
    "    end\n",
    "    K = end_assemble(assembler)\n",
    "   \n",
    "    n_facefuncs = n_basefuncs - dim # Awkward\n",
    "    f = zeros(length(nodedofs))\n",
    "    fe = zeros(n_basefuncs - dim)\n",
    "    t = Vec{3}((0.0, 1e8, 0.0))\n",
    "    global_dofs = zeros(Int, n_facefuncs)\n",
    "    for boundaryidx in getcellboundaryset(grid, \"right\")\n",
    "        boundary = getboundaries(grid, boundaryidx)\n",
    "        fill!(fe, 0)\n",
    "        coords = getcoordinates(grid, JuAFEM.CellIndex(boundary.idx[1])) # Awkward\n",
    "        reinit!(facevalues, coords, boundary.idx[2]) # Awkward (make reinit!(facevalues, grid, boundaryindex) work)\n",
    "         for q_point in 1:getnquadpoints(cellvalues)\n",
    "            for i in 1:n_facefuncs\n",
    "                N = shape_value(facevalues, q_point, i)\n",
    "                dΩ = getdetJdV(facevalues, q_point)\n",
    "                fe[i] += (N ⋅ t) * dΩ\n",
    "            end\n",
    "        end\n",
    "        \n",
    "        # The whole thing below is a bit awkward,\n",
    "        # better as getdofs!(global_dofs, dofhandler, grid, boundary) or something.\n",
    "        resize!(global_dofs, 0)\n",
    "        nodes_in_face = getnodes(grid, boundary)\n",
    "        for n in nodes_in_face\n",
    "            append!(global_dofs, nodedofs[:, n])\n",
    "        end\n",
    "        f[global_dofs] += fe\n",
    "    end\n",
    "    return K, f\n",
    "end"
   ]
  },
  {
   "cell_type": "code",
   "execution_count": null,
   "metadata": {
    "collapsed": false
   },
   "outputs": [],
   "source": [
    "K, f = doassemble(cellvalues, facevalues, grid, C, edofs, nodedofs);"
   ]
  },
  {
   "cell_type": "code",
   "execution_count": null,
   "metadata": {
    "collapsed": false
   },
   "outputs": [],
   "source": [
    "d_pres = dofs_left_boundary\n",
    "# Zero dbc on left edge, one on right edge\n",
    "a_pres = zeros(dofs_left_boundary)\n",
    "d_free = setdiff(1:maximum(nodedofs), d_pres);"
   ]
  },
  {
   "cell_type": "code",
   "execution_count": null,
   "metadata": {
    "collapsed": false
   },
   "outputs": [],
   "source": [
    "# Account for boundary conditions and solve\n",
    "u = zeros(maximum(nodedofs))\n",
    "@time u_free = cholfact(Symmetric(K[d_free, d_free])) \\ (f[d_free] - K[d_free, d_pres] * a_pres)\n",
    "u[d_free] = u_free \n",
    "u[d_pres] = a_pres;"
   ]
  },
  {
   "cell_type": "code",
   "execution_count": 17,
   "metadata": {
    "collapsed": false
   },
   "outputs": [
    {
     "data": {
      "text/plain": [
       "1-element Array{String,1}:\n",
       " \"cantilever2.vtu\""
      ]
     },
     "execution_count": 17,
     "metadata": {},
     "output_type": "execute_result"
    }
   ],
   "source": [
    "# Save file\n",
    "vtkfile = vtk_grid(\"cantilever2\", grid);\n",
    "vtk_point_data(vtkfile, reshape(u, (dim, nnodes)), \"Displacement\")\n",
    "vtk_save(vtkfile)"
   ]
  },
  {
   "cell_type": "code",
   "execution_count": null,
   "metadata": {
    "collapsed": true
   },
   "outputs": [],
   "source": [
    "println(\"Cantilever successful\")"
   ]
  }
 ],
 "metadata": {
  "anaconda-cloud": {},
  "kernelspec": {
   "display_name": "Julia 0.5.0",
   "language": "julia",
   "name": "julia-0.5"
  },
  "language_info": {
   "file_extension": ".jl",
   "mimetype": "application/julia",
   "name": "julia",
   "version": "0.5.0"
  }
 },
 "nbformat": 4,
 "nbformat_minor": 0
}
