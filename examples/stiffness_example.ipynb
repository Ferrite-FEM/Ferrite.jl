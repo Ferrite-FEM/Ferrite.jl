{
 "cells": [
  {
   "cell_type": "markdown",
   "metadata": {},
   "source": [
    "### Example creating the stiffness for a linear elasticity element using tensors or matrices"
   ]
  },
  {
   "cell_type": "code",
   "execution_count": 1,
   "metadata": {
    "collapsed": false
   },
   "outputs": [],
   "source": [
    "using JuAFEM"
   ]
  },
  {
   "cell_type": "code",
   "execution_count": 2,
   "metadata": {
    "collapsed": false
   },
   "outputs": [],
   "source": [
    "E = 200e9\n",
    "ν = 0.3\n",
    "λ = E*ν / ((1+ν) * (1 - 2ν))\n",
    "μ = E / (2(1+ν))\n",
    "δ(i,j) = i == j ? 1.0 : 0.0\n",
    "g(i,j,k,l) = λ*δ(i,j)*δ(k,l) + μ*(δ(i,k)*δ(j,l) + δ(i,l)*δ(j,k))\n",
    "\n",
    "# Create a random symmetric material stiffness\n",
    "C = rand(SymmetricTensor{4, 2})\n",
    "\n",
    "Ee = [C[1,1,1,1] C[1,1,2,2] C[1,1,1,2];\n",
    "      C[2,2,1,1] C[2,2,2,2] C[2,2,1,2];\n",
    "      C[1,2,1,1] C[1,2,2,2] C[1,2,1,2]];"
   ]
  },
  {
   "cell_type": "code",
   "execution_count": 3,
   "metadata": {
    "collapsed": false,
    "scrolled": true
   },
   "outputs": [],
   "source": [
    "function_space = Lagrange{2, RefCube, 1}()\n",
    "quad_rule = QuadratureRule{2, RefCube}(2)\n",
    "fe_values = FECellScalarValues(quad_rule, function_space);\n",
    "fe_vector_values = FECellVectorValues(quad_rule, function_space);\n",
    "\n",
    "x = [0. 1 1 0;\n",
    "     0 0 1 1]\n",
    "x_vec = reinterpret(Vec{2, Float64}, x, (4,));"
   ]
  },
  {
   "cell_type": "markdown",
   "metadata": {},
   "source": [
    "## Stiffness"
   ]
  },
  {
   "cell_type": "code",
   "execution_count": 4,
   "metadata": {
    "collapsed": false
   },
   "outputs": [
    {
     "data": {
      "text/plain": [
       "ke_element_mat! (generic function with 1 method)"
      ]
     },
     "execution_count": 4,
     "metadata": {},
     "output_type": "execute_result"
    }
   ],
   "source": [
    "function ke_element_mat!{T, dim}(Ke, X::Vector{Vec{dim, T}}, fe_values::FECellScalarValues{dim}, Ee, B, DB, BDB)\n",
    "    n_basefuncs = getnbasefunctions(fe_values)\n",
    "    @assert length(X) == n_basefuncs\n",
    "    \n",
    "    reinit!(fe_values, X)\n",
    "    for q_point in 1:getnquadpoints(fe_values)\n",
    "        for i in 1:n_basefuncs\n",
    "            dNdx = shape_gradient(fe_values, q_point, i)[1]\n",
    "            dNdy = shape_gradient(fe_values, q_point, i)[2]\n",
    "            B[1, 2*i - 1] = dNdx\n",
    "            B[2, 2*i - 0] = dNdy\n",
    "            B[3, 2*i - 0] = dNdx\n",
    "            B[3, 2*i - 1] = dNdy\n",
    "        end\n",
    "        \n",
    "        A_mul_B!(DB, Ee, B)\n",
    "        At_mul_B!(BDB, B, DB)\n",
    "        scale!(BDB, getdetJdV(fe_values, q_point))\n",
    "        for p in 1:size(Ke,1)\n",
    "            for q in 1:size(Ke,2)\n",
    "                Ke[p, q] += BDB[p, q]\n",
    "            end\n",
    "        end\n",
    "    end\n",
    "    \n",
    "    return Ke\n",
    "end"
   ]
  },
  {
   "cell_type": "code",
   "execution_count": 5,
   "metadata": {
    "collapsed": false
   },
   "outputs": [
    {
     "data": {
      "text/plain": [
       "ke_element! (generic function with 1 method)"
      ]
     },
     "execution_count": 5,
     "metadata": {},
     "output_type": "execute_result"
    }
   ],
   "source": [
    "function ke_element!{T,dim}(Ke, X::Vector{Vec{2, T}}, fe_values::FECellScalarValues{dim}, C2)\n",
    "    n_basefuncs = getnbasefunctions(fe_values)\n",
    "    @assert length(X) == n_basefuncs\n",
    "    reinit!(fe_values, X)\n",
    "    @inbounds for q_point in 1:getnquadpoints(fe_values)\n",
    "        for a in 1:n_basefuncs\n",
    "            for b in 1:n_basefuncs\n",
    "                ∇ϕa = shape_gradient(fe_values, q_point, a)\n",
    "                ∇ϕb = shape_gradient(fe_values, q_point, b)\n",
    "                # TODO: This would be faster as ∇ϕa ⋅ C ⋅ ∇ϕb\n",
    "                Ke_e = C2 ⊡ (∇ϕb ⊗ ∇ϕa) * getdetJdV(fe_values, q_point)\n",
    "                for d1 in 1:dim, d2 in 1:dim\n",
    "                    Ke[dim*(a-1) + d1, dim*(b-1) + d2] += Ke_e[d1,d2]\n",
    "                end\n",
    "            end\n",
    "        end\n",
    "    end\n",
    "    return Ke\n",
    "end"
   ]
  },
  {
   "cell_type": "code",
   "execution_count": 6,
   "metadata": {
    "collapsed": false
   },
   "outputs": [
    {
     "data": {
      "text/plain": [
       "ke_element2! (generic function with 1 method)"
      ]
     },
     "execution_count": 6,
     "metadata": {},
     "output_type": "execute_result"
    }
   ],
   "source": [
    "function ke_element2!{T,dim}(Ke, X::Vector{Vec{2, T}}, fe_values::FECellVectorValues{dim}, C)\n",
    "    n_basefuncs = getnbasefunctions(fe_values)\n",
    "    @assert length(X) * dim == n_basefuncs\n",
    "    reinit!(fe_values, X)\n",
    "    ɛ = [zero(SymmetricTensor{2, dim, T}) for i in 1:n_basefuncs]\n",
    "    @inbounds for q_point in 1:getnquadpoints(fe_values)\n",
    "        for i in 1:n_basefuncs\n",
    "            ɛ[i] = symmetric(shape_gradient(fe_values, q_point, i)) \n",
    "        end\n",
    "        dΩ = getdetJdV(fe_values, q_point)\n",
    "        for i in 1:n_basefuncs\n",
    "            for j in 1:n_basefuncs\n",
    "                Ke[i, j] += (ɛ[i] ⊡ C ⊡ ɛ[j]) * dΩ\n",
    "            end\n",
    "        end\n",
    "    end\n",
    "    return Ke\n",
    "end"
   ]
  },
  {
   "cell_type": "code",
   "execution_count": 11,
   "metadata": {
    "collapsed": false
   },
   "outputs": [
    {
     "name": "stdout",
     "output_type": "stream",
     "text": [
      "  0.000006 seconds (4 allocations: 160 bytes)\n",
      "  0.000009 seconds (6 allocations: 512 bytes)\n"
     ]
    }
   ],
   "source": [
    "x = [0. 1 1 0;\n",
    "     0 0 1 1]\n",
    "x_vec = reinterpret(Vec{2, Float64}, x, (4,))\n",
    "Ke2 = zeros(8,8)\n",
    "# Note the transpose\n",
    "C2 = Tensor{4, 2}((i,j,k,l) -> C[i,l,k,j])\n",
    "@time ke_element!(Ke2, x_vec, fe_values, C2)\n",
    "Ke3 = zeros(8,8)\n",
    "@time ke_element2!(Ke3, x_vec, fe_vector_values, C);"
   ]
  },
  {
   "cell_type": "code",
   "execution_count": 12,
   "metadata": {
    "collapsed": false,
    "scrolled": true
   },
   "outputs": [
    {
     "name": "stdout",
     "output_type": "stream",
     "text": [
      "  0.000033 seconds (4 allocations: 160 bytes)\n"
     ]
    }
   ],
   "source": [
    "B = zeros(3, 8)\n",
    "DB = zeros(3,8)\n",
    "BDB = zeros(8,8)\n",
    "Ke = zeros(8,8)\n",
    "fill!(Ke, 0.0)\n",
    "@time ke_element_mat!(Ke, x_vec, fe_values, Ee, B, DB, BDB);"
   ]
  },
  {
   "cell_type": "code",
   "execution_count": 13,
   "metadata": {
    "collapsed": false
   },
   "outputs": [
    {
     "data": {
      "text/plain": [
       "1.2732549793499391e-16"
      ]
     },
     "execution_count": 13,
     "metadata": {},
     "output_type": "execute_result"
    }
   ],
   "source": [
    "norm(Ke - Ke2) / norm(Ke)"
   ]
  },
  {
   "cell_type": "code",
   "execution_count": 14,
   "metadata": {
    "collapsed": false
   },
   "outputs": [
    {
     "data": {
      "text/plain": [
       "7.695463072134969e-17"
      ]
     },
     "execution_count": 14,
     "metadata": {},
     "output_type": "execute_result"
    }
   ],
   "source": [
    "norm(Ke - Ke3) / norm(Ke)"
   ]
  }
 ],
 "metadata": {
  "anaconda-cloud": {},
  "kernelspec": {
   "display_name": "Julia 0.5.0",
   "language": "julia",
   "name": "julia-0.5"
  },
  "language_info": {
   "file_extension": ".jl",
   "mimetype": "application/julia",
   "name": "julia",
   "version": "0.5.0"
  }
 },
 "nbformat": 4,
 "nbformat_minor": 0
}
