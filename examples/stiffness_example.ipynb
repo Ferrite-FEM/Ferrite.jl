{
 "cells": [
  {
   "cell_type": "markdown",
   "metadata": {},
   "source": [
    "### Example creating the stiffness for a linear elasticity element using tensors or matrices"
   ]
  },
  {
   "cell_type": "code",
   "execution_count": 1,
   "metadata": {
    "collapsed": false
   },
   "outputs": [],
   "source": [
    "using JuAFEM\n",
    "using ForwardDiff"
   ]
  },
  {
   "cell_type": "code",
   "execution_count": 2,
   "metadata": {
    "collapsed": false
   },
   "outputs": [],
   "source": [
    "E = 200e9\n",
    "ν = 0.3\n",
    "λ = E*ν / ((1+ν) * (1 - 2ν))\n",
    "μ = E / (2(1+ν))\n",
    "δ(i,j) = i == j ? 1.0 : 0.0\n",
    "g(i,j,k,l) = λ*δ(i,j)*δ(k,l) + μ*(δ(i,k)*δ(j,l) + δ(i,l)*δ(j,k))\n",
    "\n",
    "# Create a random symmetric material stiffness\n",
    "C = SymmetricTensor{4, 2}(g)\n",
    "\n",
    "Ee = [C[1,1,1,1] C[2,2,1,1] C[1,2,1,1];\n",
    "      C[1,1,2,2] C[2,2,2,2] C[1,2,2,2];\n",
    "      C[1,1,1,2] C[2,2,1,2] C[1,2,1,2]];"
   ]
  },
  {
   "cell_type": "code",
   "execution_count": 3,
   "metadata": {
    "collapsed": false,
    "scrolled": true
   },
   "outputs": [],
   "source": [
    "function_space = Lagrange{2, JuAFEM.Square, 1}()\n",
    "quad_rule = get_gaussrule(Dim{2}, JuAFEM.Square(), 2)\n",
    "fe_values = FEValues(Float64, quad_rule, function_space);\n",
    "\n",
    "x = [0. 1 1 0;\n",
    "     0 0 1 1]\n",
    "x_vec = reinterpret(Vec{2, Float64}, x, (4,));"
   ]
  },
  {
   "cell_type": "markdown",
   "metadata": {},
   "source": [
    "## Stiffness"
   ]
  },
  {
   "cell_type": "code",
   "execution_count": 4,
   "metadata": {
    "collapsed": false
   },
   "outputs": [
    {
     "data": {
      "text/plain": [
       "ke_element_mat! (generic function with 1 method)"
      ]
     },
     "execution_count": 4,
     "metadata": {},
     "output_type": "execute_result"
    }
   ],
   "source": [
    "function ke_element_mat!{T,dim}(Ke, X::Vector{Vec{2, T}}, fe_values::FEValues{dim}, Ee, B, DB, BDB)\n",
    "    n_basefuncs = n_basefunctions(get_functionspace(fe_values))\n",
    "    @assert length(X) == n_basefuncs\n",
    "    \n",
    "    reinit!(fe_values, X)\n",
    "\n",
    "    for q_point in 1:length(JuAFEM.points(get_quadrule(fe_values)))\n",
    "        \n",
    "        for i in 1:n_basefuncs\n",
    "            dNdx = shape_gradient(fe_values, q_point, i)[1]\n",
    "            dNdy = shape_gradient(fe_values, q_point, i)[2]\n",
    "            B[1, 2*i - 1] = dNdx\n",
    "            B[2, 2*i - 0] = dNdy\n",
    "            B[3, 2*i - 0] = dNdx\n",
    "            B[3, 2*i - 1] = dNdy\n",
    "        end\n",
    "        \n",
    "        A_mul_B!(DB, Ee, B)\n",
    "        At_mul_B!(BDB, B, DB)\n",
    "        scale!(BDB, detJdV(fe_values, q_point))\n",
    "        for p in 1:size(Ke,1)\n",
    "            for q in 1:size(Ke,2)\n",
    "                Ke[p, q] += BDB[p, q]\n",
    "            end\n",
    "        end\n",
    "    end\n",
    "    \n",
    "    return Ke\n",
    "end"
   ]
  },
  {
   "cell_type": "code",
   "execution_count": 5,
   "metadata": {
    "collapsed": false
   },
   "outputs": [
    {
     "data": {
      "text/plain": [
       "8x8 Array{Float64,2}:\n",
       "  1.15385e11   4.80769e10  -7.69231e10  …   1.92308e10  -9.61538e9 \n",
       "  4.80769e10   1.15385e11  -9.61538e9       9.61538e9   -7.69231e10\n",
       " -7.69231e10  -9.61538e9    1.15385e11     -5.76923e10   4.80769e10\n",
       "  9.61538e9    1.92308e10  -4.80769e10      4.80769e10  -5.76923e10\n",
       " -5.76923e10  -4.80769e10   1.92308e10     -7.69231e10   9.61538e9 \n",
       " -4.80769e10  -5.76923e10   9.61538e9   …  -9.61538e9    1.92308e10\n",
       "  1.92308e10   9.61538e9   -5.76923e10      1.15385e11  -4.80769e10\n",
       " -9.61538e9   -7.69231e10   4.80769e10     -4.80769e10   1.15385e11"
      ]
     },
     "execution_count": 5,
     "metadata": {},
     "output_type": "execute_result"
    }
   ],
   "source": [
    "B = zeros(3, 8)\n",
    "DB = zeros(3,8)\n",
    "BDB = zeros(8,8)\n",
    "Ke = zeros(8,8)\n",
    "fill!(Ke, 0.0)\n",
    "ke_element_mat!(Ke, x_vec, fe_values, Ee, B, DB, BDB)"
   ]
  },
  {
   "cell_type": "code",
   "execution_count": 6,
   "metadata": {
    "collapsed": false
   },
   "outputs": [
    {
     "data": {
      "text/plain": [
       "ke_elementt! (generic function with 1 method)"
      ]
     },
     "execution_count": 6,
     "metadata": {},
     "output_type": "execute_result"
    }
   ],
   "source": [
    "function ke_elementt!{T,dim}(Ke, X::Vector{Vec{2, T}}, fe_values::FEValues{dim}, D)\n",
    "    n_basefuncs = n_basefunctions(get_functionspace(fe_values))\n",
    "    @assert length(X) == n_basefuncs\n",
    "    reinit!(fe_values, X)\n",
    "    for q_point in 1:length(JuAFEM.points(get_quadrule(fe_values)))\n",
    "        for i in 1:n_basefuncs\n",
    "            for j in 1:n_basefuncs\n",
    "                ∇ϕi = shape_gradient(fe_values, q_point, i)\n",
    "                ∇ϕj = shape_gradient(fe_values, q_point, j)\n",
    "                Ke_e = (∇ϕj ⊗ ∇ϕi) ⊡ D * detJdV(fe_values, q_point)\n",
    "                Ke[dim*(i-1) + 1:dim*i, dim*(j-1) + 1:dim*j] += Ke_e\n",
    "            end\n",
    "        end\n",
    "    end\n",
    "    return Ke\n",
    "end"
   ]
  },
  {
   "cell_type": "code",
   "execution_count": 7,
   "metadata": {
    "collapsed": false
   },
   "outputs": [
    {
     "data": {
      "text/plain": [
       "8x8 Array{Float64,2}:\n",
       "  1.15385e11   4.80769e10  -7.69231e10  …   1.92308e10  -9.61538e9 \n",
       "  4.80769e10   1.15385e11  -9.61538e9       9.61538e9   -7.69231e10\n",
       " -7.69231e10  -9.61538e9    1.15385e11     -5.76923e10   4.80769e10\n",
       "  9.61538e9    1.92308e10  -4.80769e10      4.80769e10  -5.76923e10\n",
       " -5.76923e10  -4.80769e10   1.92308e10     -7.69231e10   9.61538e9 \n",
       " -4.80769e10  -5.76923e10   9.61538e9   …  -9.61538e9    1.92308e10\n",
       "  1.92308e10   9.61538e9   -5.76923e10      1.15385e11  -4.80769e10\n",
       " -9.61538e9   -7.69231e10   4.80769e10     -4.80769e10   1.15385e11"
      ]
     },
     "execution_count": 7,
     "metadata": {},
     "output_type": "execute_result"
    }
   ],
   "source": [
    "# Note the minor transpose!\n",
    "C2 = Tensor{4, 2}((i,l,k,j) -> C[i,j,k,l])\n",
    "x = [0. 1 1 0;\n",
    "     0 0 1 1]\n",
    "x_vec = reinterpret(Vec{2, Float64}, x, (4,))\n",
    "Ke2 = zeros(8,8)\n",
    "ke_elementt!(Ke2, x_vec, fe_values, C2)"
   ]
  },
  {
   "cell_type": "code",
   "execution_count": 8,
   "metadata": {
    "collapsed": false
   },
   "outputs": [
    {
     "data": {
      "text/plain": [
       "8.632935774790041e-17"
      ]
     },
     "execution_count": 8,
     "metadata": {},
     "output_type": "execute_result"
    }
   ],
   "source": [
    "norm(Ke - Ke2) / norm(Ke)"
   ]
  }
 ],
 "metadata": {
  "kernelspec": {
   "display_name": "Julia 0.4.3",
   "language": "julia",
   "name": "julia-0.4"
  },
  "language_info": {
   "file_extension": ".jl",
   "mimetype": "application/julia",
   "name": "julia",
   "version": "0.4.3"
  }
 },
 "nbformat": 4,
 "nbformat_minor": 0
}
