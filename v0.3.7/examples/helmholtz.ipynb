{
 "cells": [
  {
   "cell_type": "markdown",
   "source": [
    "# Helmholtz equation\n",
    "\n",
    "In this example, we want to solve a (variant of) of the [Helmholtz equation](https://en.wikipedia.org/wiki/Helmholtz_equation).\n",
    "The example is inspired by an [dealii step_7](https://www.dealii.org/8.4.1/doxygen/deal.II/step_7.html) on the standard square.\n",
    "\n",
    "$$\n",
    " - \\Delta u + u = f\n",
    "$$\n",
    "\n",
    "With boundary conditions given by\n",
    "$$\n",
    "u = g_1 \\quad x \\in \\Gamma_1\n",
    "$$\n",
    "and\n",
    "$$\n",
    "n \\cdot \\nabla u = g_2 \\quad x \\in \\Gamma_2\n",
    "$$\n",
    "\n",
    "Here Γ₁ is the union of the top and the right boundary of the square,\n",
    "while Γ₂ is the union of the bottom and the left boundary.\n",
    "\n",
    "![](helmholtz.png)\n",
    "\n",
    "We will use the following weak formulation:\n",
    "$$\n",
    "\\int \\nabla δu \\cdot \\nabla u d\\Omega\n",
    "+ \\int δu \\cdot u d\\Omega\n",
    "- \\int δu \\cdot f d\\Omega\n",
    "- \\int δu g_2 d\\Gamma_2 = 0 \\forall δu\n",
    "$$\n",
    "\n",
    "where $δu$ is a suitable test function that satisfies:\n",
    "$$\n",
    "δu = 0 \\quad x \\in \\Gamma_1\n",
    "$$\n",
    "and $u$ is a suitable function that satisfies:\n",
    "$$\n",
    "u = g_1 \\quad x \\in \\Gamma_1\n",
    "$$\n",
    "The example highlights the following interesting features:\n",
    "\n",
    "* There are two kinds of boundary conditions, \"Dirichlet\" and \"Von Neumann\"\n",
    "* The example contains boundary integrals\n",
    "* The Dirichlet condition is imposed strongly and the Von Neumann condition is imposed weakly."
   ],
   "metadata": {}
  },
  {
   "outputs": [
    {
     "output_type": "execute_result",
     "data": {
      "text/plain": "DofHandler\n  Fields:\n    :u, interpolation: Lagrange{2, RefCube, 1}(), dim: 1\n  Dofs per cell: 4\n  Total dofs: 22801"
     },
     "metadata": {},
     "execution_count": 1
    }
   ],
   "cell_type": "code",
   "source": [
    "using Ferrite\n",
    "using Tensors\n",
    "using SparseArrays\n",
    "using LinearAlgebra\n",
    "\n",
    "const ∇ = Tensors.gradient\n",
    "const Δ = Tensors.hessian;\n",
    "\n",
    "grid = generate_grid(Quadrilateral, (150, 150))\n",
    "\n",
    "dim = 2\n",
    "ip = Lagrange{dim, RefCube, 1}()\n",
    "qr = QuadratureRule{dim, RefCube}(2)\n",
    "qr_face = QuadratureRule{dim-1, RefCube}(2)\n",
    "cellvalues = CellScalarValues(qr, ip);\n",
    "facevalues = FaceScalarValues(qr_face, ip);\n",
    "\n",
    "dh = DofHandler(grid)\n",
    "push!(dh, :u, 1)\n",
    "close!(dh)"
   ],
   "metadata": {},
   "execution_count": 1
  },
  {
   "cell_type": "markdown",
   "source": [
    "We will set things up, so that a known analytic solution is approximately reproduced.\n",
    "This is a good testing strategy for PDE codes and known as the method of manufactured solutions."
   ],
   "metadata": {}
  },
  {
   "outputs": [
    {
     "output_type": "execute_result",
     "data": {
      "text/plain": "ConstraintHandler:\n  Not closed!"
     },
     "metadata": {},
     "execution_count": 2
    }
   ],
   "cell_type": "code",
   "source": [
    "function u_ana(x::Vec{2, T}) where {T}\n",
    "    xs = (Vec{2}((-0.5,  0.5)),\n",
    "          Vec{2}((-0.5, -0.5)),\n",
    "          Vec{2}(( 0.5,  -0.5)))\n",
    "    σ = 1/8\n",
    "    s = zero(eltype(x))\n",
    "    for i in 1:3\n",
    "        s += exp(- norm(x - xs[i])^2 / σ^2)\n",
    "    end\n",
    "    return max(1e-15 * one(T), s) # Denormals, be gone\n",
    "end;\n",
    "\n",
    "dbcs = ConstraintHandler(dh)"
   ],
   "metadata": {},
   "execution_count": 2
  },
  {
   "cell_type": "markdown",
   "source": [
    "The (strong) Dirichlet boundary condition can be handled automatically by the Ferrite library."
   ],
   "metadata": {}
  },
  {
   "outputs": [
    {
     "name": "stdout",
     "output_type": "stream",
     "text": [
      "Helmholtz successful\n"
     ]
    }
   ],
   "cell_type": "code",
   "source": [
    "dbc = Dirichlet(:u, union(getfaceset(grid, \"top\"), getfaceset(grid, \"right\")), (x,t) -> u_ana(x))\n",
    "add!(dbcs, dbc)\n",
    "close!(dbcs)\n",
    "update!(dbcs, 0.0)\n",
    "\n",
    "K = create_sparsity_pattern(dh);\n",
    "\n",
    "function doassemble(cellvalues::CellScalarValues{dim}, facevalues::FaceScalarValues{dim},\n",
    "                         K::SparseMatrixCSC, dh::DofHandler) where {dim}\n",
    "    b = 1.0\n",
    "    f = zeros(ndofs(dh))\n",
    "    assembler = start_assemble(K, f)\n",
    "\n",
    "    n_basefuncs = getnbasefunctions(cellvalues)\n",
    "    global_dofs = zeros(Int, ndofs_per_cell(dh))\n",
    "\n",
    "    fe = zeros(n_basefuncs) # Local force vector\n",
    "    Ke = zeros(n_basefuncs, n_basefuncs) # Local stiffness mastrix\n",
    "\n",
    "    @inbounds for (cellcount, cell) in enumerate(CellIterator(dh))\n",
    "        fill!(Ke, 0)\n",
    "        fill!(fe, 0)\n",
    "        coords = getcoordinates(cell)\n",
    "\n",
    "        reinit!(cellvalues, cell)\n",
    "        # First we derive the non boundary part of the variation problem from the destined solution `u_ana`\n",
    "        # $$\n",
    "        # \\int \\nabla δu \\cdot \\nabla u d\\Omega\n",
    "        # + \\int δu \\cdot u d\\Omega\n",
    "        # - \\int δu \\cdot f d\\Omega\n",
    "        # $$\n",
    "        for q_point in 1:getnquadpoints(cellvalues)\n",
    "            dΩ = getdetJdV(cellvalues, q_point)\n",
    "            coords_qp = spatial_coordinate(cellvalues, q_point, coords)\n",
    "            f_true = -LinearAlgebra.tr(hessian(u_ana, coords_qp)) + u_ana(coords_qp)\n",
    "            for i in 1:n_basefuncs\n",
    "                δu = shape_value(cellvalues, q_point, i)\n",
    "                ∇δu = shape_gradient(cellvalues, q_point, i)\n",
    "                fe[i] += (δu * f_true) * dΩ\n",
    "                for j in 1:n_basefuncs\n",
    "                    u = shape_value(cellvalues, q_point, j)\n",
    "                    ∇u = shape_gradient(cellvalues, q_point, j)\n",
    "                    Ke[i, j] += (∇δu ⋅ ∇u + δu * u) * dΩ\n",
    "                end\n",
    "            end\n",
    "        end\n",
    "        # Now we manually add the von Neumann boundary terms\n",
    "        # $$\n",
    "        # \\int δu g_2 d\\Gamma_2\n",
    "        # $$\n",
    "        for face in 1:nfaces(cell)\n",
    "            if onboundary(cell, face) &&\n",
    "                   ((cellcount, face) ∈ getfaceset(grid, \"left\") ||\n",
    "                    (cellcount, face) ∈ getfaceset(grid, \"bottom\"))\n",
    "                reinit!(facevalues, cell, face)\n",
    "                for q_point in 1:getnquadpoints(facevalues)\n",
    "                    coords_qp = spatial_coordinate(facevalues, q_point, coords)\n",
    "                    n = getnormal(facevalues, q_point)\n",
    "                    g_2 = gradient(u_ana, coords_qp) ⋅ n\n",
    "                    dΓ = getdetJdV(facevalues, q_point)\n",
    "                    for i in 1:n_basefuncs\n",
    "                        δu = shape_value(facevalues, q_point, i)\n",
    "                        fe[i] += (δu * g_2) * dΓ\n",
    "                    end\n",
    "                end\n",
    "            end\n",
    "        end\n",
    "\n",
    "        celldofs!(global_dofs, cell)\n",
    "        assemble!(assembler, global_dofs, fe, Ke)\n",
    "    end\n",
    "    return K, f\n",
    "end;\n",
    "\n",
    "K, f = doassemble(cellvalues, facevalues, K, dh);\n",
    "apply!(K, f, dbcs)\n",
    "u = Symmetric(K) \\ f;\n",
    "\n",
    "vtkfile = vtk_grid(\"helmholtz\", dh)\n",
    "vtk_point_data(vtkfile, dh, u)\n",
    "vtk_save(vtkfile)\n",
    "println(\"Helmholtz successful\")"
   ],
   "metadata": {},
   "execution_count": 3
  },
  {
   "cell_type": "markdown",
   "source": [
    "---\n",
    "\n",
    "*This notebook was generated using [Literate.jl](https://github.com/fredrikekre/Literate.jl).*"
   ],
   "metadata": {}
  }
 ],
 "nbformat_minor": 3,
 "metadata": {
  "language_info": {
   "file_extension": ".jl",
   "mimetype": "application/julia",
   "name": "julia",
   "version": "1.7.3"
  },
  "kernelspec": {
   "name": "julia-1.7",
   "display_name": "Julia 1.7.3",
   "language": "julia"
  }
 },
 "nbformat": 4
}
