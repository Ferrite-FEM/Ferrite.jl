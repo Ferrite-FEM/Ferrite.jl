{
 "cells": [
  {
   "cell_type": "markdown",
   "source": [
    "# Linear shell\n",
    "\n",
    "![](linear_shell.png)"
   ],
   "metadata": {}
  },
  {
   "cell_type": "markdown",
   "source": [
    "## Introduction\n",
    "\n",
    "In this example we show how shell elements can be analyzed in Ferrite.jl. The shell implemented here comes from the book\n",
    "\"The finite elment method - Linear static and dynamic finite element analysis\" by Hughes (1987), and a brief description of it is\n",
    "given at the end of this tutorial.  The first part of the tutorial explains how to set up the problem."
   ],
   "metadata": {}
  },
  {
   "cell_type": "markdown",
   "source": [
    "## Setting up the problem"
   ],
   "metadata": {}
  },
  {
   "outputs": [],
   "cell_type": "code",
   "source": [
    "using Ferrite\n",
    "using ForwardDiff\n",
    "\n",
    "function main() #wrap everything in a function...\n",
    "# First we generate a flat rectangular mesh. There is currently no built-in function for generating\n",
    "# shell meshes in Ferrite, so we have to create our own simple mesh generator (see the\n",
    "# function `generate_shell_grid` further down in this file).\n",
    "nels = (10,10)\n",
    "size = (10.0, 10.0)\n",
    "grid = generate_shell_grid(nels, size)\n",
    "# Here we define the bi-linear interpolation used for the geometrical description of the shell.\n",
    "# We also create two quadrature rules for the in-plane and out-of-plane directions. Note that we use\n",
    "# under integration for the inplane integration, to avoid shear locking.\n",
    "ip = Lagrange{2,RefCube,1}()\n",
    "qr_inplane = QuadratureRule{2,RefCube}(1)\n",
    "qr_ooplane = QuadratureRule{1,RefCube}(2)\n",
    "cv = CellScalarValues(qr_inplane, ip)\n",
    "# Next we distribute displacement dofs,`:u = (x,y,z)` and rotational dofs, `:θ = (θ₁,  θ₂)`.\n",
    "dh = DofHandler(grid)\n",
    "push!(dh, :u, 3, ip)\n",
    "push!(dh, :θ, 2, ip)\n",
    "close!(dh)\n",
    "# In order to apply our boundary conditions, we first need to create some edge- and vertex-sets. This\n",
    "# is done with `addedgeset!` and `addvertexset!` (similar to `addfaceset!`)\n",
    "addedgeset!(grid, \"left\",  (x) -> x[1] ≈ 0.0)\n",
    "addedgeset!(grid, \"right\", (x) -> x[1] ≈ size[1])\n",
    "addvertexset!(grid, \"corner\", (x) -> x[1] ≈ 0.0 && x[2] ≈ 0.0 && x[3] ≈ 0.0)\n",
    "# Here we define the boundary conditions. On the left edge, we lock the displacements in the x- and z- directions, and all the rotations.\n",
    "ch = ConstraintHandler(dh)\n",
    "add!(ch,  Dirichlet(:u, getedgeset(grid, \"left\"), (x, t) -> (0.0, 0.0), [1,3])  )\n",
    "add!(ch,  Dirichlet(:θ, getedgeset(grid, \"left\"), (x, t) -> (0.0, 0.0), [1,2])  )\n",
    "# On the right edge, we also lock the displacements in the x- and z- directions, but apply a precribed roation.\n",
    "add!(ch,  Dirichlet(:u, getedgeset(grid, \"right\"), (x, t) -> (0.0, 0.0), [1,3])  )\n",
    "add!(ch,  Dirichlet(:θ, getedgeset(grid, \"right\"), (x, t) -> (0.0, pi/10), [1,2])  )\n",
    "# In order to not get rigid body motion, we lock the y-displacement in one fo the corners.\n",
    "add!(ch,  Dirichlet(:θ, getvertexset(grid, \"corner\"), (x, t) -> (0.0), [2])  )\n",
    "\n",
    "close!(ch)\n",
    "update!(ch, 0.0)\n",
    "# Next we define relevant data for the shell, such as shear correction factor and stiffness matrix for the material.\n",
    "# In this linear shell, plane stress is assumed, ie $\\\\sigma_{zz} = 0$. Therefor, the stiffness matrix is 5x5 (opposed to the normal 6x6).\n",
    "κ = 5/6 # Shear correction factor\n",
    "E = 210.0\n",
    "ν = 0.3\n",
    "a = (1-ν)/2\n",
    "C = E/(1-ν^2) * [1 ν 0   0   0;\n",
    "                ν 1 0   0   0;\n",
    "                0 0 a*κ 0   0;\n",
    "                0 0 0   a*κ 0;\n",
    "                0 0 0   0   a*κ]\n",
    "\n",
    "\n",
    "data = (thickness = 1.0, C = C); #Named tuple\n",
    "# We now assemble the problem in standard finite element fashion\n",
    "nnodes = getnbasefunctions(ip)\n",
    "ndofs_shell = ndofs_per_cell(dh)\n",
    "\n",
    "K = create_sparsity_pattern(dh)\n",
    "f = zeros(Float64, ndofs(dh))\n",
    "\n",
    "ke = zeros(ndofs_shell, ndofs_shell)\n",
    "fe = zeros(ndofs_shell)\n",
    "\n",
    "celldofs = zeros(Int, ndofs_shell)\n",
    "cellcoords = zeros(Vec{3,Float64}, nnodes)\n",
    "\n",
    "assembler = start_assemble(K, f)\n",
    "for cellid in 1:getncells(grid)\n",
    "    fill!(ke, 0.0)\n",
    "\n",
    "    celldofs!(celldofs, dh, cellid)\n",
    "    getcoordinates!(cellcoords, grid, cellid)\n",
    "\n",
    "    #Call the element routine\n",
    "    integrate_shell!(ke, cv, qr_ooplane, cellcoords, data)\n",
    "\n",
    "    assemble!(assembler, celldofs, fe, ke)\n",
    "end\n",
    "# Apply BC and solve.\n",
    "apply!(K, f, ch)\n",
    "a = K\\f\n",
    "# Output results.\n",
    "vtk_grid(\"linear_shell\", dh) do vtk\n",
    "    vtk_point_data(vtk, dh, a)\n",
    "end\n",
    "\n",
    "end; #end main functions"
   ],
   "metadata": {},
   "execution_count": 1
  },
  {
   "cell_type": "markdown",
   "source": [
    "Below is the function that creates the shell mesh. It simply generates a 2d-quadrature mesh, and appends\n",
    "a third coordinate (z-direction) to the node-positions."
   ],
   "metadata": {}
  },
  {
   "outputs": [],
   "cell_type": "code",
   "source": [
    "function generate_shell_grid(nels, size)\n",
    "    _grid = generate_grid(Quadrilateral, nels, Vec((0.0,0.0)), Vec(size))\n",
    "    nodes = [(n.x[1], n.x[2], 0.0) |> Vec{3} |> Node  for n in _grid.nodes]\n",
    "    cells = [Quadrilateral3D(cell.nodes) for cell in _grid.cells]\n",
    "\n",
    "    grid = Grid(cells, nodes)\n",
    "\n",
    "    return grid\n",
    "end;"
   ],
   "metadata": {},
   "execution_count": 2
  },
  {
   "cell_type": "markdown",
   "source": [
    "## The shell element\n",
    "\n",
    "The shell presented here comes from the book \"The finite elment method - Linear static and dynamic finite element analysis\" by Hughes (1987).\n",
    "The shell is a so called degenerate shell element, meaning it is based on a continuum element.\n",
    "A brief describtion of the shell is given here."
   ],
   "metadata": {}
  },
  {
   "cell_type": "markdown",
   "source": [
    "##### Fiber coordinate system\n",
    "The element uses two coordinate systems. The first coordianate system, called the fiber system, is created for each\n",
    "element node, and is used as a reference frame for the rotations. The function below implements an algorthim that return the\n",
    "fiber directions, $\\boldsymbol{e}^{f}_{a1}$, $\\boldsymbol{e}^{f}_{a2}$ and $\\boldsymbol{e}^{f}_{a3}$, at each node $a$."
   ],
   "metadata": {}
  },
  {
   "outputs": [],
   "cell_type": "code",
   "source": [
    "function fiber_coordsys(Ps::Vector{Vec{3,Float64}})\n",
    "\n",
    "    ef1 = Vec{3,Float64}[]\n",
    "    ef2 = Vec{3,Float64}[]\n",
    "    ef3 = Vec{3,Float64}[]\n",
    "    for P in Ps\n",
    "        a = abs.(P)\n",
    "        j = 1\n",
    "        if a[1] > a[3]; a[3] = a[1]; j = 2; end\n",
    "        if a[2] > a[3]; j = 3; end\n",
    "\n",
    "        e3 = P\n",
    "        e2 = Tensors.cross(P, basevec(Vec{3}, j))\n",
    "        e2 /= norm(e2)\n",
    "        e1 = Tensors.cross(e2, P)\n",
    "\n",
    "        push!(ef1, e1)\n",
    "        push!(ef2, e2)\n",
    "        push!(ef3, e3)\n",
    "    end\n",
    "    return ef1, ef2, ef3\n",
    "\n",
    "end;"
   ],
   "metadata": {},
   "execution_count": 3
  },
  {
   "cell_type": "markdown",
   "source": [
    "##### Lamina coordinate system\n",
    "The second coordinate system is the so called Lamina Coordinate system. It is\n",
    "created for each integration point, and is defined to be tangent to the\n",
    "mid-surface. It is in this system that we enforce that plane stress assumption,\n",
    "i.e. $\\sigma_{zz} = 0$. The function below returns the rotation matrix, $\\boldsymbol{q}$, for this coordinate system."
   ],
   "metadata": {}
  },
  {
   "outputs": [],
   "cell_type": "code",
   "source": [
    "function lamina_coordsys(dNdξ, ζ, x, p, h)\n",
    "\n",
    "    e1 = zero(Vec{3})\n",
    "    e2 = zero(Vec{3})\n",
    "\n",
    "    for i in 1:length(dNdξ)\n",
    "        e1 += dNdξ[i][1] * x[i] + 0.5*h*ζ * dNdξ[i][1] * p[i]\n",
    "        e2 += dNdξ[i][2] * x[i] + 0.5*h*ζ * dNdξ[i][1] * p[i]\n",
    "    end\n",
    "\n",
    "    e1 /= norm(e1)\n",
    "    e2 /= norm(e2)\n",
    "\n",
    "    ez = Tensors.cross(e1,e2)\n",
    "    ez /= norm(ez)\n",
    "\n",
    "    a = 0.5*(e1 + e2)\n",
    "    a /= norm(a)\n",
    "\n",
    "    b = Tensors.cross(ez,a)\n",
    "    b /= norm(b)\n",
    "\n",
    "    ex = sqrt(2)/2 * (a - b)\n",
    "    ey = sqrt(2)/2 * (a + b)\n",
    "\n",
    "    return Tensor{2,3}(hcat(ex,ey,ez))\n",
    "end;"
   ],
   "metadata": {},
   "execution_count": 4
  },
  {
   "cell_type": "markdown",
   "source": [
    "##### Geometrical description\n",
    "A material point in the shell is defined as\n",
    "$$\n",
    "\\boldsymbol x(\\xi, \\eta, \\zeta) = \\sum_{a=1}^{N_{\\text{nodes}}} N_a(\\xi, \\eta) \\boldsymbol{\\bar{x}}_{a} + ζ \\frac{h}{2} \\boldsymbol{\\bar{p}_a}\n",
    "$$\n",
    "where $\\boldsymbol{\\bar{x}}_{a}$ are nodal positions on the mid-surface, and $\\boldsymbol{\\bar{p}_a}$ is an vector that defines the fiber direction\n",
    "on the reference surface. $N_a$ arethe shape functions.\n",
    "\n",
    "Based on the defintion of the position vector, we create an function for obtaining the Jacobian-matrix,\n",
    "$$\n",
    "J_{ij} = \\frac{\\partial x_i}{\\partial \\xi_j},\n",
    "$$"
   ],
   "metadata": {}
  },
  {
   "outputs": [],
   "cell_type": "code",
   "source": [
    "function getjacobian(q, N, dNdξ, ζ, X, p, h)\n",
    "\n",
    "    J = zeros(3,3)\n",
    "    for a in 1:length(N)\n",
    "        for i in 1:3, j in 1:3\n",
    "            _dNdξ = (j==3) ? 0.0 : dNdξ[a][j]\n",
    "            _dζdξ = (j==3) ? 1.0 : 0.0\n",
    "            _N = N[a]\n",
    "\n",
    "            J[i,j] += _dNdξ * X[a][i]  +  (_dNdξ*ζ + _N*_dζdξ) * h/2 * p[a][i]\n",
    "        end\n",
    "    end\n",
    "\n",
    "    return (q' * J) |> Tensor{2,3,Float64}\n",
    "end;"
   ],
   "metadata": {},
   "execution_count": 5
  },
  {
   "cell_type": "markdown",
   "source": [
    "##### Strains\n",
    "Small deformation is assumed,\n",
    "$$\n",
    "\\varepsilon_{ij}= \\frac{1}{2}(\\frac{\\partial u_{i}}{\\partial x_j} + \\frac{\\partial u_{j}}{\\partial x_i})\n",
    "$$\n",
    "The displacement field is calculated as:\n",
    "$$\n",
    "\\boldsymbol u = \\sum_{a=1}^{N_{\\text{nodes}}} N_a \\bar{\\boldsymbol u}_{a} +\n",
    " N_a ζ\\frac{h}{2}(\\theta_{a2} \\boldsymbol e^{f}_{a1} - \\theta_{a1} \\boldsymbol e^{f}_{a2})\n",
    "\n",
    "$$\n",
    "The gradient of the displacement (in the lamina coordinate system), then becomes:\n",
    "$$\n",
    "\\frac{\\partial u_{i}}{\\partial x_j} = \\sum_{m=1}^3 q_{im} \\sum_{a=1}^{N_{\\text{nodes}}} \\frac{\\partial N_a}{\\partial x_j} \\bar{u}_{am} +\n",
    " \\frac{\\partial(N_a ζ)}{\\partial x_j} \\frac{h}{2} (\\theta_{a2} e^{f}_{am1} - \\theta_{a1} e^{f}_{am2})\n",
    "$$"
   ],
   "metadata": {}
  },
  {
   "outputs": [],
   "cell_type": "code",
   "source": [
    "function strain(dofvec::Vector{T}, N, dNdx, ζ, dζdx, q, ef1, ef2, h) where T\n",
    "\n",
    "    u = reinterpret(Vec{3,T}, dofvec[1:12])\n",
    "    θ = reinterpret(Vec{2,T}, dofvec[13:20])\n",
    "\n",
    "    dudx = zeros(T, 3, 3)\n",
    "    for m in 1:3, j in 1:3\n",
    "        for a in 1:length(N)\n",
    "            dudx[m,j] += dNdx[a][j] * u[a][m] + h/2 * (dNdx[a][j]*ζ + N[a]*dζdx[j]) * (θ[a][2]*ef1[a][m] - θ[a][1]*ef2[a][m])\n",
    "        end\n",
    "    end\n",
    "\n",
    "    dudx = q*dudx\n",
    "    ε = [dudx[1,1], dudx[2,2], dudx[1,2]+dudx[2,1], dudx[2,3]+dudx[3,2], dudx[1,3]+dudx[3,1]]\n",
    "    return ε\n",
    "\n",
    "end;"
   ],
   "metadata": {},
   "execution_count": 6
  },
  {
   "cell_type": "markdown",
   "source": [
    "##### Main element routine\n",
    "Below is the main routine that calculates the stiffness matrix of the shell element.\n",
    "Since it is a so called degenerate shell element, the code is similar to that for an standard continuum element."
   ],
   "metadata": {}
  },
  {
   "outputs": [],
   "cell_type": "code",
   "source": [
    "function integrate_shell!(ke, cv, qr_ooplane, X, data)\n",
    "    nnodes = getnbasefunctions(cv)\n",
    "    ndofs = nnodes*5\n",
    "    h = data.thickness\n",
    "\n",
    "    #Create the directors in each node.\n",
    "    #Note: For a more general case, the directors should\n",
    "    #be input parameters for the element routine.\n",
    "    p = zeros(Vec{3}, nnodes)\n",
    "    for i in 1:nnodes\n",
    "        a = Vec{3}((0.0, 0.0, 1.0))\n",
    "        p[i] = a/norm(a)\n",
    "    end\n",
    "\n",
    "    ef1, ef2, ef3 = fiber_coordsys(p)\n",
    "\n",
    "    for iqp in 1:getnquadpoints(cv)\n",
    "\n",
    "        dNdξ = cv.dNdξ[:,iqp]\n",
    "        N = cv.N[:,iqp]\n",
    "\n",
    "        for oqp in 1:length(qr_ooplane.weights)\n",
    "\n",
    "            ζ = qr_ooplane.points[oqp][1]\n",
    "\n",
    "            q = lamina_coordsys(dNdξ, ζ, X, p, h)\n",
    "            J = getjacobian(q, N, dNdξ, ζ, X, p, h)\n",
    "            Jinv = inv(J)\n",
    "\n",
    "            dζdx = Vec{3}((0.0, 0.0, 1.0)) ⋅ Jinv\n",
    "            dNdx = [Vec{3}((dNdξ[i][1], dNdξ[i][2], 0.0)) ⋅ Jinv for i in 1:nnodes]\n",
    "\n",
    "\n",
    "            #For simplicity, use automatic differentiation to construct the B-matrix from the strain.\n",
    "            B = ForwardDiff.jacobian(\n",
    "                (a) -> strain(a, N, dNdx, ζ, dζdx, q, ef1, ef2, h), zeros(Float64, ndofs) )\n",
    "\n",
    "            dV = det(J) * cv.qr.weights[iqp] * qr_ooplane.weights[oqp]\n",
    "            ke .+= B'*data.C*B * dV\n",
    "        end\n",
    "    end\n",
    "end;"
   ],
   "metadata": {},
   "execution_count": 7
  },
  {
   "cell_type": "markdown",
   "source": [
    "Run everything:"
   ],
   "metadata": {}
  },
  {
   "outputs": [
    {
     "output_type": "execute_result",
     "data": {
      "text/plain": "1-element Vector{String}:\n \"linear_shell.vtu\""
     },
     "metadata": {},
     "execution_count": 8
    }
   ],
   "cell_type": "code",
   "source": [
    "main()"
   ],
   "metadata": {},
   "execution_count": 8
  },
  {
   "cell_type": "markdown",
   "source": [
    "---\n",
    "\n",
    "*This notebook was generated using [Literate.jl](https://github.com/fredrikekre/Literate.jl).*"
   ],
   "metadata": {}
  }
 ],
 "nbformat_minor": 3,
 "metadata": {
  "language_info": {
   "file_extension": ".jl",
   "mimetype": "application/julia",
   "name": "julia",
   "version": "1.8.3"
  },
  "kernelspec": {
   "name": "julia-1.8",
   "display_name": "Julia 1.8.3",
   "language": "julia"
  }
 },
 "nbformat": 4
}
